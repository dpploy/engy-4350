{
  "cells": [
    {
      "metadata": {
        "trusted": true
      },
      "cell_type": "code",
      "source": "!pip install iapws\n",
      "execution_count": 1,
      "outputs": [
        {
          "output_type": "stream",
          "text": "Requirement already satisfied: iapws in /home/nbuser/anaconda3_501/lib/python3.6/site-packages (1.4)\nRequirement already satisfied: scipy in /home/nbuser/anaconda3_501/lib/python3.6/site-packages (from iapws) (1.1.0)\n\u001b[33mWARNING: You are using pip version 19.1.1, however version 19.2.1 is available.\nYou should consider upgrading via the 'pip install --upgrade pip' command.\u001b[0m\n",
          "name": "stdout"
        }
      ]
    },
    {
      "metadata": {},
      "cell_type": "markdown",
      "source": "Engy-4350: Nuclear Reactor Engineering Spring 2019 UMass Lowell; Prof. V. F. de Almeida **19Mar2019**\n\n# 05. Two-Temperature Boiling Water Reactor Example\n$  \n  \\newcommand{\\Amtrx}{\\boldsymbol{\\mathsf{A}}}\n  \\newcommand{\\Bmtrx}{\\boldsymbol{\\mathsf{B}}}\n  \\newcommand{\\Mmtrx}{\\boldsymbol{\\mathsf{M}}}\n  \\newcommand{\\Imtrx}{\\boldsymbol{\\mathsf{I}}}\n  \\newcommand{\\Pmtrx}{\\boldsymbol{\\mathsf{P}}}\n  \\newcommand{\\Lmtrx}{\\boldsymbol{\\mathsf{L}}}\n  \\newcommand{\\Umtrx}{\\boldsymbol{\\mathsf{U}}}\n  \\newcommand{\\Smtrx}{\\boldsymbol{\\mathsf{S}}}\n  \\newcommand{\\xvec}{\\boldsymbol{\\mathsf{x}}}\n  \\newcommand{\\uvar}{\\boldsymbol{u}}\n  \\newcommand{\\fvar}{\\boldsymbol{f}}\n  \\newcommand{\\avec}{\\boldsymbol{\\mathsf{a}}}\n  \\newcommand{\\bvec}{\\boldsymbol{\\mathsf{b}}}\n  \\newcommand{\\cvec}{\\boldsymbol{\\mathsf{c}}}\n  \\newcommand{\\rvec}{\\boldsymbol{\\mathsf{r}}}\n  \\newcommand{\\mvec}{\\boldsymbol{\\mathsf{m}}}\n  \\newcommand{\\gvec}{\\boldsymbol{\\mathsf{g}}}\n  \\newcommand{\\zerovec}{\\boldsymbol{\\mathsf{0}}}\n  \\newcommand{\\norm}[1]{\\bigl\\lVert{#1}\\bigr\\rVert}\n  \\newcommand{\\transpose}[1]{{#1}^\\top}\n  \\DeclareMathOperator{\\rank}{rank}\n  \\newcommand{\\Power}{\\mathcal{P}}\n$"
    },
    {
      "metadata": {},
      "cell_type": "markdown",
      "source": "---\n## Table of Contents\n* [Objectives](#obj)\n* [Introduction](#intro)\n* [Problem Statement](#ps)\n* [Input Data](#data)\n* [Steady state](#ss)\n* [Vector ODE System](#vodes)\n* [Function library](#flib)\n* [One-Group Energy Neutron Balance](#nbal)\n* [Reactivity Step with Negative Feedback Results](#res1)\n* [Interactive Results](#ires)\n---"
    },
    {
      "metadata": {},
      "cell_type": "markdown",
      "source": "## Objectives<a id=\"obj\"></a>\n+ Use one-group energy, two-temperature, point-reactor dynamics modeling (six-group delayed neutron emitters) to obtain insight on neutron density behavior with time-dependent reactivity of a Boiling Water Reactor.\n+ Explore and understand intrinsic temperature reactivity coefficient feedback from nuclear sources."
    },
    {
      "metadata": {},
      "cell_type": "markdown",
      "source": "## Introduction<a id=\"intro\"></a>\n\nIn-class course notes OneNote [ChEn-4350-feedback](https://studentuml-my.sharepoint.com/:o:/g/personal/valmor_dealmeida_uml_edu/Eo9JUns42F1Pqmq4tFS9sJsBv2jF8UDQvRb5l5Z2D5ssag?e=FDeSpV).\n\nRefer to Notebook 03.\n"
    },
    {
      "metadata": {},
      "cell_type": "markdown",
      "source": "## Problem Statement<a id=\"ps\"></a>\n\nConsider a high temperature gas cooled reactor, with UO$_2$ fuel and a graphite moderator.\nGiven the neutron generation time $\\ell$, delayed neutron fraction, $\\beta$, decay constants of a six-group delayed neutron emitters, $\\lambda_i$, and corresponding yield of delayed neutron fractions for each emitter, $\\beta_i$, calculate the pointwise neutron density variation with time for **varying** neutron reactivity, $\\rho(t)$.\n\n![](images/point-reactor-hx.png)"
    },
    {
      "metadata": {},
      "cell_type": "markdown",
      "source": "## Input Data<a id=\"data\"></a>\n\nData pertaining to one-group energy neutron balance. \n\nName                        | Parameter     | Value                | Unit             |\n----------------------------|---------------|----------------------|------------------| \nneutron generation time                           | $\\ell$             | $1\\times 10^{-4}$    |  s | \ndelayed neutron fraction                          | $\\beta$            | $6.5\\times 10^{-3}$  |  - |\nneutron diffusion coeff.                          | $D$                | $0.84$              | cm |\ncore radius                                       | $R$                | $1.8\\times 10^{2}$  | cm  |\ncore height                                       | $H$                | $2.8\\times 10^{2}$  | cm  |\ninfinite medium neutron reproduction factor       | $k_\\infty$ | 1.118 | - |\ngraphite effective macroscopic absorption cross section ref. | $\\overline{\\Sigma}_\\text{a}^\\text{(o)} $ | $2.74\\times 10^{-4}$ |  cm$^{-1}$ |\nother quantities; possibly microscopic cross sections | . | . |\n. | . | . |\n\nFor thermal fission of $^{235}$U the following six-group delayed neutron precursors data is typically used (*Physics of Nuclear Kinetics*, G. R. Keepin, 1965, Addison-Wesley Pub. Co.):\n\n\nDelayed neutron emitter group No. | Decay cte ($\\lambda_i$,1/sec) | Relative yield ($\\beta_i/\\beta$) |\n----------------------------------|-------------------------------|----------------------------------| \n1                                 | 0.0124                        | 0.033                            |\n2                                 | 0.0305                        | 0.219                            | \n3                                 | 0.111                         | 0.196                            |  \n4                                 | 0.301                         | 0.395                            | \n5                                 | 1.14                          | 0.115                            |\n6                                 | 3.01                          | 0.042                            |"
    },
    {
      "metadata": {},
      "cell_type": "markdown",
      "source": "Data pertaining to two-temperature heat balances.\n\nName                        | Parameter     | Value                | Unit             |\n----------------------------|---------------|----------------------|------------------| \nfission energy per fission                        | $G_\\text{f}$  | 180               | MeV/fission |\n$^{235}$U fuel enrichment                         | $\\epsilon$ | 3 | wt% |\nUO$_2$ fuel material mass density                 | $\\rho_\\text{fm}$ | 10.5 | g/cc |\nmoderator-fuel ratio (atomic number concentration) | $N^{M}/N^{U}$ | 387 |\n$^{235}$U thermal microscopic fission cross section | $\\sigma_{\\text{f}_\\text{o}}$ | 586.2 | barn |\nthermal neutron temperature                       | $T^{(\\text{o})}$ | 20 | C |\nthermal neutron velocity                          | $v_\\text{(o)}$     | 2200 | m/s |\nheat transport coeff. | . | . | . |\nfuel/moderator heat capacity | . | . | . |\ncoolant heat capacity | . | . | . |\nfuel/moderator mass density | . | . | . |\ncoolant mass density | . | . | . |\nmoderator/fuel volume | . | . | . |\ncoolant volume | . | . | . |\ncoolant flow rate | . | . | . |\n\nThe residence time of the coolant in the core\n\n\\begin{equation*}\n\\tau = V_c / q_c\n\\end{equation*}\n"
    },
    {
      "metadata": {
        "trusted": true
      },
      "cell_type": "code",
      "source": "'''Parameters'''\nimport math\nimport iapws.iapws97 as steam\nparams = dict()\n\n#Data pertaining to one-group energy neutron balance\nparams['gen_time']     = 1.0e-4  # s\nparams['beta']         = 6.5e-3  # \n#params['diff_coeff']   = 0.84 # cm\n#params['core radius']  = 1.8e+2 # cm\n#arams['core_height']  = 2.8e+2 # cm\nparams['k_infty']      = 1.34477\nparams['buckling'] = 1.538e-4\n#params['Sigma_a']      = 2.74e-4 # 1/cm\nparams['q_0'] = 0\n\n#params['alpha_tn_fake'] = 0 # -1.0e-6\n\nparams['n_dens_ss_operation'] = 1 #1.963e13/2200 * 1e4 #  #neutrons/m^2\n\nparams['alpha_n'] = -1.5e-3 # control rod reactivity worth\n\n#Delayed neutron emission\nparams['species_decay']     = [0.0124, 0.0305, 0.111, 0.301, 1.14, 3.01] # 1/sec\nparams['species_rel_yield'] = [0.033, 0.219, 0.196, 0.395, 0.115, 0.042] \n\n#Data pertaining to two-temperature heat balances\nparams['fis_energy']           = 180 * 1.602e-13 # J/fission \nparams['enrich']               = 4.3/100.\nparams['fuel_mat_mass_dens']   = 10.5 # g/cc\n#params['moderator_fuel_ratio'] = 387 # atomic number concentration ratio\nparams['sigma_f_o']            = 586.2 * 100 * 1e-30 # m2\nparams['temp_o']               = 20 + 273.15 # K\nparams['temp_c_ss_operation']  =287.2 +273.15# K desired ss operation temp of coolant\nparams['thermal_neutron_velo'] = 2200 # m/s\n\nparams['fis_nuclide_num_dens_fake'] = 9.84e26 # (fissile nuclei)/m3\n\nparams['q_c'] = 303 # volumetric flow rate\n\nparams['fuel_dens']   = 10500 # kg/m3\nparams['cp_fuel']     = 300 # J/(kg K)\nparams['fuel_volume'] = 15.0157429 # m3\n\nparams['steam flowrate'] = 1820 # kg/s\nparams['coolant_dens']   = 600 #  kg/m3\nparams['cp_coolant']     =  4000# J/(mol K) - > J/(kg K)\nparams['coolant_volume'] = 3000 # m3\n\nparams['ht_coeff'] = 723761638.7 # W/K\n\nparams['m2'] = 28.44\n\nparams['turbine efficiency'] = 0.8 \nparams['condenser efficiency'] = 0.8\nparams['pump efficiency'] = 0.8\n\n#params['hx_dt'] = 11 + 273.15 # K  heat exchanger primary look temp difference\n\nparams['fis_prod_beta_energy_rate']  = 1.26 * 1.602e-13 # J/(fission sec) 1.26 t^-1.2 (t in seconds)\nparams['fis_prod_alpha_energy_rate'] = 1.40 * 1.602e-13 # J/(fission sec) 1.40 t^-1.2 (t in seconds)\n# % subcooling based on the % subcooling that exists at steady state\nparams['% subcooling'] =  (steam._Region4(7, 0)[\"h\"]  - steam._Region1(493.15, 7)[\"h\"])/(steam._Region4(7,0)[\"h\"])\n\n\n",
      "execution_count": 2,
      "outputs": []
    },
    {
      "metadata": {},
      "cell_type": "markdown",
      "source": "## One-Group Energy  Neutron Balance<a id=\"nbal\"></a>\n\nThe space-invariant neutron balance for the point-reactor model is\n\n\\begin{equation*}\n\\frac{\\text{d}n}{\\text{d}t}  = \\frac{\\rho(t)-\\beta}{\\ell}\\, n + \\sum\\limits_{i=1}^{6} \\lambda_i\\,c_i  + q(t),\n\\end{equation*}\n\nwhere the first term on the right side of the equation represents the net production of neutrons not accounting for delayed neutrons, and the second term accounts for the source of delayed neutrons considering 6 groups of delayed neutron emitters resulting from the fission of $^{235}$U nuclei. Therefore a balance of neutron emitter species is also necessary\n\n\\begin{equation*}\n\\frac{\\text{d}c_i}{\\text{d}t}  = \\frac{\\beta_i}{\\ell}\\, n - \\lambda_i\\,c_i ,\n     \\ \\ \\ \\ \\ \\forall \\ \\ \\ \\ \\  i=1,\\ldots,6.\n\\end{equation*}\n\nwhere the first term on the right side of the equation is the source of emitters as a function of the neutron number density $n(t)$, and the second term is the consumption rate of the emitter by radioactive decay obtained as a function of the product of the number concentration of the emmiter, $c_i(t)$, multiplied by its decay constant $\\lambda_i$. Here the number concentration of of the $i$th emitter, $c_i$ is considered in terms of delayed neutron number density, hence the units are the same as $n$.\n\nThe current model considers the temperature reactivity coefficient, $\\alpha_{T_n}$, that is, \n\n\\begin{equation*}\n \\rho(t) = \\rho_0 + \\alpha_{T_n}(T_f)\\,\\bigl(T_f(t) - T^{(0)}\\bigr),\n\\end{equation*}\n\nwhere basic nuclear effects are taking into account through the sub-model\n\n\\begin{equation*}\n \\alpha_{T_n}(T) = - \\frac{B^2\\,D}{2\\,k_\\infty\\,\\overline{\\Sigma}_a^{(\\text{o})}\\,\\sqrt{T^\\text{(o)}\\,T}}.\n\\end{equation*}\n\nA heat balance in the static fuel dispersed into the moderator gives\n\n\\begin{equation*}\n\\frac{\\text{d}T_f}{\\text{d}t} = - \\frac{1}{\\rho_f\\,c_{pf}}\\biggl(q^{'''}(t) - \\frac{\\dot{Q}_\\text{f}}{V_f} \\biggr) \n\\end{equation*}\n\nwhere the heat rate sink in the fuel/moderator is \n\n\\begin{equation*}\n{\\dot{Q}_\\text{f}} = -UA\\bigl(T_f-T_c\\bigr), \n\\end{equation*}\n\nand the nuclear heating power is given by\n\n\\begin{equation*}\nq^{'''}(t) = G_f\\frac{\\sqrt{\\pi}}{2}\\,\\sigma_\\text{fo}\\,\\sqrt{\\frac{T^\\text{(o)}}{T}}\\,\\biggl(\\frac{\\epsilon\\,w_\\text{fs}\\,\\rho_\\text{fm}}{M_\\text{fn}}\\,i\\,N_A\\biggr)\\,n(t)\\,v_\\text{(o)} .\n\\end{equation*}\n\nA heat balance in the flowing coolant fluid produces\n\n\\begin{equation*}\n\\frac{\\text{d}T_c}{\\text{d}t} = -\\frac{1}{\\tau_c}\\biggl(T_c-T_{in}\\biggr)  \n                                - \\frac{1}{\\rho_c\\,c_{pc}}\\biggl( \\frac{\\dot{Q}_\\text{f}}{V_c} \\biggr) \n\\end{equation*}\n\nwhere the heat rate source is the negative of the heat rate sink in the fuel/moderator."
    },
    {
      "metadata": {},
      "cell_type": "markdown",
      "source": "## Steady State<a id=\"ss\"></a>\n\nNeutron density and delayed neutron precursor concentrations are related as follows:\n\n\\begin{align*}\nn_\\text{ss}  &= -\\frac{q_\\text{ss}\\,\\ell }{\\rho_\\text{ss} }\n\\\\\nc_{i_\\text{ss}}  &= \\frac{\\beta_i}{\\lambda_i\\,\\ell}\\, n_\\text{ss}   \\ \\ \\ \\ \\forall \\ \\ \\ \\ i=1,\\ldots,6 .\n\\end{align*}"
    },
    {
      "metadata": {
        "code_folding": [
          2
        ],
        "trusted": true
      },
      "cell_type": "code",
      "source": "'''Setup function for delayed neutron species concentrations at steady state'''\n\ndef setup_initial_conditions(params):\n    \n    # setup the steady state for the delayed-neutron precursors\n    \n    n_species = len(params['species_decay'])\n    \n    assert len(params['species_rel_yield']) == n_species\n    \n    import numpy as np\n    c_vec_0 = np.zeros(n_species,dtype=np.float64) # initialize conentration vector\n\n    species_decay = params['species_decay'] # retrieve list of decay constants\n    lambda_vec    = np.array(species_decay) # create a numpy vector\n\n    species_rel_yield = params['species_rel_yield']\n    beta_vec = np.array(species_rel_yield) * beta  # create the beta_i's vector\n\n    gen_time = params['gen_time'] # retrieve neutron generation time\n\n    n_ss = params['n_ss']\n    c_vec_ss = beta_vec/lambda_vec/gen_time * n_ss # compute the steady state precursors number density\n    \n    params['c_vec_ss'] = c_vec_ss\n    \n    # setup initial condition for variables\n    params['n_0']     = n_ss\n    params['c_vec_0'] = c_vec_ss\n    params['rho_0']   = params['reactivity']\n    \n    params['temp_f_0'] = 300\n    params['temp_c_0'] = params['temp_0']\n    params['pressure_0'] = 1.013 # bar\n    \n    return\n",
      "execution_count": 3,
      "outputs": []
    },
    {
      "metadata": {},
      "cell_type": "markdown",
      "source": "## Vector ODE System<a id=\"vodes\"></a>\n\nRefer to course notes OneNote [ChEn-3170-odes](https://studentuml-my.sharepoint.com/:o:/g/personal/valmor_dealmeida_uml_edu/EmY427F-dSBKkpfFOx4ikf8BVAlJXL5iep1g7V7hcTQxJQ?e=98c69b).\n\nA vector notation for the foregoing system of equations greatly improves the generality of the derived computer code. Towards this goal let us define\n\n\\begin{equation*}\n\\frac{d\\uvar}{dt} = \\fvar( \\uvar, t )\n\\end{equation*}\n\nwhere $\\uvar(t) = (u_1,u_2,u_3,u_4,u_5,u_6,u_7)$ is the state vector and we assign \n\n\\begin{align*}\n u_1(t)&=n(t),\\\\\n u_2(t)&=c_1(t),\\\\\n u_3(t)&=c_2(t),\\\\\n u_4(t)&=c_3(t),\\\\\n u_5(t)&=c_4(t),\\\\\n u_6(t)&=c_5(t),\\\\\n u_7(t)&=c_6(t),\\\\\n u_8(t)&=T_f(t),\\\\\n u_9(t)&=T_c(t).\n\\end{align*}\n\nAlso for $\\fvar(\\uvar,t) = \\bigl(f_1(\\uvar,t), f_2(\\uvar,t), f_3(\\uvar,t), f_4(\\uvar,t), f_5(\\uvar,t), f_6(\\uvar,t), f_7(\\uvar,t)\\bigr)$ we assign \n\n\\begin{align*}\n f_1 & = \\frac{\\rho(t)-\\beta}{\\ell}\\, u_1 + \\sum\\limits_{i=2}^{7} \\lambda_i\\,u_i + q(t), \\\\\n f_2 & = \\frac{\\beta_1}{\\ell}\\, u_1 - \\lambda_1\\,u_2, \\\\\n f_3 & = \\frac{\\beta_2}{\\ell}\\, u_1 - \\lambda_2\\,u_3, \\\\\n f_4 & = \\frac{\\beta_3}{\\ell}\\, u_1 - \\lambda_3\\,u_4, \\\\\n f_5 & = \\frac{\\beta_4}{\\ell}\\, u_1 - \\lambda_4\\,u_5, \\\\\n f_6 & = \\frac{\\beta_5}{\\ell}\\, u_1 - \\lambda_5\\,u_6, \\\\\n f_7 & = \\frac{\\beta_6}{\\ell}\\, u_1 - \\lambda_6\\,u_7,  \\\\\n f_8 & = - \\frac{1}{\\rho_f\\,c_{pf}}\\biggl(q^{'''}(t) - \\frac{\\dot{Q}_\\text{f}}{V_f} \\biggr), \\\\\n f_9 & = -\\frac{1}{\\tau_c}\\biggl(T_c-T_{in}\\biggr)  \n                                - \\frac{1}{\\rho_c\\,c_{pc}}\\biggl( \\frac{\\dot{Q}_\\text{f}}{V_c} \\biggr).\n\\end{align*}\n\nFinally, the initial conditions given are as follows:\n\n\\begin{align*}\n u_1(0)&=n_0,\\\\\n u_2(0)&=c_{1_0},\\\\\n u_3(0)&=c_{2_0},\\\\\n u_4(0)&=c_{3_0},\\\\\n u_5(0)&=c_{4_0},\\\\\n u_6(0)&=c_{5_0},\\\\\n u_7(0)&=c_{6_0},\\\\\n u_8(0)&=T_{f_0},\\\\\n u_9(0)&=T_{c_0}\n\\end{align*}\n\n\nwhere $n_0$ and $c_{i_0}$ are initial values for the unknowns given by the problem specification."
    },
    {
      "metadata": {},
      "cell_type": "markdown",
      "source": "## Function Library <a id=\"flib\"></a>\n\nFunctions used later in the notebook."
    },
    {
      "metadata": {},
      "cell_type": "markdown",
      "source": "Reactivity coefficient based on nuclear effects through the sub-model. As this reactor uses a two-group neutron transport model (since water is both the moderator and the coolant), the derived equation is slightly different. M is the neutron transport area, which replaces L.\n\n\\begin{equation*}\n\\alpha_{T_n}(T) = - 2 \\frac{B^2\\,M^2}{k_\\infty}\\, 0.320886 \\, (1 / T)^{0.75}\n\\end{equation*}"
    },
    {
      "metadata": {
        "code_folding": [],
        "trusted": true
      },
      "cell_type": "code",
      "source": "'''Reactivity coefficient function'''\n\ndef alpha_tn_func(temp):\n    '''\n    Place holder for implementation\n    '''\n    \n    buckling = params['buckling']\n    m2 = params['m2']\n    k_infty = params['k_infty']\n    T = temp\n    \n    alpha_tn = -2 * (buckling **2)  * math.sqrt(m2) * (1 / k_infty) * 0.320886 * (1 / T)**0.75\n    \n    \n    return alpha_tn\n\n",
      "execution_count": 4,
      "outputs": []
    },
    {
      "metadata": {
        "code_folding": [],
        "trusted": true
      },
      "cell_type": "code",
      "source": "'''Reactivity function'''\n\ndef rho_func( t, n_dens, temp, params ):\n    '''\n    Reactivity function.  \n    \n    Parameters\n    ----------\n    t: float, required\n        Time.\n    temp_f: float, required\n        Temperature at time t.\n    params: dict, required\n        Dictionary of quantities. It must have a `'rho_0'` key/value pair.\n    \n    Returns\n    -------\n    rho_t: float\n        Value of reactivity.\n\n    Examples\n    --------\n    '''\n    \n    rho_0  = params['rho_0']\n    temp_ref = params['temp_c_ss_operation']\n    n_dens_ss_operation = params['n_dens_ss_operation']\n    alpha_n = params['alpha_n']\n    \n    alpha_tn = alpha_tn_func(temp)\n    \n    rho_t = rho_0 + alpha_n * (n_dens) + alpha_tn * (temp - temp_ref)\n    \n    #print(rho_t)\n    #print(n_dens)\n        \n    return rho_t",
      "execution_count": 5,
      "outputs": []
    },
    {
      "metadata": {
        "code_folding": [
          2
        ],
        "trusted": true
      },
      "cell_type": "code",
      "source": "'''Source function'''\n\ndef q_source( t, params ):\n    '''\n    Neutron source delta function.  \n    \n    Parameters\n    ----------\n    t: float, required\n        Time.\n    params: dict, required\n        Dictionary of quantities. It must have a `'q_0'` key/value pair.\n    \n    Returns\n    -------\n    q: float\n        Value of source.\n\n    Examples\n    --------\n    '''\n    \n    q = 0\n    q_0 = params['q_0']\n    \n    if t <= 1e-5: # small time value\n        q = q_0\n    else:\n        q = 0.0\n        \n    return q\n\n#print(\"done\")",
      "execution_count": 6,
      "outputs": []
    },
    {
      "metadata": {},
      "cell_type": "markdown",
      "source": "The effective fission microscopic cross section for thermal neutrons will be taken as:\n\n\\begin{equation*}\n\\overline{\\sigma}_\\text{f}(T) = \\frac{\\sqrt{\\pi}}{2}\\,\\sigma_\\text{fo}\\,\\sqrt{\\frac{T^\\text{(o)}}{T}}\n\\end{equation*}"
    },
    {
      "metadata": {
        "code_folding": [],
        "trusted": true
      },
      "cell_type": "code",
      "source": "'''Effective microscopic fission cross section'''\n\ndef sigma_fis_func( temp, params ):\n    '''\n    Place holder for implementation\n    '''\n    \n    sigma_f = params['sigma_f_o'] * math.sqrt(298/temp) * math.sqrt(math.pi) * 0.5\n    \n    return sigma_f\n\n",
      "execution_count": 7,
      "outputs": []
    },
    {
      "metadata": {},
      "cell_type": "markdown",
      "source": "The nuclear heating power is given by\n\n\\begin{equation*}\nq^{'''}(t) = G_f\\,\\overline{\\sigma}_\\text{f}(T)\\,N_\\text{fn} \\,\\varphi(t) .\n\\end{equation*}"
    },
    {
      "metadata": {
        "code_folding": [],
        "trusted": true
      },
      "cell_type": "code",
      "source": "'''Nuclear power density function'''\n\ndef nuclear_pwr_dens_func( time, temp, n_dens, params ):\n    '''\n    Place holder for implementation\n    '''\n    \n    rxn_heat = params['fis_energy'] # get fission reaction energy J per reaction\n    \n    sigma_f = sigma_fis_func( temp, params ) # m2\n    \n    fis_nuclide_num_dens = params['fis_nuclide_num_dens_fake'] #  #/m3\n    \n    Sigma_fis = sigma_f * fis_nuclide_num_dens # macroscopic cross section\n    \n    v_o = params['thermal_neutron_velo'] # m/s\n    \n    neutron_flux = n_dens * 9.08E14 * v_o\n    \n     #reaction rate density\n    rxn_rate_dens = Sigma_fis * neutron_flux\n    \n    # nuclear power source\n    q3prime = - rxn_heat * rxn_rate_dens # exothermic reaction W/m3\n    #q3prime = - n_dens * 3323E6\n    #print(\"q3prime\")\n    #print(q3prime)\n    \n    return q3prime",
      "execution_count": 8,
      "outputs": []
    },
    {
      "metadata": {},
      "cell_type": "markdown",
      "source": "The cooling heat rate is:\n\n\\begin{equation*}\n{\\dot{Q}_\\text{f}} = -UA\\bigl(T_f-T_c\\bigr). \n\\end{equation*}"
    },
    {
      "metadata": {
        "code_folding": [],
        "trusted": true
      },
      "cell_type": "code",
      "source": "'''Cooling heat rate'''\n\ndef heat_sink_rate( time, temp_f, temp_c, params):\n    \n    ht_coeff = params['ht_coeff']\n    \n    q_f = - ht_coeff * (temp_f - temp_c)\n    #print(q_f)\n    \n    return q_f",
      "execution_count": 9,
      "outputs": []
    },
    {
      "metadata": {},
      "cell_type": "markdown",
      "source": "Pressure calculations follow the ideal gas law:\n\n\\begin{equation*}\nP = 0.1*\\frac{nRT}{V}\\\n\\end{equation*}\n\nWith n = 101111 moles, R = 8.314 * 10^-5 m^3 bar K^−1 mol^−1 , T as the temperature in kelvin, V as the volume of 85 m^3 and 10 being the conversion factor from bar to mPa. The calculation used returns pressure in units of mPa."
    },
    {
      "metadata": {
        "trusted": true
      },
      "cell_type": "code",
      "source": "def pressureCalc(temperature):\n    # calculates the pressure exerted by steam in the reactor at any temperature T. Returns units of mPa\n    \n    n = 101111 # moles\n    R = 0.00008314 # m^3 bar k^-1 mol^-1\n    V = 85 # m^3\n    \n    pressure = n * R * temperature / V # PV = NRT\n    pressure = 0.1 * pressure # convert pressure in bars to pressure in to mPa\n    \n    #print(pressure)\n    \n    return pressure\n",
      "execution_count": 10,
      "outputs": []
    },
    {
      "metadata": {
        "trusted": true
      },
      "cell_type": "code",
      "source": "def f_vec(time, u_vec, params):\n    assert np.all(u_vec >= 0.0)\n    \n    n_dens = u_vec[0] # get neutron dens\n\n    c_vec = u_vec[1:-2] # get delayed neutron emitter concentration\n    \n    temp_f = u_vec[-2] # get temperature of fuel\n    \n    temp_c = u_vec[-1] # get temperature of coolant\n    \n    # initialize f_vec to zero\n    species_decay = params['species_decay']\n    lambda_vec = np.array(species_decay)\n    n_species  = len(lambda_vec)\n    \n    f_tmp = np.zeros(1+n_species+2,dtype=np.float64) # vector for f_vec return\n    \n    #----------------\n    # neutron balance\n    #----------------\n    rho_t    = rho_func(time, n_dens, (temp_f+temp_c)/2.0, params)\n    \n    beta     = params['beta']\n    gen_time = params['gen_time']\n       \n    species_rel_yield = params['species_rel_yield']\n    beta_vec = np.array(species_rel_yield) * beta\n    \n    assert len(lambda_vec)==len(beta_vec)\n    \n    q_source_t = q_source(time, params)\n    \n    f_tmp[0] = (rho_t - beta)/gen_time * n_dens + lambda_vec @ c_vec + q_source_t\n    \n    #-----------------------------------\n    # n species balances (implicit loop)\n    #-----------------------------------\n    f_tmp[1:-2] = beta_vec/gen_time * n_dens - lambda_vec * c_vec\n    \n    #--------------------\n    # fuel energy balance\n    #--------------------\n    rho_f    = params['fuel_dens']\n    cp_f     = params['cp_fuel']\n    vol_fuel = params['fuel_volume']\n    \n    pwr_dens = nuclear_pwr_dens_func( time, (temp_f+temp_c)/2, n_dens, params )\n    \n    heat_sink = heat_sink_rate( time, temp_f, temp_c, params )\n    #assert heat_sink <= 0.0,'heat_sink = %r'%heat_sink\n    \n    f_tmp[-2] =  -1/rho_f/cp_f * ( pwr_dens - heat_sink/vol_fuel )\n    \n    #-----------------------\n    # coolant energy balance\n    #-----------------------\n    rho_c    = params['coolant_dens']\n    cp_c     = params['cp_coolant']\n    vol_cool = params['coolant_volume']\n    \n    # subcooled liquid\n    turbine_out = turbine1.expand(time, temp_c, params) #run the turbine, take the runoff and pass to condenser\n    condenser_out = condenser1.compress(time, turbine_out, temp_c, params) #run the condenser, pass runoff to the pump\n    pump_out = pump1.pumping(time, condenser_out, temp_c, params)#run the pump, runoff returns to reactor as temp_in\n    #print(\"time is \", time, \"and inlet temperature is\", temp_in, \"\\n\")\n    \n    temp_in = pump_out\n    \n    tau = params['tau_fake']\n    \n    heat_source = - heat_sink\n    \n    f_tmp[-1] = - 1/tau * (temp_c - temp_in) + 1./rho_c/cp_c/vol_cool * heat_source\n    \n    # pressure calculations\n\n    #print(time)\n    #print(u_vec)\n    return f_tmp",
      "execution_count": 43,
      "outputs": []
    },
    {
      "metadata": {
        "code_folding": [
          2
        ],
        "trusted": true
      },
      "cell_type": "code",
      "source": "'''Create the point-reactor run function'''\n\ndef run_point_reactor( f_vec, params ):\n\n    from scipy.integrate import odeint # Load ODE solver package\n\n    import numpy as np\n    time_final = params['time_final']\n    n_time_stamps = params['n_time_stamps']\n    time_stamps = np.linspace(0.0, time_final, num=n_time_stamps) # create the time stamps for solution values\n    params['time_stamps'] = time_stamps\n    \n    max_n_steps_per_time_step = 1000 # max number of nonlinear algebraic solver iterations per time step\n\n    n_0     = params['n_0']\n    c_vec_0 = params['c_vec_0']\n    \n    temp_f_0 = params['temp_f_0']\n    temp_c_0 = params['temp_c_0']\n    pressure_0 = params['pressure_0']\n       \n    # m-equation point reactor model\n    n_species = len(c_vec_0)\n    u_vec_0 = np.zeros(1+n_species+2,dtype=np.float64)\n    \n    u_vec_0[0]    = n_0\n    u_vec_0[1:-2] = c_vec_0\n    u_vec_0[-2]   = temp_f_0\n    u_vec_0[-1]   = temp_c_0\n    #u_vec_0[-1]   = pressure_0\n            \n    (u_vec_history, info_dict) = odeint( f_vec, u_vec_0, time_stamps,\n                                         args=( params, ),\n                                         rtol=1e-4, atol=1e-8, mxstep=max_n_steps_per_time_step,\n                                         full_output=1, tfirst=True )\n    #print(n_dens)\n    #print(u_vec)\n    #print(time_stamps)\n    #print\n\n    assert info_dict['message']=='Integration successful.',\\\n                     'Fatal: scipy.integrate.odeint failed %r'%info_dict['message']\n    \n    return u_vec_history",
      "execution_count": 12,
      "outputs": []
    },
    {
      "metadata": {
        "code_folding": [],
        "trusted": true
      },
      "cell_type": "code",
      "source": "'''Plotting function definition'''\n\ndef plot_results( u_vec_history, normalize=True, semi_log=False, markers=False, precursors=True ):\n    \n    time_stamps = params['time_stamps']/3600\n    tau = params['tau_fake']\n        \n    import matplotlib.pyplot as plt\n    \n    fig, ax1 = plt.subplots(1, figsize=(14, 6))\n\n    if precursors == True:\n        \n        ax2 = ax1.twinx() # duplicate x axes to plot n and c_i's in different y axes\n    \n        color_ids = np.linspace(0,1,u_vec_history[:,1:-2].shape[1])\n    \n        for (j,color_id) in zip( range(u_vec_history[:,1:-2].shape[1]), color_ids ):\n            color=plt.cm.nipy_spectral(color_id)\n        \n            if normalize == True:\n                ax2.plot( time_stamps,u_vec_history[:,j+1]/params['c_vec_0'][j],'-.',color=color,label=r'$c_%i$'%(j+1) )\n                ax2.set_ylabel(r'$c_i/c_{i_0}$',fontsize=16,color='black')\n            else:\n                ax2.plot( time_stamps,u_vec_history[:,j+1],'-.',color=color,label=r'$c_%i$'%(j+1) )\n                ax2.set_ylabel(r'$c_i$',fontsize=16,color='black')\n        \n        ax2.tick_params(axis='y', labelcolor='black', labelsize=14)\n        ax2.legend(loc='lower right',fontsize=12)\n        if semi_log == True:\n            ax2.set_yscale('log') # uncomment to plot y in log scale\n        #ax2.grid(True)\n\n    if markers == True:\n        if normalize == True:\n            ax1.plot( time_stamps,u_vec_history[:,0]/params['n_0'],'-',marker='+',color='red',label=r'$n/n_0$' )\n            ax1.set_ylabel(r'$n$',fontsize=16,color='black')\n        else:\n            ax1.plot( time_stamps,u_vec_history[:,0],'-',marker='+',color='red',label=r'$n$' )\n            ax1.set_ylabel(r'$n$',fontsize=16,color='black')\n    else:\n        if normalize == True:\n            ax1.plot(time_stamps,u_vec_history[:,0]/params['n_0'],'-',color='red',label=r'$n/n_0$' )\n            ax1.set_ylabel(r'$n/n_0$',fontsize=16,color='black')\n        else:\n            ax1.plot(time_stamps,u_vec_history[:,0],'-',color='red',label=r'$n$' )\n            ax1.set_ylabel(r'$n$',fontsize=16,color='black')\n\n    ax1.set_xlabel(r'Time [h]',fontsize=16)\n    \n    ax1.tick_params(axis='y', labelcolor='black', labelsize=14)\n    ax1.tick_params(axis='x', labelsize=14)\n    ax1.legend(loc='best',fontsize=12)\n    if semi_log == True:\n        ax1.set_yscale('log') # uncomment to plot y in log scale\n    ax1.grid(True)\n\n    plt.title(r'Point-Reactor Model: $\\rho/\\beta=$'\n              +str(params['reactivity']/params['beta'])\n              +r'; $q_0=$'+str(round(params['q_0'],2)),\n              fontsize=18)\n    fig.tight_layout()  # otherwise the right y-label is slightly clipped\n    plt.show() \n\n    print('')",
      "execution_count": 13,
      "outputs": []
    },
    {
      "metadata": {
        "code_folding": [
          2
        ],
        "trusted": true
      },
      "cell_type": "code",
      "source": "'''Utility function to peak at results table'''\n\ndef peek(time,data, head=500, tail=100):  \n\n    import pandas as pd\n    \n    pd.options.display.float_format = '{:.2e}'.format\n    \n    layout = {'time':time[:head]}\n    \n    layout['n'] = data[:head,0]\n    \n    for j in range(1,data[:,1:-2].shape[1]+1):\n        layout['c_%i'%j] = data[:head,j]\n        \n    layout['temp_f'] = data[:head,-2]\n    layout['temp_c'] = data[:head,-1]\n        \n    results = pd.DataFrame(layout)\n    print(round(results,2))\n    print('')\n    \n    #layout = {'time':time[-tail:]}\n    \n    #layout['n'] = data[-tail:,j]\n    \n    #for j in range(1,data[:,1:-2].shape[1]+1):\n       # layout['c_%i'%j] = data[-tail:,j]\n    \n   # layout['temp_f'] = data[-tail:,-2]\n   # layout['temp_c'] = data[-tail:,-1]\n               \n   # results = pd.DataFrame(layout)\n   # print(round(results,2))\n   # print('')",
      "execution_count": 14,
      "outputs": []
    },
    {
      "metadata": {},
      "cell_type": "markdown",
      "source": "A boiling water reactor only has a single primary heating loop, as opposed to most other types of reactors which have a primary loop that cycles liquid through the reactor core and passes heat to a secondary loop to power a turbine. A boiling water reactor only has a single loop: water is boiled in the core, and then the saturated steam it produces is directly passed through a turbine, and then condensed and pumped back into the core as a subcooled liquid. The coolant_inlet_temp_func takes into account the state of the steam leaving the top of the reactor, and the specifics of the turbine and condensation processes (and in the future the pumping process as well) to determine the temperature of the subcooled liquid being returned to the bottom of the reactor.\n\n# The Reactor\nThe reactor operates off a point reactor model, governed by the neutron and heat balance equations discussed above. It takes the subcooled liquid provided by the pump as input and passes steam to the turbine as output.\n\n# The Turbine\nTemperature and pressure of the coolant leaving the reactor is given by temp_c and pressure; these two variables are used with the IAPWS package (under the IAPWS-97 standards) to determine the specific enthalpy of the steam leaving the reactor. The turbine expands any steam passing through it to 0.035 kPa. This process is NOT assumed to be isentropic, and instead operates at 80% of maximum isentropic efficiency.\n\n\\begin{equation*}\nW_\\text{s}(isentropic) = H_\\text{steam}(T_\\text{c}, P_\\text{c}) - H_\\text{water}(100 Celcius, 1 bar)\n\\end{equation*}\n\\begin{equation*}\nW_\\text{s}(actual) = (0.8)(W_\\text{s}(isentropic)\n\\end{equation*}\n\\begin{equation*}\nW_\\text{s}(actual) = H_\\text{steam}(T_\\text{c}, P_\\text{c}) - H_\\text{runoff}(T_\\text{runoff}, 1 bar)\n\\end{equation*}\n\n# The Condenser\nThe condenser takes the runoff from the turbine and turns it into a subcooled liquid. The degree to which it is subcooled varies, and is given as a % difference in the enthalpy of the subcooled liquid and the enthalpy of the saturated liquid. It the subcooled liquid runoff from the condenser is then passed to a pump which pumps the liquid to the pressure of the reactor.\n\n# The Pump\nThe pump takes the subcooled liquid runoff from the condenser and pumps it back into the bottom of the reactor at the current operating pressure of the reactor.\n"
    },
    {
      "metadata": {
        "trusted": true
      },
      "cell_type": "code",
      "source": "class reactor:\n    @staticmethod\n    def pt_reactor(time, u_vec, params):\n        assert np.all(u_vec >= 0.0)\n    \n        n_dens = u_vec[0] # get neutron dens\n\n        c_vec = u_vec[1:-2] # get delayed neutron emitter concentration\n    \n        temp_f = u_vec[-2] # get temperature of fuel\n    \n        temp_c = u_vec[-1] # get temperature of coolant\n    \n        # initialize f_vec to zero\n        species_decay = params['species_decay']\n        lambda_vec = np.array(species_decay)\n        n_species  = len(lambda_vec)\n    \n        f_tmp = np.zeros(1+n_species+2,dtype=np.float64) # vector for f_vec return\n    \n        #----------------\n        # neutron balance\n        #----------------\n        rho_t    = rho_func(time, n_dens, (temp_f+temp_c)/2.0, params)\n    \n        beta     = params['beta']\n        gen_time = params['gen_time']\n       \n        species_rel_yield = params['species_rel_yield']\n        beta_vec = np.array(species_rel_yield) * beta\n    \n        assert len(lambda_vec)==len(beta_vec)\n    \n        q_source_t = q_source(time, params)\n    \n        f_tmp[0] = (rho_t - beta)/gen_time * n_dens + lambda_vec @ c_vec + q_source_t\n    \n        #-----------------------------------\n        # n species balances (implicit loop)\n        #-----------------------------------\n        f_tmp[1:-2] = beta_vec/gen_time * n_dens - lambda_vec * c_vec\n    \n        #--------------------\n        # fuel energy balance\n        #--------------------\n        rho_f    = params['fuel_dens']\n        cp_f     = params['cp_fuel']\n        vol_fuel = params['fuel_volume']\n    \n        pwr_dens = nuclear_pwr_dens_func( time, (temp_f+temp_c)/2, n_dens, params )\n    \n        heat_sink = heat_sink_rate( time, temp_f, temp_c, params )\n        #assert heat_sink <= 0.0,'heat_sink = %r'%heat_sink\n    \n        f_tmp[-2] =  -1/rho_f/cp_f * ( pwr_dens - heat_sink/vol_fuel )\n    \n        #-----------------------\n        # coolant energy balance\n        #-----------------------\n        rho_c    = params['coolant_dens']\n        cp_c     = params['cp_coolant']\n        vol_cool = params['coolant_volume']\n    \n        # subcooled liquid\n        turbine_out = turbine1.expand(self, time, temp_c, params) #run the turbine, take the runoff and pass to condenser\n        condenser_out = condenser1.compress(time, turbine_out, temp_c, params) #run the condenser, pass runoff to the pump\n        pump_out = pump1.pumping(time, condenser_out, temp_c, params)#run the pump, runoff returns to reactor as temp_in\n        #print(\"time is \", time, \"and inlet temperature is\", temp_in, \"\\n\")\n    \n        tau = params['tau_fake']\n    \n        heat_source = - heat_sink\n    \n        f_tmp[-1] = - 1/tau * (temp_c - temp_in) + 1./rho_c/cp_c/vol_cool * heat_source\n    \n        # pressure calculations\n\n        #print(time)\n        #print(u_vec)\n        return f_tmp\n        ",
      "execution_count": 15,
      "outputs": []
    },
    {
      "metadata": {
        "trusted": true
      },
      "cell_type": "code",
      "source": "class turbine:\n    \n    # store the instantaneous work output of the turbine at each time stamp in a dictionary with time stamps as keys\n    def __init__(self):\n        self.turbine_work_history = list()\n    \n    def expand(self, time, temp_in, params):\n        #expand the entering steam from whatever temperature and pressure it enters at to 0.035 kpa, with 80% efficiency.\n        \n        #pressure of steam when it enters the turbine equals the current reactor operating pressure\n        pressure = pressureCalc(temp_in) \n        \n        #print(\"Pressure is \" + str(pressure) + \" and temperature is \" + str(temp_c))\n        \n        #enthalpy of the steam coming out of the reactor; for now, assume 100% quality or superheated steam\n        h_steam = steam._Region1(temp_in, pressure)[\"h\"] \n        \n        h_liquid = steam._Region4(pressure, 0)[\"h\"]#enthalpy of the ideal liquid runoff\n        \n        #print(pressure, temp_in)\n        \n        w_isentropic = h_steam - h_liquid # isentropic work\n        w_real = params['turbine efficiency'] * w_isentropic # actual work\n        h_real = h_steam - w_real # h_end = h_in - w\n        w_real = w_real * params['steam flowrate'] #multiply work done/kg steam by amount of steam to get total work\n        \n        self.turbine_work_history.append(w_real) #update the storage dictionary\n        \n        t_runoff = steam._Backward1_T_Ph(0.00035, h_real) # this goes to the condenser\n        return t_runoff\n    ",
      "execution_count": 44,
      "outputs": []
    },
    {
      "metadata": {
        "trusted": true
      },
      "cell_type": "code",
      "source": "class condenser:\n    \n    # store the instantaneous work required by the condenser at each time stamp in a dictionary with time stamps as keys\n    def __init__(self): \n        self.condenser_work_history = list()\n    \n    def compress(self, time, temp_in, temp_c, params):\n        #compress the liquid to 101.3 kpa and store the work done by the condenser\n        \n        pressure = pressureCalc(temp_c) # current reactor operating pressure that the runoff must be compressed to\n        \n        subcooling = params['% subcooling']\n        \n        h_saturated = steam._Region4(pressure, 0)[\"h\"] # enthalpy of water at 1 atm\n        h_subcooled = subcooling * h_saturated #enthalpy of the desired liquid runoff from the condenser\n        \n        h_turbine = steam._Region1(temp_in, 0.000035)[\"h\"] #enthalpy of the liquid leaving the turbine\n        \n        work_done = h_subcooled - h_turbine #work done by the condenser per kg steam effluent\n        work_done = work_done * params['steam flowrate'] / params['condenser efficiency']\n        \n        self.condenser_work_history.append(work_done)\n        \n        t_runoff = steam._Backward1_T_Ph(pressure, h_subcooled) #runoff temperature\n        return t_runoff\n    ",
      "execution_count": 31,
      "outputs": []
    },
    {
      "metadata": {
        "trusted": true
      },
      "cell_type": "code",
      "source": "class pump:\n    \n    #store the instantaneous work required to pump the subcooled liquid effluent from the condenser to reactor pressure\n    def __init__(self):\n        pump_work_history = dict()\n    \n    def pumping(self, time, temp_effluent, temp_c, params):\n        #placeholder for a more accurate pumping function that includes a slight temperature increase and work done\n        return temp_effluent\n    \n        \n    ",
      "execution_count": 18,
      "outputs": []
    },
    {
      "metadata": {
        "trusted": true
      },
      "cell_type": "code",
      "source": "print(len(turbine1.turbine_work_history))\nprint(len(u_vec_history))\n",
      "execution_count": 33,
      "outputs": [
        {
          "output_type": "stream",
          "text": "241\n500\n",
          "name": "stdout"
        }
      ]
    },
    {
      "metadata": {
        "trusted": true
      },
      "cell_type": "code",
      "source": "def quantities(u_vec_history, params, time_stamps):\n    import pandas as pd\n    data = dict()\n    \n    twork = list() #turbine work\n    cwork = list() #condenser work\n    nwork = list()\n    #pwork = list() # pump work\n    \n    q3_list = list() #temp storage for q3 prime\n    removed_heat_list = list() #manipulated q3 prime\n    \n    turbine_work = turbine1.turbine_work_history\n    condenser_work = condenser1.condenser_work_history\n    \n    for (time, n_dens, temp_f, temp_c) in zip(time_stamps, u_vec_history[:,0], u_vec_history[:,-2], u_vec_history[:,-1]):\n        \n        q3prime = nuclear_pwr_dens_func(time, temp_f, n_dens, params) # calculate q3prime at this point in time\n        q3_list.append(q3prime)\n        \n        heat_removed = -1 * heat_sink_rate(\"false\", temp_f, temp_c, params) # calculate the heat removed at this point in time\n        removed_heat_list.append(heat_removed)\n        \n        twork.append(turbine_work[time]) # turbine work at this point in time\n        cwork.append(condenser_work[time]) # condenser work at this point in time\n        net_work = turbine_work[time] - abs(condenser_work[time]) # net positive work = turbine - condenser - pump\n        nwork.append(net_work)\n        #pwork.append(pump_work[time])        \n    \n    #data['time [s]'] = time_stamps\n    data[\"q''' [W/m3]\"] =  q3_list \n    data[\"heat removed [W/m3]\"] = removed_heat_list\n    data[\"turbine work [kW]\"] = twork\n    data[\"condenser work [kW]\"] = cwork\n    data[\"net work [kW]\"] = net_work\n    \n    quantities = pd.DataFrame( data )\n    return(quantities)\n",
      "execution_count": 19,
      "outputs": []
    },
    {
      "metadata": {},
      "cell_type": "markdown",
      "source": "## Reactor Startup: Reactivity Step with Pulsed Source<a id=\"res1\"></a>\n\nNeutronless reactor before time zero. At time zero, apply a pulsed source and a reactivity step."
    },
    {
      "metadata": {
        "trusted": true
      },
      "cell_type": "code",
      "source": "'''Setup up initial conditions'''\n\nimport numpy as np\n\ngen_time = params['gen_time'] # retrieve neutron generation time\nparams['q_0'] = 1\n\nparams['n_ss'] = 0 # neutronless steady state before start up\n\nrho_0_over_beta = 0.25 # $\n\nbeta = params['beta'] # retrieve the delayed neutron fraction\nparams['reactivity'] = rho_0_over_beta * beta # \"rho/beta = 10 cents\"\n\nparams['temp_0'] = params['temp_o']\n\nparams['tau_fake'] = 2 # s\n#instantiate the unit op classes\nreactor1 = reactor()\nturbine1 = turbine()\ncondenser1 = condenser()\npump1 = pump()\n# setup remaining initial conditions\nsetup_initial_conditions(params)",
      "execution_count": 20,
      "outputs": []
    },
    {
      "metadata": {
        "trusted": true
      },
      "cell_type": "code",
      "source": "'''Evolve the point-reactor'''\n\ntime_final    = 1200# 450 # s\nn_time_stamps = 500 # number of solution values in time\n\nparams['time_final']    = time_final\nparams['n_time_stamps'] = n_time_stamps\n\n# Run the reactor and compute the history of the state variables; tabular form, one row per time stamp\nu_vec_history = run_point_reactor( f_vec, params )\n#print(u_vec_history)\nprint(\"done\")",
      "execution_count": 46,
      "outputs": [
        {
          "output_type": "stream",
          "text": "gilead\ngilead\ngilead\ngilead\ngilead\ngilead\ngilead\ngilead\ngilead\ngilead\ngilead\ngilead\ngilead\ngilead\ngilead\ngilead\ngilead\ngilead\ngilead\ngilead\ngilead\ngilead\ngilead\ngilead\ngilead\ngilead\ngilead\ngilead\ngilead\ngilead\ngilead\ngilead\ngilead\ngilead\ngilead\ngilead\ngilead\ngilead\ngilead\ngilead\ngilead\ngilead\ngilead\ngilead\ngilead\ngilead\ngilead\ngilead\ngilead\ngilead\ngilead\ngilead\ngilead\ngilead\ngilead\ngilead\ngilead\ngilead\ngilead\ngilead\ngilead\ngilead\ngilead\ngilead\ngilead\ngilead\ngilead\ngilead\ngilead\ngilead\ngilead\ngilead\ngilead\ngilead\ngilead\ngilead\ngilead\ngilead\ngilead\ngilead\ngilead\ngilead\ngilead\ngilead\ngilead\ngilead\ngilead\ngilead\ngilead\ngilead\ngilead\ngilead\ngilead\ngilead\ngilead\ngilead\ngilead\ngilead\ngilead\ngilead\ngilead\ngilead\ngilead\ngilead\ngilead\ngilead\ngilead\ngilead\ngilead\ngilead\ngilead\ngilead\ngilead\ngilead\ngilead\ngilead\ngilead\ngilead\ngilead\ngilead\ngilead\ngilead\ngilead\ngilead\ngilead\ngilead\ngilead\ngilead\ngilead\ngilead\ngilead\ngilead\ngilead\ngilead\ngilead\ngilead\ngilead\ngilead\ngilead\ngilead\ngilead\ngilead\ngilead\ngilead\ngilead\ngilead\ngilead\ngilead\ngilead\ngilead\ngilead\ngilead\ngilead\ngilead\ngilead\ngilead\ngilead\ngilead\ngilead\ngilead\ngilead\ngilead\ngilead\ngilead\ngilead\ngilead\ngilead\ngilead\ngilead\ngilead\ngilead\ngilead\ngilead\ngilead\ngilead\ngilead\ngilead\ngilead\ngilead\ngilead\ngilead\ngilead\ngilead\ngilead\ngilead\ngilead\ngilead\ngilead\ngilead\ngilead\ngilead\ngilead\ngilead\ngilead\ngilead\ngilead\ngilead\ngilead\ngilead\ngilead\ngilead\ngilead\ngilead\ngilead\ngilead\ngilead\ngilead\ngilead\ngilead\ngilead\ngilead\ngilead\ngilead\ngilead\ngilead\ngilead\ngilead\ngilead\ngilead\ngilead\ngilead\ngilead\ngilead\ngilead\ngilead\ngilead\ngilead\ngilead\ngilead\ngilead\ngilead\ngilead\ngilead\ngilead\ngilead\ngilead\ngilead\ngilead\ngilead\ngilead\ngilead\ngilead\ngilead\ngilead\ngilead\ngilead\ngilead\ngilead\ngilead\ngilead\ngilead\ngilead\ngilead\ngilead\ngilead\ngilead\ngilead\ngilead\ngilead\ngilead\ngilead\ngilead\ngilead\ngilead\ngilead\ngilead\ngilead\ngilead\ngilead\ngilead\ngilead\ngilead\ngilead\ngilead\ngilead\ngilead\ngilead\ngilead\ngilead\ngilead\ngilead\ngilead\ngilead\ngilead\ngilead\ngilead\ngilead\ngilead\ngilead\ngilead\ngilead\ngilead\ngilead\ngilead\ngilead\ngilead\ngilead\ngilead\ngilead\ngilead\ngilead\ngilead\ngilead\ngilead\ngilead\ngilead\ngilead\ngilead\ngilead\ngilead\ngilead\ngilead\ngilead\ngilead\ngilead\ngilead\ngilead\ngilead\ngilead\ngilead\ngilead\ngilead\ngilead\ngilead\ngilead\ngilead\ngilead\ngilead\ngilead\ngilead\ngilead\ngilead\ngilead\ngilead\ngilead\ngilead\ngilead\ngilead\ngilead\ngilead\ngilead\ngilead\ngilead\ngilead\ngilead\ngilead\ngilead\ngilead\ngilead\ngilead\ngilead\ngilead\ngilead\ngilead\ngilead\ngilead\ngilead\ngilead\ngilead\ngilead\ngilead\ngilead\ngilead\ngilead\ngilead\ngilead\ngilead\ngilead\ngilead\ngilead\ngilead\ngilead\ngilead\ngilead\ngilead\ngilead\ngilead\ngilead\ngilead\ngilead\ngilead\ngilead\ngilead\ngilead\ngilead\ngilead\ngilead\ngilead\ngilead\ngilead\ngilead\ngilead\ngilead\ngilead\ngilead\ngilead\ngilead\ngilead\ngilead\ngilead\ngilead\ngilead\ngilead\ngilead\ngilead\ngilead\ngilead\ngilead\ngilead\ngilead\ngilead\ngilead\ngilead\ngilead\ngilead\ngilead\ngilead\ngilead\ngilead\ngilead\ngilead\ngilead\ngilead\ngilead\ngilead\ngilead\ngilead\ngilead\ngilead\ngilead\ngilead\ngilead\ngilead\ngilead\ngilead\ngilead\ngilead\ngilead\ngilead\ngilead\ngilead\ngilead\ngilead\ngilead\ngilead\ngilead\ngilead\ngilead\ngilead\ngilead\ngilead\ngilead\ngilead\ngilead\ngilead\ngilead\ngilead\ngilead\ngilead\ngilead\ngilead\ngilead\ngilead\ngilead\ngilead\ngilead\ngilead\ngilead\ngilead\ngilead\ngilead\ngilead\ngilead\ngilead\ngilead\ngilead\ngilead\ngilead\ngilead\ngilead\ngilead\ngilead\ngilead\ngilead\ngilead\ngilead\ngilead\ngilead\ngilead\ngilead\ngilead\ngilead\ngilead\ngilead\ngilead\ngilead\ngilead\ngilead\ngilead\ngilead\ngilead\ngilead\ngilead\ngilead\ngilead\ngilead\ngilead\ngilead\ngilead\ngilead\ngilead\ngilead\ngilead\ngilead\ngilead\ngilead\ngilead\ngilead\ngilead\ngilead\ngilead\ngilead\ngilead\ngilead\ngilead\ngilead\ngilead\ngilead\ngilead\ngilead\ngilead\ngilead\ngilead\ngilead\ngilead\ngilead\ngilead\ngilead\ngilead\ngilead\ngilead\ngilead\ngilead\ngilead\ngilead\ngilead\ngilead\ngilead\ngilead\ngilead\ngilead\ngilead\ngilead\ngilead\ngilead\ngilead\ngilead\ngilead\ngilead\ngilead\ngilead\ngilead\ngilead\ngilead\ngilead\ngilead\ngilead\ngilead\ngilead\ngilead\ngilead\ngilead\ngilead\ngilead\ngilead\ngilead\ngilead\ngilead\ngilead\ngilead\ngilead\ngilead\ngilead\ngilead\ngilead\ngilead\ngilead\ngilead\ndone\n",
          "name": "stdout"
        }
      ]
    },
    {
      "metadata": {
        "scrolled": false,
        "trusted": true
      },
      "cell_type": "code",
      "source": "peek(params['time_stamps'],u_vec_history)",
      "execution_count": 24,
      "outputs": [
        {
          "output_type": "stream",
          "text": "        time        n      c_1      c_2      c_3      c_4      c_5      c_6  \\\n0   0.00e+00 0.00e+00 0.00e+00 0.00e+00 0.00e+00 0.00e+00 0.00e+00 0.00e+00   \n1   2.40e+00 0.00e+00 0.00e+00 0.00e+00 0.00e+00 0.00e+00 0.00e+00 0.00e+00   \n2   4.81e+00 0.00e+00 0.00e+00 0.00e+00 0.00e+00 0.00e+00 0.00e+00 0.00e+00   \n3   7.21e+00 0.00e+00 0.00e+00 0.00e+00 0.00e+00 0.00e+00 0.00e+00 0.00e+00   \n4   9.62e+00 0.00e+00 0.00e+00 0.00e+00 0.00e+00 0.00e+00 0.00e+00 0.00e+00   \n5   1.20e+01 0.00e+00 0.00e+00 0.00e+00 0.00e+00 0.00e+00 0.00e+00 0.00e+00   \n6   1.44e+01 0.00e+00 0.00e+00 0.00e+00 0.00e+00 0.00e+00 0.00e+00 0.00e+00   \n7   1.68e+01 0.00e+00 0.00e+00 0.00e+00 0.00e+00 0.00e+00 0.00e+00 0.00e+00   \n8   1.92e+01 0.00e+00 0.00e+00 0.00e+00 0.00e+00 0.00e+00 0.00e+00 0.00e+00   \n9   2.16e+01 0.00e+00 0.00e+00 0.00e+00 0.00e+00 0.00e+00 0.00e+00 0.00e+00   \n10  2.41e+01 0.00e+00 0.00e+00 0.00e+00 0.00e+00 0.00e+00 0.00e+00 0.00e+00   \n11  2.64e+01 0.00e+00 0.00e+00 0.00e+00 0.00e+00 0.00e+00 0.00e+00 0.00e+00   \n12  2.89e+01 0.00e+00 0.00e+00 0.00e+00 0.00e+00 0.00e+00 0.00e+00 0.00e+00   \n13  3.13e+01 0.00e+00 0.00e+00 0.00e+00 0.00e+00 0.00e+00 0.00e+00 0.00e+00   \n14  3.37e+01 0.00e+00 0.00e+00 0.00e+00 0.00e+00 0.00e+00 0.00e+00 0.00e+00   \n15  3.61e+01 0.00e+00 0.00e+00 0.00e+00 0.00e+00 0.00e+00 0.00e+00 0.00e+00   \n16  3.85e+01 0.00e+00 0.00e+00 0.00e+00 0.00e+00 0.00e+00 0.00e+00 0.00e+00   \n17  4.09e+01 0.00e+00 0.00e+00 0.00e+00 0.00e+00 0.00e+00 0.00e+00 0.00e+00   \n18  4.33e+01 0.00e+00 0.00e+00 0.00e+00 0.00e+00 0.00e+00 0.00e+00 0.00e+00   \n19  4.57e+01 0.00e+00 0.00e+00 0.00e+00 0.00e+00 0.00e+00 0.00e+00 0.00e+00   \n20  4.81e+01 0.00e+00 0.00e+00 0.00e+00 0.00e+00 0.00e+00 0.00e+00 0.00e+00   \n21  5.05e+01 0.00e+00 0.00e+00 0.00e+00 0.00e+00 0.00e+00 0.00e+00 0.00e+00   \n22  5.29e+01 0.00e+00 0.00e+00 0.00e+00 0.00e+00 0.00e+00 0.00e+00 0.00e+00   \n23  5.53e+01 0.00e+00 0.00e+00 0.00e+00 0.00e+00 0.00e+00 0.00e+00 0.00e+00   \n24  5.77e+01 0.00e+00 0.00e+00 0.00e+00 0.00e+00 0.00e+00 0.00e+00 0.00e+00   \n25  6.01e+01 0.00e+00 0.00e+00 0.00e+00 0.00e+00 0.00e+00 0.00e+00 0.00e+00   \n26  6.25e+01 0.00e+00 0.00e+00 0.00e+00 0.00e+00 0.00e+00 0.00e+00 0.00e+00   \n27  6.49e+01 0.00e+00 0.00e+00 0.00e+00 0.00e+00 0.00e+00 0.00e+00 0.00e+00   \n28  6.73e+01 0.00e+00 0.00e+00 0.00e+00 0.00e+00 0.00e+00 0.00e+00 0.00e+00   \n29  6.97e+01 0.00e+00 0.00e+00 0.00e+00 0.00e+00 0.00e+00 0.00e+00 0.00e+00   \n..       ...      ...      ...      ...      ...      ...      ...      ...   \n470 1.13e+03 1.08e+00 1.87e+02 5.05e+02 1.24e+02 9.24e+01 7.10e+00 9.80e-01   \n471 1.13e+03 1.08e+00 1.87e+02 5.05e+02 1.24e+02 9.24e+01 7.10e+00 9.80e-01   \n472 1.14e+03 1.08e+00 1.87e+02 5.05e+02 1.24e+02 9.24e+01 7.10e+00 9.80e-01   \n473 1.14e+03 1.08e+00 1.87e+02 5.05e+02 1.24e+02 9.24e+01 7.10e+00 9.80e-01   \n474 1.14e+03 1.08e+00 1.87e+02 5.05e+02 1.24e+02 9.24e+01 7.10e+00 9.80e-01   \n475 1.14e+03 1.08e+00 1.87e+02 5.05e+02 1.24e+02 9.24e+01 7.10e+00 9.80e-01   \n476 1.14e+03 1.08e+00 1.87e+02 5.05e+02 1.24e+02 9.24e+01 7.10e+00 9.80e-01   \n477 1.15e+03 1.08e+00 1.87e+02 5.05e+02 1.24e+02 9.24e+01 7.10e+00 9.80e-01   \n478 1.15e+03 1.08e+00 1.87e+02 5.05e+02 1.24e+02 9.24e+01 7.10e+00 9.80e-01   \n479 1.15e+03 1.08e+00 1.87e+02 5.05e+02 1.24e+02 9.24e+01 7.10e+00 9.80e-01   \n480 1.15e+03 1.08e+00 1.87e+02 5.05e+02 1.24e+02 9.24e+01 7.10e+00 9.80e-01   \n481 1.16e+03 1.08e+00 1.87e+02 5.05e+02 1.24e+02 9.24e+01 7.10e+00 9.80e-01   \n482 1.16e+03 1.08e+00 1.87e+02 5.05e+02 1.24e+02 9.24e+01 7.10e+00 9.80e-01   \n483 1.16e+03 1.08e+00 1.87e+02 5.05e+02 1.24e+02 9.24e+01 7.10e+00 9.80e-01   \n484 1.16e+03 1.08e+00 1.87e+02 5.05e+02 1.24e+02 9.24e+01 7.10e+00 9.80e-01   \n485 1.17e+03 1.08e+00 1.87e+02 5.05e+02 1.24e+02 9.24e+01 7.10e+00 9.80e-01   \n486 1.17e+03 1.08e+00 1.87e+02 5.05e+02 1.24e+02 9.24e+01 7.10e+00 9.80e-01   \n487 1.17e+03 1.08e+00 1.87e+02 5.05e+02 1.24e+02 9.24e+01 7.10e+00 9.80e-01   \n488 1.17e+03 1.08e+00 1.87e+02 5.05e+02 1.24e+02 9.24e+01 7.10e+00 9.80e-01   \n489 1.18e+03 1.08e+00 1.87e+02 5.05e+02 1.24e+02 9.24e+01 7.10e+00 9.80e-01   \n490 1.18e+03 1.08e+00 1.87e+02 5.05e+02 1.24e+02 9.24e+01 7.10e+00 9.80e-01   \n491 1.18e+03 1.08e+00 1.87e+02 5.05e+02 1.24e+02 9.24e+01 7.10e+00 9.80e-01   \n492 1.18e+03 1.08e+00 1.87e+02 5.05e+02 1.24e+02 9.24e+01 7.10e+00 9.80e-01   \n493 1.19e+03 1.08e+00 1.87e+02 5.05e+02 1.24e+02 9.24e+01 7.10e+00 9.80e-01   \n494 1.19e+03 1.08e+00 1.87e+02 5.05e+02 1.24e+02 9.24e+01 7.10e+00 9.80e-01   \n495 1.19e+03 1.08e+00 1.87e+02 5.05e+02 1.24e+02 9.24e+01 7.10e+00 9.80e-01   \n496 1.19e+03 1.08e+00 1.87e+02 5.05e+02 1.24e+02 9.24e+01 7.10e+00 9.80e-01   \n497 1.20e+03 1.08e+00 1.87e+02 5.05e+02 1.24e+02 9.24e+01 7.10e+00 9.80e-01   \n498 1.20e+03 1.08e+00 1.87e+02 5.05e+02 1.24e+02 9.24e+01 7.10e+00 9.80e-01   \n499 1.20e+03 1.08e+00 1.87e+02 5.05e+02 1.24e+02 9.24e+01 7.10e+00 9.80e-01   \n\n      temp_f   temp_c  \n0   3.00e+02 2.93e+02  \n1   3.21e+02 3.22e+02  \n2   3.31e+02 3.31e+02  \n3   3.34e+02 3.34e+02  \n4   3.35e+02 3.35e+02  \n5   3.35e+02 3.35e+02  \n6   3.35e+02 3.35e+02  \n7   3.35e+02 3.35e+02  \n8   3.35e+02 3.35e+02  \n9   3.35e+02 3.35e+02  \n10  3.35e+02 3.35e+02  \n11  3.35e+02 3.35e+02  \n12  3.35e+02 3.35e+02  \n13  3.35e+02 3.35e+02  \n14  3.35e+02 3.35e+02  \n15  3.35e+02 3.35e+02  \n16  3.35e+02 3.35e+02  \n17  3.35e+02 3.35e+02  \n18  3.35e+02 3.35e+02  \n19  3.35e+02 3.35e+02  \n20  3.35e+02 3.35e+02  \n21  3.35e+02 3.35e+02  \n22  3.35e+02 3.35e+02  \n23  3.35e+02 3.35e+02  \n24  3.35e+02 3.35e+02  \n25  3.35e+02 3.35e+02  \n26  3.35e+02 3.35e+02  \n27  3.35e+02 3.35e+02  \n28  3.35e+02 3.35e+02  \n29  3.35e+02 3.35e+02  \n..       ...      ...  \n470 4.07e+02 3.48e+02  \n471 4.07e+02 3.48e+02  \n472 4.07e+02 3.48e+02  \n473 4.07e+02 3.48e+02  \n474 4.07e+02 3.48e+02  \n475 4.07e+02 3.48e+02  \n476 4.07e+02 3.48e+02  \n477 4.07e+02 3.48e+02  \n478 4.07e+02 3.48e+02  \n479 4.07e+02 3.48e+02  \n480 4.07e+02 3.48e+02  \n481 4.07e+02 3.48e+02  \n482 4.07e+02 3.48e+02  \n483 4.07e+02 3.48e+02  \n484 4.07e+02 3.48e+02  \n485 4.07e+02 3.48e+02  \n486 4.07e+02 3.48e+02  \n487 4.07e+02 3.48e+02  \n488 4.07e+02 3.48e+02  \n489 4.07e+02 3.48e+02  \n490 4.07e+02 3.48e+02  \n491 4.07e+02 3.48e+02  \n492 4.07e+02 3.48e+02  \n493 4.07e+02 3.48e+02  \n494 4.07e+02 3.48e+02  \n495 4.07e+02 3.48e+02  \n496 4.07e+02 3.48e+02  \n497 4.07e+02 3.48e+02  \n498 4.07e+02 3.48e+02  \n499 4.07e+02 3.48e+02  \n\n[500 rows x 10 columns]\n\n",
          "name": "stdout"
        }
      ]
    },
    {
      "metadata": {
        "trusted": true
      },
      "cell_type": "code",
      "source": "print(quantities(u_vec_history, params, params['time_stamps']))",
      "execution_count": 25,
      "outputs": [
        {
          "output_type": "error",
          "ename": "KeyError",
          "evalue": "2.404809619238477",
          "traceback": [
            "\u001b[0;31m---------------------------------------------------------------------------\u001b[0m",
            "\u001b[0;31mKeyError\u001b[0m                                  Traceback (most recent call last)",
            "\u001b[0;32m<ipython-input-25-b11c501b8414>\u001b[0m in \u001b[0;36m<module>\u001b[0;34m\u001b[0m\n\u001b[0;32m----> 1\u001b[0;31m \u001b[0mprint\u001b[0m\u001b[0;34m(\u001b[0m\u001b[0mquantities\u001b[0m\u001b[0;34m(\u001b[0m\u001b[0mu_vec_history\u001b[0m\u001b[0;34m,\u001b[0m \u001b[0mparams\u001b[0m\u001b[0;34m,\u001b[0m \u001b[0mparams\u001b[0m\u001b[0;34m[\u001b[0m\u001b[0;34m'time_stamps'\u001b[0m\u001b[0;34m]\u001b[0m\u001b[0;34m)\u001b[0m\u001b[0;34m)\u001b[0m\u001b[0;34m\u001b[0m\u001b[0m\n\u001b[0m",
            "\u001b[0;32m<ipython-input-19-6ec2841a474e>\u001b[0m in \u001b[0;36mquantities\u001b[0;34m(u_vec_history, params, time_stamps)\u001b[0m\n\u001b[1;32m     22\u001b[0m         \u001b[0mremoved_heat_list\u001b[0m\u001b[0;34m.\u001b[0m\u001b[0mappend\u001b[0m\u001b[0;34m(\u001b[0m\u001b[0mheat_removed\u001b[0m\u001b[0;34m)\u001b[0m\u001b[0;34m\u001b[0m\u001b[0m\n\u001b[1;32m     23\u001b[0m \u001b[0;34m\u001b[0m\u001b[0m\n\u001b[0;32m---> 24\u001b[0;31m         \u001b[0mtwork\u001b[0m\u001b[0;34m.\u001b[0m\u001b[0mappend\u001b[0m\u001b[0;34m(\u001b[0m\u001b[0mturbine_work\u001b[0m\u001b[0;34m[\u001b[0m\u001b[0mtime\u001b[0m\u001b[0;34m]\u001b[0m\u001b[0;34m)\u001b[0m \u001b[0;31m# turbine work at this point in time\u001b[0m\u001b[0;34m\u001b[0m\u001b[0m\n\u001b[0m\u001b[1;32m     25\u001b[0m         \u001b[0mcwork\u001b[0m\u001b[0;34m.\u001b[0m\u001b[0mappend\u001b[0m\u001b[0;34m(\u001b[0m\u001b[0mcondenser_work\u001b[0m\u001b[0;34m[\u001b[0m\u001b[0mtime\u001b[0m\u001b[0;34m]\u001b[0m\u001b[0;34m)\u001b[0m \u001b[0;31m# condenser work at this point in time\u001b[0m\u001b[0;34m\u001b[0m\u001b[0m\n\u001b[1;32m     26\u001b[0m         \u001b[0mnet_work\u001b[0m \u001b[0;34m=\u001b[0m \u001b[0mturbine_work\u001b[0m\u001b[0;34m[\u001b[0m\u001b[0mtime\u001b[0m\u001b[0;34m]\u001b[0m \u001b[0;34m-\u001b[0m \u001b[0mabs\u001b[0m\u001b[0;34m(\u001b[0m\u001b[0mcondenser_work\u001b[0m\u001b[0;34m[\u001b[0m\u001b[0mtime\u001b[0m\u001b[0;34m]\u001b[0m\u001b[0;34m)\u001b[0m \u001b[0;31m# net positive work = turbine - condenser - pump\u001b[0m\u001b[0;34m\u001b[0m\u001b[0m\n",
            "\u001b[0;31mKeyError\u001b[0m: 2.404809619238477"
          ]
        }
      ]
    },
    {
      "metadata": {
        "trusted": true
      },
      "cell_type": "code",
      "source": "#plot the q3prime and heat removed data\nheat_data = quantities(u_vec_history, params, params['time_stamps'])\nheat_data.plot(x=None, y=None, kind='line', ax=None, subplots=False, sharex=None, sharey=False, layout=None, figsize=(15,10),\n               use_index=True, title=None, grid=None, legend=True, style=None, logx=False, logy=False, loglog=False, \n               xticks=None, yticks=None, xlim=None, ylim=None, rot=None, fontsize=None, colormap=None, table=False, \n               yerr=None, xerr=None, secondary_y=False, sort_columns=False)\n",
      "execution_count": null,
      "outputs": []
    },
    {
      "metadata": {},
      "cell_type": "markdown",
      "source": "Heat removed and neutron heat generated are more or less the same for all startup values, with heat removed being slightly lower than heat generated until steady state is achieved. These first results are to be expected: a slight amount of heat is retained by the fuel so that it heats up to its steady state value. Enough heat is initially removed so that the temperature rise is very gentle, which would be expected of a real reactor. Heat removed and heat produced experience a prompt jump of about 15% of steady state values, which is to be expected, before falling and beginning to rise again, and then levelling out along with reactivity."
    },
    {
      "metadata": {
        "trusted": true
      },
      "cell_type": "code",
      "source": "3.5e10 * params['coolant_volume'] / 1000000000 # GW",
      "execution_count": null,
      "outputs": []
    },
    {
      "metadata": {
        "scrolled": false,
        "trusted": true
      },
      "cell_type": "code",
      "source": "'''Plot neutron and delayed neutron emitter concentration in the reactor'''\n\nplot_results(u_vec_history, normalize=False)",
      "execution_count": null,
      "outputs": []
    },
    {
      "metadata": {},
      "cell_type": "markdown",
      "source": "The reactor is extremely quick to startup, reaching its steady state value in about 12 minutes. If the total time the reactor is run for is decreased, the initial prompt jump and then decay steps may be observed, which occur within the first 20-30 seconds of operation and reach a peak of about 15% of peak power. This is to be expected with a reactivity of $0.25 and a relatively low neutron flux required due to the high enrichment of the fuel and the large volume of fuel present. "
    },
    {
      "metadata": {
        "trusted": true
      },
      "cell_type": "code",
      "source": "'''Plot Tf and Tc temperatures in the reactor'''\n    \ndef tmp():\n    time_stamps = params['time_stamps']\n    tau = params['tau_fake']\n    import matplotlib.pyplot as plt    \n    fig, ax1 = plt.subplots(1, figsize=(16, 6))\n    ax1.plot(time_stamps/tau,u_vec_history[:,-2]-273.15,'b-',label='$T_f=$ ' )\n    ax1.plot(time_stamps/tau,u_vec_history[:,-1]-273.15,'g-.',label='$T_c=$ ' )\n\n    ax1.set_xlabel(r'Time [s]')\n    ax1.set_ylabel(r'$T$ [C]',fontsize=16,color='blue')\n    ax1.tick_params(axis='y', labelcolor='blue', labelsize=14)\n    ax1.tick_params(axis='x', labelsize=14)\n    ax1.legend(loc='best',fontsize=12)\n    ax1.grid(True)\n\n    #ax2 = ax1.twinx() \n    #ax2.plot(time_stamps/tau,u_vec_history[:,-1],'g-.',label='$T_c=$ ' )\n   # ax2.set_ylabel(r'$T_c$ [K]',fontsize=16,color='green')\n   # ax2.tick_params(axis='y', labelcolor='green', labelsize=14)\n    #ax2.legend(loc='best',f/ontsize=12)\n    #ax2.grid(True)\n\n    plt.title('CSTR w/ Cooling Coil (exothermic rxn)',fontsize=20)\n    fig.tight_layout()  # otherwise the right y-label is slightly clipped\n    plt.show()\n    print('')",
      "execution_count": null,
      "outputs": []
    },
    {
      "metadata": {
        "trusted": true
      },
      "cell_type": "code",
      "source": "tmp()",
      "execution_count": null,
      "outputs": []
    },
    {
      "metadata": {},
      "cell_type": "markdown",
      "source": "Temperature rise is very quick, along with the reactivity increase. Steady state temperature values level out at around 350 degrees celcius for the fuel and 300 degrees celcius for the coolant, which are expected values for a BWR that operates at relatively low coolant and fuel temperatures. A very small prompt jump and decay may be observed at the far left of the scale, accounting for a temperature jump of both the fuel and coolant of around 5-10 degrees celcius. Overall temperature increase, 350 degrees celcius in 12 minutes, is fairly manageable for a large plant."
    },
    {
      "metadata": {},
      "cell_type": "markdown",
      "source": "# Overall Results"
    },
    {
      "metadata": {},
      "cell_type": "markdown",
      "source": "Overall, the reactor behaves as it should: quick startup to a steady state with relatively low fuel and moderator temperatures. This model could be improved in the future by adding functions to model changes in moderator composition (including density changes and void changes from steam), as well as fuel burnup and the effect of fission product poisoning."
    }
  ],
  "metadata": {
    "celltoolbar": "Tags",
    "kernelspec": {
      "name": "python36",
      "display_name": "Python 3.6",
      "language": "python"
    },
    "latex_envs": {
      "LaTeX_envs_menu_present": true,
      "autoclose": false,
      "autocomplete": true,
      "bibliofile": "biblio.bib",
      "cite_by": "apalike",
      "current_citInitial": 1,
      "eqLabelWithNumbers": true,
      "eqNumInitial": 1,
      "hotkeys": {
        "equation": "Ctrl-E",
        "itemize": "Ctrl-I"
      },
      "labels_anchors": false,
      "latex_user_defs": false,
      "report_style_numbering": false,
      "user_envs_cfg": false
    },
    "language_info": {
      "mimetype": "text/x-python",
      "nbconvert_exporter": "python",
      "name": "python",
      "pygments_lexer": "ipython3",
      "version": "3.6.6",
      "file_extension": ".py",
      "codemirror_mode": {
        "version": 3,
        "name": "ipython"
      }
    }
  },
  "nbformat": 4,
  "nbformat_minor": 2
}