{
  "cells": [
    {
      "metadata": {},
      "cell_type": "markdown",
      "source": "Engy-4350: Nuclear Reactor Engineering Spring 2019 UMass Lowell; Prof. V. F. de Almeida **19Mar2019**, Austin T. Rotker **Aug2019**\n\n# 05. Two-Temperature Boiling Water Reactor Example B\n$  \n  \\newcommand{\\Amtrx}{\\boldsymbol{\\mathsf{A}}}\n  \\newcommand{\\Bmtrx}{\\boldsymbol{\\mathsf{B}}}\n  \\newcommand{\\Mmtrx}{\\boldsymbol{\\mathsf{M}}}\n  \\newcommand{\\Imtrx}{\\boldsymbol{\\mathsf{I}}}\n  \\newcommand{\\Pmtrx}{\\boldsymbol{\\mathsf{P}}}\n  \\newcommand{\\Lmtrx}{\\boldsymbol{\\mathsf{L}}}\n  \\newcommand{\\Umtrx}{\\boldsymbol{\\mathsf{U}}}\n  \\newcommand{\\Smtrx}{\\boldsymbol{\\mathsf{S}}}\n  \\newcommand{\\xvec}{\\boldsymbol{\\mathsf{x}}}\n  \\newcommand{\\uvar}{\\boldsymbol{u}}\n  \\newcommand{\\fvar}{\\boldsymbol{f}}\n  \\newcommand{\\avec}{\\boldsymbol{\\mathsf{a}}}\n  \\newcommand{\\bvec}{\\boldsymbol{\\mathsf{b}}}\n  \\newcommand{\\cvec}{\\boldsymbol{\\mathsf{c}}}\n  \\newcommand{\\rvec}{\\boldsymbol{\\mathsf{r}}}\n  \\newcommand{\\mvec}{\\boldsymbol{\\mathsf{m}}}\n  \\newcommand{\\gvec}{\\boldsymbol{\\mathsf{g}}}\n  \\newcommand{\\zerovec}{\\boldsymbol{\\mathsf{0}}}\n  \\newcommand{\\norm}[1]{\\bigl\\lVert{#1}\\bigr\\rVert}\n  \\newcommand{\\transpose}[1]{{#1}^\\top}\n  \\DeclareMathOperator{\\rank}{rank}\n  \\newcommand{\\Power}{\\mathcal{P}}\n$"
    },
    {
      "metadata": {},
      "cell_type": "markdown",
      "source": "---\n## Table of Contents\n* [Objectives](#obj)\n* [Introduction](#intro)\n* [Problem Statement](#ps)\n* [Reactor Starup And Steady State](#res1)\n* [Condenser Malfunction Results](#res2)\n* [Reactor Shutdown Results](#res3)\n\n---"
    },
    {
      "metadata": {},
      "cell_type": "markdown",
      "source": "## Objectives<a id=\"obj\"></a>\n+ Use one-group energy, two-temperature, point-reactor dynamics modeling (six-group delayed neutron emitters) to obtain insight on neutron density behavior with time-dependent reactivity of a Boiling Water Reactor during startup, steady state operation, shutdown and condenser malfunctions.\n+ Explore and understand intrinsic temperature reactivity coefficient feedback from nuclear sources."
    },
    {
      "metadata": {},
      "cell_type": "markdown",
      "source": "## Introduction<a id=\"intro\"></a>\n\nIn-class course notes OneNote [ChEn-4350-feedback](https://studentuml-my.sharepoint.com/:o:/g/personal/valmor_dealmeida_uml_edu/Eo9JUns42F1Pqmq4tFS9sJsBv2jF8UDQvRb5l5Z2D5ssag?e=FDeSpV).\n\nRefer to Notebook 03.\n"
    },
    {
      "metadata": {},
      "cell_type": "markdown",
      "source": "## Problem Statement<a id=\"ps\"></a>\n\nConsider a high temperature gas cooled reactor, with UO$_2$ fuel and a graphite moderator.\nGiven the neutron generation time $\\ell$, delayed neutron fraction, $\\beta$, decay constants of a six-group delayed neutron emitters, $\\lambda_i$, and corresponding yield of delayed neutron fractions for each emitter, $\\beta_i$, calculate the pointwise neutron density variation with time for **varying** neutron reactivity, $\\rho(t)$.\n\n![](images/point-reactor-hx.png)"
    },
    {
      "metadata": {},
      "cell_type": "markdown",
      "source": "The below functions are used to import the functions written in 05-bwr-two-temperature-pt-reactor-A for the sake of simplicity. They are taken from https://jupyter-notebook.readthedocs.io/en/stable/examples/Notebook/Importing%20Notebooks.html."
    },
    {
      "metadata": {
        "trusted": true
      },
      "cell_type": "code",
      "source": "!pip install iapws\nimport numpy as np\n\n",
      "execution_count": 1,
      "outputs": [
        {
          "output_type": "stream",
          "text": "Requirement already satisfied: iapws in /home/nbuser/anaconda3_501/lib/python3.6/site-packages (1.4)\nRequirement already satisfied: scipy in /home/nbuser/anaconda3_501/lib/python3.6/site-packages (from iapws) (1.1.0)\n\u001b[33mWARNING: You are using pip version 19.1.1, however version 19.2.1 is available.\nYou should consider upgrading via the 'pip install --upgrade pip' command.\u001b[0m\n",
          "name": "stdout"
        }
      ]
    },
    {
      "metadata": {
        "trusted": true
      },
      "cell_type": "code",
      "source": "import io, os, sys, types\nfrom IPython import get_ipython\nfrom nbformat import read\nfrom IPython.core.interactiveshell import InteractiveShell",
      "execution_count": 2,
      "outputs": []
    },
    {
      "metadata": {
        "trusted": true
      },
      "cell_type": "code",
      "source": "def find_notebook(fullname, path=None):\n    \"\"\"find a notebook, given its fully qualified name and an optional path\n\n    This turns \"foo.bar\" into \"foo/bar.ipynb\"\n    and tries turning \"Foo_Bar\" into \"Foo Bar\" if Foo_Bar\n    does not exist.\n    \"\"\"\n    name = fullname.rsplit('.', 1)[-1]\n    if not path:\n        path = ['']\n    for d in path:\n        nb_path = os.path.join(d, name + \".ipynb\")\n        if os.path.isfile(nb_path):\n            return nb_path\n        # let import Notebook_Name find \"Notebook Name.ipynb\"\n        nb_path = nb_path.replace(\"_\", \" \")\n        if os.path.isfile(nb_path):\n            return nb_path",
      "execution_count": 3,
      "outputs": []
    },
    {
      "metadata": {
        "trusted": true
      },
      "cell_type": "code",
      "source": "class NotebookLoader(object):\n    \"\"\"Module Loader for Jupyter Notebooks\"\"\"\n    def __init__(self, path=None):\n        self.shell = InteractiveShell.instance()\n        self.path = path\n\n    def load_module(self, fullname):\n        \"\"\"import a notebook as a module\"\"\"\n        path = find_notebook(fullname, self.path)\n\n        print (\"importing Jupyter notebook from %s\" % path)\n\n        # load the notebook object\n        with io.open(path, 'r', encoding='utf-8') as f:\n            nb = read(f, 4)\n\n\n        # create the module and add it to sys.modules\n        # if name in sys.modules:\n        #    return sys.modules[name]\n        mod = types.ModuleType(fullname)\n        mod.__file__ = path\n        mod.__loader__ = self\n        mod.__dict__['get_ipython'] = get_ipython\n        sys.modules[fullname] = mod\n\n        # extra work to ensure that magics that would affect the user_ns\n        # actually affect the notebook module's ns\n        save_user_ns = self.shell.user_ns\n        self.shell.user_ns = mod.__dict__\n\n        try:\n            for cell in nb.cells:\n                if cell.cell_type == 'code':\n                    # transform the input to executable Python\n                    code = self.shell.input_transformer_manager.transform_cell(cell.source)\n                    # run the code in themodule\n                    exec(code, mod.__dict__)\n        finally:\n            self.shell.user_ns = save_user_ns\n        return mod\n",
      "execution_count": null,
      "outputs": []
    },
    {
      "metadata": {
        "trusted": true
      },
      "cell_type": "code",
      "source": "loader = NotebookLoader()\nreactor = loader.load_module(\"05-bwr-two-temperature-pt-reactor-A\")\n",
      "execution_count": null,
      "outputs": [
        {
          "output_type": "stream",
          "text": "importing Jupyter notebook from 05-bwr-two-temperature-pt-reactor-A.ipynb\nRequirement already satisfied: iapws in /home/nbuser/anaconda3_501/lib/python3.6/site-packages (1.4)\nRequirement already satisfied: scipy in /home/nbuser/anaconda3_501/lib/python3.6/site-packages (from iapws) (1.1.0)\n",
          "name": "stdout"
        }
      ]
    },
    {
      "metadata": {},
      "cell_type": "markdown",
      "source": "## Reactor Startup: Reactivity Step with Pulsed Source<a id=\"res1\"></a>\n\nNeutronless reactor before time zero. At time zero, apply a pulsed source and a reactivity step. Followed by some time at steady state operation."
    },
    {
      "metadata": {
        "trusted": true
      },
      "cell_type": "code",
      "source": "'''Setup up initial conditions'''\n\nimport numpy as np\n\nreactor.params['malfunction start'] = 1300\nreactor.params['malfunction end'] = 0\nreactor.params['breakage start'] = 1300\nreactor.params['breakage end'] = 0\nreactor.params['shutdown time'] = 1300\n\nreactor.gen_time = reactor.params['gen_time'] # retrieve neutron generation time\nreactor.params['q_0'] = 1\n\nreactor.params['n_ss'] = 0 # neutronless steady state before start up\n\nreactor.rho_0_over_beta = 0.25 # $\n\nreactor.beta = reactor.params['beta'] # retrieve the delayed neutron fraction\nreactor.params['reactivity'] = reactor.rho_0_over_beta * reactor.beta # \"rho/beta = 10 cents\"\n\nreactor.params['temp_0'] = reactor.params['temp_o']\n\nreactor.params['tau_fake'] = 2 # s\n\n# setup remaining initial conditions\nreactor.setup_initial_conditions(reactor.params)",
      "execution_count": null,
      "outputs": []
    },
    {
      "metadata": {
        "trusted": true
      },
      "cell_type": "code",
      "source": "'''Evolve the point-reactor'''\n\ntime_final    = 1200# 450 # s\nn_time_stamps = 500 # number of solution values in time\n\nreactor.params['time_final']    = time_final\nreactor.params['n_time_stamps'] = n_time_stamps\n\n# Run the reactor and compute the history of the state variables; tabular form, one row per time stamp\nreactor.u_vec_history = reactor.run_point_reactor( reactor.f_vec, reactor.params )\n#print(u_vec_history)\nprint(\"done\")",
      "execution_count": null,
      "outputs": []
    },
    {
      "metadata": {
        "trusted": true
      },
      "cell_type": "code",
      "source": "#plot the q3prime and heat removed data\nheat_data = reactor.quantities1(reactor.u_vec_history, reactor.params, reactor.params['time_stamps'])\nheat_data.plot(x=None, y=None, kind='line', ax=None, subplots=False, sharex=None, sharey=False, layout=None, figsize=(15,10),\n               use_index=True, title=None, grid=None, legend=True, style=None, logx=False, logy=False, loglog=False, \n               xticks=None, yticks=None, xlim=None, ylim=None, rot=None, fontsize=None, colormap=None, table=False, \n               yerr=None, xerr=None, secondary_y=False, sort_columns=False)\n",
      "execution_count": null,
      "outputs": []
    },
    {
      "metadata": {
        "trusted": true
      },
      "cell_type": "code",
      "source": "# plot the BOP work done\nwork_data = reactor.quantities2(reactor.u_vec_history, reactor.params, reactor.params['time_stamps'])\nwork_data.plot(x=None, y=None, kind='line', ax=None, subplots=False, sharex=None, sharey=False, layout=None, figsize=(15,10),\n               use_index=True, title=None, grid=None, legend=True, style=None, logx=False, logy=False, loglog=False, \n               xticks=None, yticks=None, xlim=None, ylim=None, rot=None, fontsize=None, colormap=None, table=False, \n               yerr=None, xerr=None, secondary_y=False, sort_columns=False)",
      "execution_count": null,
      "outputs": []
    },
    {
      "metadata": {
        "trusted": true
      },
      "cell_type": "code",
      "source": "reactor.plot_results(reactor.u_vec_history, normalize=False)",
      "execution_count": null,
      "outputs": []
    },
    {
      "metadata": {
        "trusted": true
      },
      "cell_type": "code",
      "source": "reactor.tmp()",
      "execution_count": null,
      "outputs": []
    },
    {
      "metadata": {},
      "cell_type": "markdown",
      "source": "<a id=\"res2\"></a>\n# Steady State Reactor Startup Followed By Condenser Malfunction\nThe reactor is started up as normal, and some time is allowed to pass with the reactor functioning at steady state. After this time has passed, the condenser experiences a malfunction wherein the degree of subcooling of the liquid leaving the condenser is decreased for a period of time, leading to an increase in reactor operating temperatures."
    },
    {
      "metadata": {
        "trusted": true
      },
      "cell_type": "code",
      "source": "'''Setup up initial conditions'''\n\nimport numpy as np\n\nreactor.params['malfunction start'] = 1300 # malfunction starts at 1300 seconds and ends at 2000 seconds\nreactor.params['malfunction end'] = 2000\nreactor.params['breakage start'] = 3001\nreactor.params['breakage end'] = 0\nreactor.params['malfunction subcooling'] = 1\nreactor.params['shutdown time'] = 20000\n\nreactor.gen_time = reactor.params['gen_time'] # retrieve neutron generation time\nreactor.params['q_0'] = 1\n\nreactor.params['n_ss'] = 0 # neutronless steady state before start up\n\nreactor.rho_0_over_beta = 0.25 # $\n\nreactor.beta = reactor.params['beta'] # retrieve the delayed neutron fraction\nreactor.params['reactivity'] = reactor.rho_0_over_beta * reactor.beta # \"rho/beta = 10 cents\"\n\nreactor.params['temp_0'] = reactor.params['temp_o']\n\nreactor.params['tau_fake'] = 2 # s\n\n\n\n# setup remaining initial conditions\nreactor.setup_initial_conditions(reactor.params)",
      "execution_count": null,
      "outputs": []
    },
    {
      "metadata": {
        "trusted": true
      },
      "cell_type": "code",
      "source": "'''Evolve the point-reactor'''\n\ntime_final    = 3000# 450 # s\nn_time_stamps = 1000 # number of solution values in time\n\nreactor.params['time_final']    = time_final\nreactor.params['n_time_stamps'] = n_time_stamps\n\n# Run the reactor and compute the history of the state variables; tabular form, one row per time stamp\nreactor.u_vec_history = reactor.run_point_reactor( reactor.f_vec, reactor.params )\n#print(u_vec_history)\nprint(\"done\")",
      "execution_count": null,
      "outputs": []
    },
    {
      "metadata": {
        "trusted": true
      },
      "cell_type": "code",
      "source": "#plot the q3prime and heat removed data\nheat_data = reactor.quantities1(reactor.u_vec_history, reactor.params, reactor.params['time_stamps'])\nheat_data.plot(x=None, y=None, kind='line', ax=None, subplots=False, sharex=None, sharey=False, layout=None, figsize=(15,10),\n               use_index=True, title=None, grid=None, legend=True, style=None, logx=False, logy=False, loglog=False, \n               xticks=None, yticks=None, xlim=None, ylim=None, rot=None, fontsize=None, colormap=None, table=False, \n               yerr=None, xerr=None, secondary_y=False, sort_columns=False)\n",
      "execution_count": null,
      "outputs": []
    },
    {
      "metadata": {
        "trusted": true
      },
      "cell_type": "code",
      "source": "# plot the BOP work done\nwork_data = reactor.quantities2(reactor.u_vec_history, reactor.params, reactor.params['time_stamps'])\nwork_data.plot(x=None, y=None, kind='line', ax=None, subplots=False, sharex=None, sharey=False, layout=None, figsize=(15,10),\n               use_index=True, title=None, grid=None, legend=True, style=None, logx=False, logy=False, loglog=False, \n               xticks=None, yticks=None, xlim=None, ylim=None, rot=None, fontsize=None, colormap=None, table=False, \n               yerr=None, xerr=None, secondary_y=False, sort_columns=False)",
      "execution_count": null,
      "outputs": []
    },
    {
      "metadata": {
        "trusted": true
      },
      "cell_type": "code",
      "source": "reactor.tmp()",
      "execution_count": null,
      "outputs": []
    },
    {
      "metadata": {
        "trusted": true
      },
      "cell_type": "code",
      "source": "reactor.plot_results(reactor.u_vec_history, normalize=False)",
      "execution_count": null,
      "outputs": []
    },
    {
      "metadata": {},
      "cell_type": "markdown",
      "source": "<a id=\"res3\"></a>\n# Shutdown\nThe reactor starts up as normal, operates for a certain period of time at steady state, and then shuts down to zero power."
    },
    {
      "metadata": {
        "trusted": true
      },
      "cell_type": "code",
      "source": "'''Setup up initial conditions'''\n\nimport numpy as np\n\nreactor.params['malfunction start'] = 13000 # malfunction starts at 1300 seconds and ends at 2000 seconds\nreactor.params['malfunction end'] = 0\nreactor.params['breakage start'] = 13000\nreactor.params['breakage end'] = 0\nreactor.params['shutdown time'] = 2000\n\nreactor.gen_time = reactor.params['gen_time'] # retrieve neutron generation time\nreactor.params['q_0'] = 1\n\nreactor.params['n_ss'] = 0 # neutronless steady state before start up\n\nreactor.rho_0_over_beta = 0.25 # $\n\nreactor.beta = reactor.params['beta'] # retrieve the delayed neutron fraction\nreactor.params['reactivity'] = reactor.rho_0_over_beta * reactor.beta # \"rho/beta = 10 cents\"\n\nreactor.params['temp_0'] = reactor.params['temp_o']\n\nreactor.params['tau_fake'] = 2 # s\n\n\n# setup remaining initial conditions\nreactor.setup_initial_conditions(reactor.params)",
      "execution_count": null,
      "outputs": []
    },
    {
      "metadata": {
        "trusted": true
      },
      "cell_type": "code",
      "source": "'''Evolve the point-reactor'''\n\ntime_final    = 12000 # 450 # s\nn_time_stamps = 1000 # number of solution values in time\n\nreactor.params['time_final']    = time_final\nreactor.params['n_time_stamps'] = n_time_stamps\n\n# Run the reactor and compute the history of the state variables; tabular form, one row per time stamp\nreactor.u_vec_history = reactor.run_point_reactor( reactor.f_vec, reactor.params )\n#print(u_vec_history)\nprint(\"done\")",
      "execution_count": null,
      "outputs": []
    },
    {
      "metadata": {
        "trusted": true
      },
      "cell_type": "code",
      "source": "#plot the q3prime and heat removed data\nheat_data = reactor.quantities1(reactor.u_vec_history, reactor.params, reactor.params['time_stamps'])\nheat_data.plot(x=None, y=None, kind='line', ax=None, subplots=False, sharex=None, sharey=False, layout=None, figsize=(15,10),\n               use_index=True, title=None, grid=None, legend=True, style=None, logx=False, logy=False, loglog=False, \n               xticks=None, yticks=None, xlim=None, ylim=None, rot=None, fontsize=None, colormap=None, table=False, \n               yerr=None, xerr=None, secondary_y=False, sort_columns=False)",
      "execution_count": null,
      "outputs": []
    },
    {
      "metadata": {
        "trusted": true
      },
      "cell_type": "code",
      "source": "# plot the BOP work done\nwork_data = reactor.quantities2(reactor.u_vec_history, reactor.params, reactor.params['time_stamps'])\nwork_data.plot(x=None, y=None, kind='line', ax=None, subplots=False, sharex=None, sharey=False, layout=None, figsize=(15,10),\n               use_index=True, title=None, grid=None, legend=True, style=None, logx=False, logy=False, loglog=False, \n               xticks=None, yticks=None, xlim=None, ylim=None, rot=None, fontsize=None, colormap=None, table=False, \n               yerr=None, xerr=None, secondary_y=False, sort_columns=False)",
      "execution_count": null,
      "outputs": []
    },
    {
      "metadata": {
        "trusted": true
      },
      "cell_type": "code",
      "source": "reactor.tmp()",
      "execution_count": null,
      "outputs": []
    },
    {
      "metadata": {
        "trusted": true
      },
      "cell_type": "code",
      "source": "reactor.plot_results(reactor.u_vec_history, normalize=False)",
      "execution_count": null,
      "outputs": []
    },
    {
      "metadata": {
        "trusted": true
      },
      "cell_type": "code",
      "source": "",
      "execution_count": null,
      "outputs": []
    }
  ],
  "metadata": {
    "celltoolbar": "Tags",
    "kernelspec": {
      "name": "python36",
      "display_name": "Python 3.6",
      "language": "python"
    },
    "latex_envs": {
      "LaTeX_envs_menu_present": true,
      "autoclose": false,
      "autocomplete": true,
      "bibliofile": "biblio.bib",
      "cite_by": "apalike",
      "current_citInitial": 1,
      "eqLabelWithNumbers": true,
      "eqNumInitial": 1,
      "hotkeys": {
        "equation": "Ctrl-E",
        "itemize": "Ctrl-I"
      },
      "labels_anchors": false,
      "latex_user_defs": false,
      "report_style_numbering": false,
      "user_envs_cfg": false
    },
    "language_info": {
      "mimetype": "text/x-python",
      "nbconvert_exporter": "python",
      "name": "python",
      "pygments_lexer": "ipython3",
      "version": "3.6.6",
      "file_extension": ".py",
      "codemirror_mode": {
        "version": 3,
        "name": "ipython"
      }
    }
  },
  "nbformat": 4,
  "nbformat_minor": 2
}