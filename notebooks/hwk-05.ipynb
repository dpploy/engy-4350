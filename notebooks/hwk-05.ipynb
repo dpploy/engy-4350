{
 "cells": [
  {
   "cell_type": "markdown",
   "metadata": {},
   "source": [
    "Engy-4350: Nuclear Reaction Engineering Sprint 2019 UMass Lowell; Prof. V. F. de Almeida **25Apr2019**\n",
    "\n",
    "# Homework 05  25Apr2019"
   ]
  },
  {
   "cell_type": "markdown",
   "metadata": {},
   "source": [
    "### Name: `your name`"
   ]
  },
  {
   "cell_type": "markdown",
   "metadata": {},
   "source": [
    "### Rubric for each assignment: \n",
    "\n",
    "|      Context                       |  Points |\n",
    "| -----------------------     | ------- |\n",
    "| Precision of the answer     |   80%   |\n",
    "| Answer Markdown readability |   10%   |\n",
    "| Code readability            |   10%   |\n",
    "    "
   ]
  },
  {
   "cell_type": "markdown",
   "metadata": {},
   "source": [
    "### <span style=\"color:red\">Guidance:</span>\n",
    " +  <span style=\"color:red\"> \n",
    "    Save your work frequently to a file locally to your computer.\n",
    "    </span>\n",
    " +  <span style=\"color:red\">\n",
    "    During your work and before submitting the final version do: `Kernel` -> `Restart & Run All`, to verify your notebook runs correctly.\n",
    "    </span>\n",
    " +  <span style=\"color:red\">\n",
    "    Save your file again.\n",
    "    </span>"
   ]
  },
  {
   "cell_type": "markdown",
   "metadata": {},
   "source": [
    "## <span style=\"color:blue\">Assignment 1 (50 pts).</span>\n",
    "\n",
    "### <span style=\"color:blue\"> Consider a **fission-electric cell**, constructed with a thin layer of $^{235}$U, pure metal (mass density 19.1 g/cm$^3$), as shown in the diagram below. The cell is inserted in a nuclear reactor with a constant thermal neutron flux where: $\\varphi = 10^{14}\\,\\frac{\\text{neutrons}}{\\text{cm}^2\\,\\text{s}}$. The area of the $^{235}$U layer facing the inside of the cell is constant, that is to say, only the thickness of the layer changes during irradiation. An electric current runs on the external circuit and it will be too small to measure after enough time has elapsed.\n",
    "</span>"
   ]
  },
  {
   "cell_type": "markdown",
   "metadata": {},
   "source": [
    "![](images/fission-electric-cell.png)"
   ]
  },
  {
   "cell_type": "markdown",
   "metadata": {},
   "source": [
    "###  <span style=\"color:blue\"> The **purity** of $^{235}$U in the fission layer is of great interest for the operation of the cell. Therefore assessing the purity of the layer stated by the supplier is needed. **Use \"nuclear\" data from the NNDC or any other of the nuclear data sites referred to in course notes.** Assume the data is for temperature of 20 C.\n",
    "    \n",
    "### <span style=\"color:blue\"> Address the following: </span>\n",
    "<span style=\"color:blue\">\n",
    "    \n",
    " 1. Everything remaining the same, the longevity of the electric current is greater the higher the purity of $^{235}$U is. Explain this.\n",
    " \n",
    " 1. Identify a physical quantity (other than electric current) that will determine the purity of $^{235}$U in the fission layer while operating the cell under normal conditions.\n",
    " \n",
    " 1. Derive a formula for the time-dependent variation of this purity-like quantity relative to its initial value.\n",
    " \n",
    " 1. Using the data given, evaluate the previously derived time-dependent formula at the long-time limit ($t\\rightarrow\\infty$).\n",
    " \n",
    " 1. How soon can a measurement of this quantity be made to evaluate the purity of the fission layer if the measurement is only reliable for a 1% variation?\n",
    " </span>"
   ]
  },
  {
   "cell_type": "code",
   "execution_count": null,
   "metadata": {},
   "outputs": [],
   "source": []
  }
 ],
 "metadata": {
  "kernelspec": {
   "display_name": "Python 3",
   "language": "python",
   "name": "python3"
  },
  "language_info": {
   "codemirror_mode": {
    "name": "ipython",
    "version": 3
   },
   "file_extension": ".py",
   "mimetype": "text/x-python",
   "name": "python",
   "nbconvert_exporter": "python",
   "pygments_lexer": "ipython3",
   "version": "3.7.1"
  },
  "latex_envs": {
   "LaTeX_envs_menu_present": true,
   "autoclose": false,
   "autocomplete": true,
   "bibliofile": "biblio.bib",
   "cite_by": "apalike",
   "current_citInitial": 1,
   "eqLabelWithNumbers": true,
   "eqNumInitial": 1,
   "hotkeys": {
    "equation": "Ctrl-E",
    "itemize": "Ctrl-I"
   },
   "labels_anchors": false,
   "latex_user_defs": false,
   "report_style_numbering": false,
   "user_envs_cfg": false
  }
 },
 "nbformat": 4,
 "nbformat_minor": 2
}
