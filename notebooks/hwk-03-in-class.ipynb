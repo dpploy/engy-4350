{
 "cells": [
  {
   "cell_type": "markdown",
   "metadata": {},
   "source": [
    "Engy-4350: Nuclear Reaction Engineering Sprint 2019 UMass Lowell; Prof. V. F. de Almeida **06Mar2019**\n",
    "\n",
    "# Homework 03 06Mar2019 In-Class"
   ]
  },
  {
   "cell_type": "markdown",
   "metadata": {},
   "source": [
    "### Name: `Valmor F. de Almeida`"
   ]
  },
  {
   "cell_type": "markdown",
   "metadata": {},
   "source": [
    "### Rubric for each assignment: \n",
    "\n",
    "|      Context                       |  Points |\n",
    "| -----------------------     | ------- |\n",
    "| Precision of the answer     |   80%   |\n",
    "| Answer Markdown readability |   10%   |\n",
    "| Code readability            |   10%   |\n",
    "    "
   ]
  },
  {
   "cell_type": "markdown",
   "metadata": {},
   "source": [
    "### <span style=\"color:red\">Guidance:</span>\n",
    " +  <span style=\"color:red\"> \n",
    "    Save your work frequently to a file locally to your computer.\n",
    "    </span>\n",
    " +  <span style=\"color:red\">\n",
    "    During your work and before submitting the final version do: `Kernel` -> `Restart & Run All`, to verify your notebook runs correctly.\n",
    "    </span>\n",
    " +  <span style=\"color:red\">\n",
    "    Save your file again.\n",
    "    </span>"
   ]
  },
  {
   "cell_type": "markdown",
   "metadata": {},
   "source": [
    "---\n",
    "### Table of Contents\n",
    "* [Assignment 1 (50 pts)](#p1)\n",
    "* [Assignment 2 (50 pts)](#p2)\n",
    "---"
   ]
  },
  {
   "cell_type": "markdown",
   "metadata": {},
   "source": [
    "## <span style=\"color:blue\">Assignment 1 (50 pts).</span><a id=\"p1\"></a>\n",
    "\n",
    "### <span style=\"color:blue\">Perform a sudden insertion of a steady source in a critical, steady state, fast reactor fueled with $^{239}$Pu using the 6-group delayed neutron emitter model. Use the data given in the course notes; provide the data in a tabular form with your work. From the transient response, compute the asymptotic slope of the neutron density curve and normalize by the source strength $q_0$. Compare this value with the theoretical limit.\n",
    "</span>"
   ]
  },
  {
   "cell_type": "markdown",
   "metadata": {},
   "source": [
    "Refer to Notebook 03a"
   ]
  },
  {
   "cell_type": "markdown",
   "metadata": {},
   "source": [
    "### Input Data<a id=\"data\"></a>\n",
    "\n",
    "Name                        | Parameter          | Value                | Unit             |\n",
    "----------------------------|--------------------|----------------------|------------------| \n",
    "neutron generation time     | $\\ell$             | $1\\times 10^{-8}$    |  s               | \n",
    "delayed neutron fraction    | $\\beta$            | $2.04\\times 10^{-3}$  |  -               |\n",
    "\n",
    "\n",
    "For thermal fission of $^{239}$Pu the following six-group delayed neutron precursors data is typically used (*Physics of Nuclear Kinetics*, G. R. Keepin, 1965, Addison-Wesley Pub. Co.):\n",
    "\n",
    "\n",
    "Delayed neutron emitter group No. | Decay cte ($\\lambda_i$,1/sec) | Relative yield ($\\beta_i/\\beta$) |\n",
    "----------------------------------|-------------------------------|----------------------------------| \n",
    "1                                 | 0.0129                        | 0.038                            |\n",
    "2                                 | 0.0311                        | 0.280                            | \n",
    "3                                 | 0.134                         | 0.216                            |  \n",
    "4                                 | 0.331                         | 0.328                            | \n",
    "5                                 | 1.26                         | 0.103                            |\n",
    "6                                 | 3.21                          | 0.035                            |"
   ]
  },
  {
   "cell_type": "code",
   "execution_count": 1,
   "metadata": {},
   "outputs": [],
   "source": [
    "#'''Parameters dictionary container'''\n",
    "\n",
    "params = dict()\n",
    "\n",
    "params['gen_time']          = 1.0e-8  # s\n",
    "params['beta']              = 2.04e-3  # \n",
    "params['species_decay']     = [0.0129, 0.0311, 0.134, 0.331, 1.26, 3.21] # 1/sec\n",
    "params['species_rel_yield'] = [0.038, 0.280, 0.216, 0.328, 0.103, 0.035] "
   ]
  },
  {
   "cell_type": "code",
   "execution_count": 2,
   "metadata": {},
   "outputs": [],
   "source": [
    "'''Sanity test relative yields add to one'''\n",
    "\n",
    "import numpy as np\n",
    "assert np.abs(np.sum(np.array(params['species_rel_yield']))-1.0) <= 1.e-8"
   ]
  },
  {
   "cell_type": "markdown",
   "metadata": {},
   "source": [
    "Check the delayed neutrons mean lifetime\n",
    "\n",
    "\\begin{equation*}\n",
    " \\overline{\\tau} = \\frac{1}{\\beta}\\sum_{i=1} \\beta_i/\\lambda_i\n",
    "\\end{equation*}"
   ]
  },
  {
   "cell_type": "code",
   "execution_count": 3,
   "metadata": {},
   "outputs": [
    {
     "name": "stdout",
     "output_type": "stream",
     "text": [
      "weighted mean lifetime of delayed neutrons 14.64 [s]\n"
     ]
    }
   ],
   "source": [
    "'''Weighted mean lifetime of delayed neutrons for the given data'''\n",
    "\n",
    "tau = np.array(params['species_rel_yield']) @ (1./np.array(params['species_decay']))\n",
    "print('weighted mean lifetime of delayed neutrons %1.2f [s]'%tau)"
   ]
  },
  {
   "cell_type": "code",
   "execution_count": 4,
   "metadata": {
    "code_folding": [
     2
    ]
   },
   "outputs": [],
   "source": [
    "'''Setup function for delayed neutron species concentrations at steady state'''\n",
    "\n",
    "def setup_initial_conditions(params):\n",
    "    \n",
    "    # setup the steady state for the delayed-neutron precursors\n",
    "    \n",
    "    n_species = len( params['species_decay'] )\n",
    "    \n",
    "    assert len(params['species_rel_yield']) == n_species\n",
    "    \n",
    "    import numpy as np\n",
    "    c_vec_0 = np.zeros( n_species, dtype=np.float64 ) # initialize conentration vector\n",
    "\n",
    "    species_decay = params['species_decay'] # retrieve list of decay constants\n",
    "    lambda_vec    = np.array(species_decay) # create a numpy vector\n",
    "\n",
    "    species_rel_yield = params['species_rel_yield']\n",
    "    beta = params['beta']\n",
    "    beta_vec = np.array( species_rel_yield ) * beta  # create the beta_i's vector\n",
    "\n",
    "    gen_time = params['gen_time'] # retrieve neutron generation time\n",
    "\n",
    "    n_ss = params['n_ss']\n",
    "    c_vec_ss = beta_vec/lambda_vec/gen_time * n_ss # compute the steady state precursors number density\n",
    "    \n",
    "    params['c_vec_ss'] = c_vec_ss\n",
    "    \n",
    "    # setup initial condition for variables\n",
    "    params['n_0']     = n_ss\n",
    "    params['c_vec_0'] = c_vec_ss\n",
    "    params['rho_0']   = params['reactivity']\n",
    "    \n",
    "    return"
   ]
  },
  {
   "cell_type": "code",
   "execution_count": 5,
   "metadata": {
    "code_folding": [
     2
    ]
   },
   "outputs": [],
   "source": [
    "'''Source function'''\n",
    "\n",
    "def q_source( t, params ):\n",
    "    '''\n",
    "    Neutron source function.  \n",
    "    \n",
    "    Parameters\n",
    "    ----------\n",
    "    t: float, required\n",
    "        Time.\n",
    "    params: dict, required\n",
    "        Dictionary of quantities. It must have a `'q_0'` key/value pair.\n",
    "    \n",
    "    Returns\n",
    "    -------\n",
    "    q: float\n",
    "        Value of source.\n",
    "\n",
    "    Examples\n",
    "    --------\n",
    "    '''\n",
    "    \n",
    "    q_0 = params['q_0']   \n",
    "        \n",
    "    return q_0"
   ]
  },
  {
   "cell_type": "code",
   "execution_count": 6,
   "metadata": {
    "code_folding": [
     2
    ]
   },
   "outputs": [],
   "source": [
    "'''ODE function'''\n",
    "\n",
    "def f_vec( time, u_vec, params ):  \n",
    "    \n",
    "    import numpy as np\n",
    "    assert np.all(u_vec >= 0.0)\n",
    "    \n",
    "    n_dens = u_vec[0]\n",
    "    \n",
    "    gen_time = params['gen_time'] \n",
    "    beta     = params['beta']\n",
    "    \n",
    "    species_decay = params['species_decay']\n",
    "    lambda_vec    = np.array(species_decay)\n",
    "    \n",
    "    species_rel_yield = params['species_rel_yield']\n",
    "    beta_vec = np.array(species_rel_yield) * beta\n",
    "    \n",
    "    assert len(lambda_vec)==len(beta_vec)\n",
    "    \n",
    "    rho_0 = params['rho_0']\n",
    "    \n",
    "    q_source_t = q_source(time, params)\n",
    "         \n",
    "    c_vec = u_vec[1:]\n",
    "    \n",
    "    n_species = len(lambda_vec)\n",
    "    f_tmp = np.zeros(n_species+1,dtype=np.float64) # vector for f_vec return\n",
    "    \n",
    "    # neutron balance\n",
    "    f_tmp[0] = (rho_0 - beta)/gen_time * n_dens + lambda_vec @ c_vec + q_source_t\n",
    "    \n",
    "    # loop over n species balance\n",
    "    f_tmp[1:] = beta_vec/gen_time * n_dens - lambda_vec * c_vec\n",
    "   \n",
    "    return f_tmp"
   ]
  },
  {
   "cell_type": "code",
   "execution_count": 7,
   "metadata": {
    "code_folding": [
     2
    ]
   },
   "outputs": [],
   "source": [
    "'''Create the point-reactor run function'''\n",
    "\n",
    "def run_point_reactor( f_vec, params ):\n",
    "\n",
    "    from scipy.integrate import odeint # Load ODE solver package\n",
    "\n",
    "    import numpy as np\n",
    "    time_final = params['time_final']\n",
    "    n_time_stamps = params['n_time_stamps']\n",
    "    time_stamps = np.linspace(0.0, time_final, num=n_time_stamps) # create the time stamps for solution values\n",
    "    params['time_stamps'] = time_stamps\n",
    "    \n",
    "    max_n_steps_per_time_step = 100 # max number of nonlinear algebraic solver iterations per time step\n",
    "\n",
    "    n_0     = params['n_0']\n",
    "    c_vec_0 = params['c_vec_0']\n",
    "       \n",
    "    # m-equation point reactor model\n",
    "    n_species = len(c_vec_0)\n",
    "    u_vec_0 = np.zeros(n_species+1,dtype=np.float64)\n",
    "    \n",
    "    u_vec_0[0]  = n_0\n",
    "    u_vec_0[1:] = c_vec_0\n",
    "            \n",
    "    (u_vec_history, info_dict) = odeint( f_vec, u_vec_0, time_stamps,\n",
    "                                         args=( params, ),\n",
    "                                         rtol=1e-4, atol=1e-4, mxstep=max_n_steps_per_time_step,\n",
    "                                         full_output=True, tfirst=True )\n",
    "\n",
    "    assert info_dict['message']=='Integration successful.',\\\n",
    "                     'Fatal: scipy.integrate.odeint failed %r'%info_dict['message']\n",
    "    \n",
    "    return u_vec_history"
   ]
  },
  {
   "cell_type": "code",
   "execution_count": 8,
   "metadata": {
    "code_folding": [
     2
    ]
   },
   "outputs": [],
   "source": [
    "'''Plotting function definition'''\n",
    "\n",
    "def plot_results( u_vec_history, semi_log=False, markers=False, precursors=True ):\n",
    "    \n",
    "    time_stamps = params['time_stamps']\n",
    "        \n",
    "    import matplotlib.pyplot as plt\n",
    "    \n",
    "    fig, ax1 = plt.subplots(1, figsize=(14, 6))\n",
    "\n",
    "    if precursors == True:\n",
    "        \n",
    "        ax2 = ax1.twinx() # duplicate x axes to plot n and c_i's in different y axes\n",
    "    \n",
    "        color_ids = np.linspace(0,1,u_vec_history[:,1:].shape[1])\n",
    "    \n",
    "        for (j,color_id) in zip( range(u_vec_history[:,1:].shape[1]), color_ids ):\n",
    "            color=plt.cm.nipy_spectral(color_id)\n",
    "        \n",
    "            ax2.plot(time_stamps,u_vec_history[:,j+1]/params['c_vec_0'][j],'-.',color=color,label=r'$c_%i$'%(j+1) )\n",
    "        \n",
    "        ax2.set_ylabel(r'$c_i/c_{i_0}$',fontsize=16,color='black')\n",
    "        ax2.tick_params(axis='y', labelcolor='black', labelsize=14)\n",
    "        ax2.legend(loc='lower right',fontsize=12)\n",
    "        if semi_log == True:\n",
    "            ax2.set_yscale('log') # uncomment to plot y in log scale\n",
    "        #ax2.grid(True)\n",
    "\n",
    "    if markers==True:\n",
    "        ax1.plot(time_stamps,u_vec_history[:,0]/params['n_0'],'-',marker='+',color='red',label=r'$n/n_0$' )\n",
    "    else:\n",
    "        ax1.plot(time_stamps,u_vec_history[:,0]/params['n_0'],'-',color='red',label=r'$n/n_0$' )\n",
    "\n",
    "    ax1.set_xlabel(r'Time [s]',fontsize=16)\n",
    "    ax1.set_ylabel(r'$n/n_0$',fontsize=16,color='black')\n",
    "    ax1.tick_params(axis='y', labelcolor='black', labelsize=14)\n",
    "    ax1.tick_params(axis='x', labelsize=14)\n",
    "    ax1.legend(loc='best',fontsize=12)\n",
    "    if semi_log == True:\n",
    "        ax1.set_yscale('log') # uncomment to plot y in log scale\n",
    "    ax1.grid(True)\n",
    "\n",
    "    plt.title(r'Point-Reactor Model: $\\rho/\\beta=$'\n",
    "              +str(params['reactivity']/params['beta'])\n",
    "              +r'; $q_0=$'+str(round(params['q_0'],2)),\n",
    "              fontsize=18)\n",
    "    fig.tight_layout()  # otherwise the right y-label is slightly clipped\n",
    "    plt.show()\n",
    "    print('')"
   ]
  },
  {
   "cell_type": "code",
   "execution_count": 9,
   "metadata": {
    "code_folding": [
     2
    ]
   },
   "outputs": [],
   "source": [
    "'''Utility function to peak at results table'''\n",
    "\n",
    "def peek( time, data, head=5, tail=5):  \n",
    "\n",
    "    import pandas as pd\n",
    "    pd.options.display.float_format = '{:.3e}'.format\n",
    "    pd.set_option('display.expand_frame_repr', False)\n",
    "    \n",
    "    layout = {'time':time[:head]}\n",
    "    layout['n'] = data[:head,0]\n",
    "    for j in range(1,data.shape[1]):\n",
    "        layout['c_%i'%j] = data[:head,j]\n",
    "    results = pd.DataFrame(layout)\n",
    "    print(results)\n",
    "    print('')\n",
    "    \n",
    "    layout = {'time':time[-tail:]}\n",
    "    layout['n'] = data[-tail:,0]\n",
    "    for j in range(1,data.shape[1]):\n",
    "        layout['c_%i'%j] = data[-tail:,j]\n",
    "    results = pd.DataFrame(layout)\n",
    "    print(results)\n",
    "    print('')"
   ]
  },
  {
   "cell_type": "code",
   "execution_count": 10,
   "metadata": {},
   "outputs": [],
   "source": [
    "'''Setup up initial conditions'''\n",
    "\n",
    "import numpy as np\n",
    "\n",
    "params['n_ss'] = np.random.random() # arbitrary value at steady state\n",
    "\n",
    "rho_ss = 0\n",
    "params['reactivity'] = rho_ss \n",
    "\n",
    "gen_time = params['gen_time'] # retrieve neutron generation time\n",
    "params['q_0'] = 1e-3/gen_time   # constant source inserted\n",
    "\n",
    "# setup remaining initial conditions\n",
    "setup_initial_conditions(params)"
   ]
  },
  {
   "cell_type": "code",
   "execution_count": 11,
   "metadata": {},
   "outputs": [],
   "source": [
    "'''Evolve the point-reactor'''\n",
    "\n",
    "time_final    = 300 # s\n",
    "n_time_stamps = 200 # number of solution values in time\n",
    "\n",
    "params['time_final']   = time_final\n",
    "params['n_time_stamps'] = n_time_stamps\n",
    "\n",
    "# Run the reactor and compute the history of the state variables; tabular form, one row per time stamp\n",
    "u_vec_history = run_point_reactor( f_vec, params )"
   ]
  },
  {
   "cell_type": "code",
   "execution_count": 12,
   "metadata": {},
   "outputs": [
    {
     "data": {
      "text/plain": [
       "<Figure size 1400x600 with 2 Axes>"
      ]
     },
     "metadata": {},
     "output_type": "display_data"
    },
    {
     "name": "stdout",
     "output_type": "stream",
     "text": [
      "\n"
     ]
    }
   ],
   "source": [
    "'''Plot neutron and delayed neutron emitter concentration in the reactor'''\n",
    "\n",
    "plot_results(u_vec_history)"
   ]
  },
  {
   "cell_type": "code",
   "execution_count": 13,
   "metadata": {},
   "outputs": [
    {
     "name": "stdout",
     "output_type": "stream",
     "text": [
      "       time         n       c_1       c_2       c_3       c_4       c_5       c_6\n",
      "0 0.000e+00 6.608e-02 3.971e+04 1.214e+05 2.173e+04 1.336e+04 1.102e+03 1.470e+02\n",
      "1 1.508e+00 7.421e-01 4.659e+04 1.714e+05 5.763e+04 6.111e+04 9.898e+03 1.572e+03\n",
      "2 3.015e+00 8.677e-01 5.503e+04 2.315e+05 9.576e+04 1.016e+05 1.319e+04 1.876e+03\n",
      "3 4.523e+00 9.750e-01 6.465e+04 2.985e+05 1.338e+05 1.353e+05 1.528e+04 2.121e+03\n",
      "4 6.030e+00 1.072e+00 7.526e+04 3.710e+05 1.710e+05 1.638e+05 1.701e+04 2.340e+03\n",
      "\n",
      "       time         n       c_1       c_2       c_3       c_4       c_5       c_6\n",
      "0 2.940e+02 1.112e+01 5.136e+06 1.845e+07 3.575e+06 2.228e+06 1.850e+05 2.472e+04\n",
      "1 2.955e+02 1.117e+01 5.166e+06 1.854e+07 3.592e+06 2.238e+06 1.859e+05 2.483e+04\n",
      "2 2.970e+02 1.122e+01 5.196e+06 1.863e+07 3.608e+06 2.248e+06 1.867e+05 2.494e+04\n",
      "3 2.985e+02 1.127e+01 5.226e+06 1.872e+07 3.625e+06 2.258e+06 1.876e+05 2.505e+04\n",
      "4 3.000e+02 1.132e+01 5.256e+06 1.882e+07 3.641e+06 2.269e+06 1.884e+05 2.516e+04\n",
      "\n"
     ]
    }
   ],
   "source": [
    "'''Look at the head and tail of the results'''\n",
    "\n",
    "time_stamps = params['time_stamps']\n",
    "peek(time_stamps,u_vec_history)"
   ]
  },
  {
   "cell_type": "code",
   "execution_count": 14,
   "metadata": {},
   "outputs": [
    {
     "name": "stdout",
     "output_type": "stream",
     "text": [
      "numerical slope = 3.35068e-07\n"
     ]
    }
   ],
   "source": [
    "slope_num = (u_vec_history[-1,0] - u_vec_history[-2,0]) / (time_stamps[-1]-time_stamps[-2])/ params['q_0']\n",
    "print('numerical slope = %1.5e'%slope_num)"
   ]
  },
  {
   "cell_type": "markdown",
   "metadata": {},
   "source": [
    "From class notes:\n",
    "\\begin{equation*}\n",
    "q_0 \\frac{\\ell}{\\ell + \\sum_{i=1}^{6} \\beta_i/\\lambda_i}\n",
    "\\end{equation*}"
   ]
  },
  {
   "cell_type": "code",
   "execution_count": 15,
   "metadata": {},
   "outputs": [
    {
     "name": "stdout",
     "output_type": "stream",
     "text": [
      "analytical slope = 3.34731e-07\n"
     ]
    }
   ],
   "source": [
    "beta = params['beta']\n",
    "sum_6 = np.array(params['species_rel_yield'])*beta @ (1./np.array(params['species_decay']))\n",
    "slope = gen_time /(gen_time + sum_6 )\n",
    "print('analytical slope = %1.5e'%slope)"
   ]
  },
  {
   "cell_type": "code",
   "execution_count": 16,
   "metadata": {},
   "outputs": [
    {
     "name": "stdout",
     "output_type": "stream",
     "text": [
      "slope error [%] = 0.10\n"
     ]
    }
   ],
   "source": [
    "print('slope error [%%] = %2.2f'%((slope_num-slope)/slope*100))"
   ]
  },
  {
   "cell_type": "markdown",
   "metadata": {},
   "source": [
    "Since the analytical result is asymptotic, here is a convergence test:\n",
    "\n",
    "Elapsed Time          | Numerical Normalized Slope     | Analytical  Normalized Slope     | Error   [%]  |\n",
    "----------|--------------|----------------|------------------| \n",
    "100 s     |  3.41273e-07   | 3.34731e-07    |  1.95              | \n",
    "200 s     |  3.36209e-07   | 3.34731e-07    |  0.44              | \n",
    "300 s     |  3.35073e-07   | 3.34731e-07    |  0.10              | \n"
   ]
  },
  {
   "cell_type": "markdown",
   "metadata": {},
   "source": [
    "## <span style=\"color:blue\">Assignment 2 (50 pts).</span><a id=\"p2\"></a>\n",
    "### <span style=\"color:blue\">Repeat Assignment 1 using the 8-group delayed neutron emitter model. The data is suggested by the IAEA report: [INDC-NDS-0646 2013](https://www-nds.iaea.org/publications/indc/indc-nds-0646/), use the 1 MeV data. Provide the data in a tabular form with your work. Compare the result against Assignment 1 in a tabular form and make pertinent comments about the differences.\n",
    "</span>"
   ]
  },
  {
   "cell_type": "markdown",
   "metadata": {},
   "source": [
    "Refer to Notebook 03a"
   ]
  },
  {
   "cell_type": "markdown",
   "metadata": {},
   "source": [
    "### Input Data<a id=\"data\"></a>\n",
    "\n",
    "\n",
    "For fast fission of $^{239}$Pu the following eight-group delayed neutron precursors data will be used (2013,IAEA, INDC-NDS-0646):\n",
    "\n",
    "\n",
    "Delayed neutron emitter group No. | Decay half-life time ($\\ln(2)/\\lambda_i$,sec) | Relative yield ($\\beta_i/\\beta$) |\n",
    "----------------------------------|-------------------------------|----------------------------------| \n",
    "1                                 | 55.6                        | 0.032                            |\n",
    "2                                 | 24.3                        | 0.220                            | \n",
    "3                                 | 16.3                         | 0.089                            |  \n",
    "4                                 | 5.21                         | 0.172                            | \n",
    "5                                 | 2.37                         | 0.322                            |\n",
    "6                                 | 1.04                          | 0.061                            |\n",
    "7                                 | 0.424                         | 0.084                               |\n",
    "8                                 | 0.195                        |   0.020                             |"
   ]
  },
  {
   "cell_type": "code",
   "execution_count": 17,
   "metadata": {},
   "outputs": [],
   "source": [
    "'''Parameters dictionary container'''\n",
    "\n",
    "# make sure the params dictionary is the same except for the following modification\n",
    "# do not clear the dictionary\n",
    "\n",
    "import math\n",
    "ln2 = math.log(2)\n",
    "\n",
    "params['species_decay']     = [ln2/55.6, ln2/24.3, ln2/16.3, ln2/5.21, ln2/2.37, ln2/1.04, ln2/0.424, ln2/0.195] # 1/sec\n",
    "params['species_rel_yield'] = [0.032, 0.220, 0.089, 0.172, 0.322, 0.061, 0.084, 0.020 ] "
   ]
  },
  {
   "cell_type": "code",
   "execution_count": 18,
   "metadata": {},
   "outputs": [],
   "source": [
    "import numpy as np\n",
    "assert np.abs(np.sum(np.array(params['species_rel_yield']))-1.0) <= 1.e-8"
   ]
  },
  {
   "cell_type": "code",
   "execution_count": 19,
   "metadata": {},
   "outputs": [
    {
     "name": "stdout",
     "output_type": "stream",
     "text": [
      "weighted mean lifetime of delayed neutrons 14.91 [s]\n"
     ]
    }
   ],
   "source": [
    "tau = np.array(params['species_rel_yield']) @ (1./np.array(params['species_decay']))\n",
    "print('weighted mean lifetime of delayed neutrons %1.2f [s]'%tau)"
   ]
  },
  {
   "cell_type": "code",
   "execution_count": 20,
   "metadata": {},
   "outputs": [],
   "source": [
    "'''Setup up initial conditions'''\n",
    "\n",
    "import numpy as np\n",
    "\n",
    "# setup remaining initial conditions\n",
    "setup_initial_conditions(params)"
   ]
  },
  {
   "cell_type": "code",
   "execution_count": 21,
   "metadata": {},
   "outputs": [],
   "source": [
    "'''Evolve the point-reactor'''\n",
    "\n",
    "time_final    = 300 # s\n",
    "n_time_stamps = 200 # number of solution values in time\n",
    "\n",
    "params['time_final']   = time_final\n",
    "params['n_time_stamps'] = n_time_stamps\n",
    "\n",
    "# Run the reactor and compute the history of the state variables; tabular form, one row per time stamp\n",
    "u_vec_history = run_point_reactor( f_vec, params )"
   ]
  },
  {
   "cell_type": "code",
   "execution_count": 22,
   "metadata": {},
   "outputs": [
    {
     "data": {
      "image/png": "[encoded data removed]",
      "text/plain": [
       "<Figure size 1008x432 with 2 Axes>"
      ]
     },
     "metadata": {
      "needs_background": "light"
     },
     "output_type": "display_data"
    },
    {
     "name": "stdout",
     "output_type": "stream",
     "text": [
      "\n"
     ]
    }
   ],
   "source": [
    "'''Plot neutron and delayed neutron emitter concentration in the reactor'''\n",
    "\n",
    "plot_results(u_vec_history)"
   ]
  },
  {
   "cell_type": "code",
   "execution_count": 23,
   "metadata": {},
   "outputs": [
    {
     "name": "stdout",
     "output_type": "stream",
     "text": [
      "       time         n       c_1       c_2       c_3       c_4       c_5       c_6       c_7       c_8\n",
      "0 0.000e+00 6.608e-02 3.460e+04 1.040e+05 2.821e+04 1.743e+04 1.484e+04 1.234e+03 6.927e+02 7.585e+01\n",
      "1 1.508e+00 7.366e-01 4.037e+04 1.431e+05 4.390e+04 4.588e+04 6.266e+04 8.394e+03 6.665e+03 8.115e+02\n",
      "2 3.015e+00 8.581e-01 4.741e+04 1.901e+05 6.238e+04 7.595e+04 1.047e+05 1.265e+04 8.449e+03 9.604e+02\n",
      "3 4.523e+00 9.623e-01 5.541e+04 2.424e+05 8.268e+04 1.059e+05 1.406e+05 1.552e+04 9.644e+03 1.083e+03\n",
      "4 6.030e+00 1.056e+00 6.423e+04 2.991e+05 1.043e+05 1.351e+05 1.716e+05 1.772e+04 1.067e+04 1.193e+03\n",
      "\n",
      "       time         n       c_1       c_2       c_3       c_4       c_5       c_6       c_7       c_8\n",
      "0 2.940e+02 1.091e+01 4.347e+06 1.535e+07 4.329e+06 2.813e+06 2.426e+06 2.028e+05 1.142e+05 1.252e+04\n",
      "1 2.955e+02 1.096e+01 4.373e+06 1.543e+07 4.350e+06 2.826e+06 2.437e+06 2.038e+05 1.147e+05 1.257e+04\n",
      "2 2.970e+02 1.101e+01 4.399e+06 1.551e+07 4.371e+06 2.839e+06 2.448e+06 2.047e+05 1.152e+05 1.263e+04\n",
      "3 2.985e+02 1.106e+01 4.424e+06 1.559e+07 4.392e+06 2.852e+06 2.459e+06 2.056e+05 1.157e+05 1.269e+04\n",
      "4 3.000e+02 1.111e+01 4.450e+06 1.567e+07 4.414e+06 2.865e+06 2.470e+06 2.065e+05 1.163e+05 1.274e+04\n",
      "\n"
     ]
    }
   ],
   "source": [
    "'''Look at the head and tail of the results'''\n",
    "\n",
    "time_stamps = params['time_stamps']\n",
    "peek(time_stamps,u_vec_history)"
   ]
  },
  {
   "cell_type": "code",
   "execution_count": 24,
   "metadata": {},
   "outputs": [
    {
     "name": "stdout",
     "output_type": "stream",
     "text": [
      "numerical slope = 3.29020e-07\n"
     ]
    }
   ],
   "source": [
    "slope_num = (u_vec_history[-1,0] - u_vec_history[-2,0]) / (time_stamps[-1]-time_stamps[-2])/ params['q_0']\n",
    "print('numerical slope = %1.5e'%slope_num)"
   ]
  },
  {
   "cell_type": "markdown",
   "metadata": {},
   "source": [
    "From class notes:\n",
    "\\begin{equation*}\n",
    "q_0 \\frac{\\ell}{\\ell + \\sum_{i=1}^{8} \\beta_i/\\lambda_i}\n",
    "\\end{equation*}"
   ]
  },
  {
   "cell_type": "code",
   "execution_count": 25,
   "metadata": {},
   "outputs": [
    {
     "name": "stdout",
     "output_type": "stream",
     "text": [
      "analytical slope = 3.28665e-07\n"
     ]
    }
   ],
   "source": [
    "beta = params['beta']\n",
    "sum_8 = np.array(params['species_rel_yield'])*beta @ (1./np.array(params['species_decay']))\n",
    "slope = gen_time /(gen_time + sum_8 )\n",
    "print('analytical slope = %1.5e'%slope)"
   ]
  },
  {
   "cell_type": "code",
   "execution_count": 26,
   "metadata": {},
   "outputs": [
    {
     "name": "stdout",
     "output_type": "stream",
     "text": [
      "slope error [%] = 0.11\n"
     ]
    }
   ],
   "source": [
    "print('slope error [%%] = %2.2f'%((slope_num-slope)/slope*100))"
   ]
  },
  {
   "cell_type": "markdown",
   "metadata": {},
   "source": [
    "Since the analytical result is asymptotic, here is a convergence test:\n",
    "\n",
    "Elapsed Time          | Numerical Normalized Slope     | Analytical  Normalized Slope     | Error   [%]  |\n",
    "----------|--------------|----------------|------------------| \n",
    "100 s     |  4.78777e-07   | 4.74164e-07    |  1.89              | \n",
    "200 s     |  4.74772e-07   | 4.74164e-07    |  0.44              |\n",
    "300 s     |  4.74241e-07   | 4.74164e-07    |  0.11              | \n",
    "\n",
    "Therefore the new 2013 eight-group data provide better convergence than the six-group, 1964 data."
   ]
  },
  {
   "cell_type": "markdown",
   "metadata": {},
   "source": [
    "### Comparative Analysis<a id=\"data\"></a>"
   ]
  },
  {
   "cell_type": "markdown",
   "metadata": {},
   "source": [
    "Comparing the weighted mean lifetime of delayed neutrons\n",
    "\n",
    "\\begin{equation*}\n",
    " \\overline{\\tau} = \\frac{1}{\\beta}\\sum_{i=1}^{6\\,\\text{or}\\,8} \\beta_i/\\lambda_i\n",
    "\\end{equation*}\n",
    "\n",
    "then the relative change of this quantity is"
   ]
  },
  {
   "cell_type": "code",
   "execution_count": 27,
   "metadata": {},
   "outputs": [
    {
     "name": "stdout",
     "output_type": "stream",
     "text": [
      "delayed neutron mean lifetime change [%] = 1.85\n"
     ]
    }
   ],
   "source": [
    "'''Delayed neutron mean lifetime change'''\n",
    "\n",
    "print('delayed neutron mean lifetime change [%%] = %2.2f'%(100*(sum_8-sum_6)/sum_6))"
   ]
  },
  {
   "cell_type": "markdown",
   "metadata": {},
   "source": [
    "The corresponding change in normalized slope \n",
    "\n",
    "\\begin{equation*}\n",
    "\\frac{\\ell}{\\ell + \\beta\\,\\overline{\\tau}}\n",
    "\\end{equation*}\n",
    "\n",
    "for this reactor response case is "
   ]
  },
  {
   "cell_type": "code",
   "execution_count": 28,
   "metadata": {},
   "outputs": [
    {
     "name": "stdout",
     "output_type": "stream",
     "text": [
      "slope change [%] = -1.81\n"
     ]
    }
   ],
   "source": [
    "'''Slope change  data'''\n",
    "\n",
    "slope_6g = gen_time / (gen_time + sum_6)\n",
    "slope_8g = gen_time / (gen_time + sum_8)\n",
    "\n",
    "print('slope change [%%] = %2.2f'%(100*(slope_8g-slope_6g)/slope_6g))"
   ]
  },
  {
   "cell_type": "markdown",
   "metadata": {},
   "source": [
    "In summary there is an overall 2% change in the response slope which is the key parameter of this step change in source:"
   ]
  },
  {
   "cell_type": "markdown",
   "metadata": {},
   "source": [
    " | Delayed Neutron Mean Lifetime Change [%]     | Slope Change   [%] |\n",
    "|--------------|----------------| \n",
    "  |  1.85       | -1.81               | \n",
    "\n"
   ]
  },
  {
   "cell_type": "markdown",
   "metadata": {},
   "source": [
    "The head-to-head comparison of delayed neutron emitter decay constants and relative partial yields show greater disparity but this is not to be taken literaly because one cannot really compare six and eight groups directly."
   ]
  },
  {
   "cell_type": "markdown",
   "metadata": {},
   "source": [
    "Delayed neutron emitter group No. | Decay cte ($\\lambda_i$,1/sec) | Decay cte ($\\lambda_i$,1/sec) | Change [%] |\n",
    "----------------------------------|-----------------------------|---------------------------------|------------|\n",
    "1                                 | 0.0124                      | 0.0129  | -3.9   |\n",
    "2                                 | 0.0285                      | 0.0311  | -8.4   |\n",
    "3                                 | 0.0425                      | 0.134   | -68.3  |\n",
    "4                                 | 0.1330                      | 0.331   | -59.82 |\n",
    "5                                 | 0.2924                      | 1.26    | -76.8  |\n",
    "6                                 | 0.6664                      | 3.21    | -79.2  |\n",
    "7                                 | 1.6347                      | -       |  -     |\n",
    "8                                 | 3.5546                      |   -     |  -     |\n",
    "Average                           | 0.7956                      |  0.8298 | -4.1  |\n",
    "\n",
    "\n",
    "\n",
    "Delayed neutron emitter group No. | Relative yield ($\\beta_i/\\beta$) | Relative yield ($\\beta_i/\\beta$) | Change [%] | \n",
    "----------------------------------|-------------------------------|-----------|-----------|\n",
    "1                                 |  0.032                        | 0.038     |  -15.80  |\n",
    "2                                 |  0.220                        | 0.280     |  -21.42  |\n",
    "3                                 |  0.089                        | 0.216     |  -58.80  |\n",
    "4                                 |  0.172                        | 0.328     |  -47.56  |\n",
    "5                                 |  0.322                        | 0.103     |  212.62  |\n",
    "6                                 |  0.061                        | 0.035     |  74.29   |\n",
    "7                                 |  0.084                        | -         |   -  |\n",
    "8                                 |  0.020                        | -         |    -  |\n",
    "Average                           |  0.125                        | 0.167     | -25.1 | \n",
    "\n",
    "\n",
    "\n",
    "\n"
   ]
  },
  {
   "cell_type": "code",
   "execution_count": null,
   "metadata": {},
   "outputs": [],
   "source": []
  }
 ],
 "metadata": {
  "kernelspec": {
   "display_name": "Python 3",
   "language": "python",
   "name": "python3"
  },
  "language_info": {
   "codemirror_mode": {
    "name": "ipython",
    "version": 3
   },
   "file_extension": ".py",
   "mimetype": "text/x-python",
   "name": "python",
   "nbconvert_exporter": "python",
   "pygments_lexer": "ipython3",
   "version": "3.7.1"
  },
  "latex_envs": {
   "LaTeX_envs_menu_present": true,
   "autoclose": false,
   "autocomplete": true,
   "bibliofile": "biblio.bib",
   "cite_by": "apalike",
   "current_citInitial": 1,
   "eqLabelWithNumbers": true,
   "eqNumInitial": 1,
   "hotkeys": {
    "equation": "Ctrl-E",
    "itemize": "Ctrl-I"
   },
   "labels_anchors": false,
   "latex_user_defs": false,
   "report_style_numbering": false,
   "user_envs_cfg": false
  }
 },
 "nbformat": 4,
 "nbformat_minor": 2
}
