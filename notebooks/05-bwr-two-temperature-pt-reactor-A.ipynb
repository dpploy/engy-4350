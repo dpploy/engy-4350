{
  "cells": [
    {
      "metadata": {
        "trusted": true
      },
      "cell_type": "code",
      "source": "!pip install iapws",
      "execution_count": 1,
      "outputs": [
        {
          "output_type": "stream",
          "text": "Requirement already satisfied: iapws in /home/nbuser/anaconda3_501/lib/python3.6/site-packages (1.4)\nRequirement already satisfied: scipy in /home/nbuser/anaconda3_501/lib/python3.6/site-packages (from iapws) (1.1.0)\n\u001b[33mWARNING: You are using pip version 19.2.2, however version 19.3 is available.\nYou should consider upgrading via the 'pip install --upgrade pip' command.\u001b[0m\n",
          "name": "stdout"
        }
      ]
    },
    {
      "metadata": {},
      "cell_type": "markdown",
      "source": "Engy-4350: Nuclear Reactor Engineering Spring 2019 UMass Lowell; Prof. V. F. de Almeida **19Mar2019**, Austin T. Rotker, **Aug2019**\n\n# 05. Two-Temperature Boiling Water Reactor Example Part A\n$  \n  \\newcommand{\\Amtrx}{\\boldsymbol{\\mathsf{A}}}\n  \\newcommand{\\Bmtrx}{\\boldsymbol{\\mathsf{B}}}\n  \\newcommand{\\Mmtrx}{\\boldsymbol{\\mathsf{M}}}\n  \\newcommand{\\Imtrx}{\\boldsymbol{\\mathsf{I}}}\n  \\newcommand{\\Pmtrx}{\\boldsymbol{\\mathsf{P}}}\n  \\newcommand{\\Lmtrx}{\\boldsymbol{\\mathsf{L}}}\n  \\newcommand{\\Umtrx}{\\boldsymbol{\\mathsf{U}}}\n  \\newcommand{\\Smtrx}{\\boldsymbol{\\mathsf{S}}}\n  \\newcommand{\\xvec}{\\boldsymbol{\\mathsf{x}}}\n  \\newcommand{\\uvar}{\\boldsymbol{u}}\n  \\newcommand{\\fvar}{\\boldsymbol{f}}\n  \\newcommand{\\avec}{\\boldsymbol{\\mathsf{a}}}\n  \\newcommand{\\bvec}{\\boldsymbol{\\mathsf{b}}}\n  \\newcommand{\\cvec}{\\boldsymbol{\\mathsf{c}}}\n  \\newcommand{\\rvec}{\\boldsymbol{\\mathsf{r}}}\n  \\newcommand{\\mvec}{\\boldsymbol{\\mathsf{m}}}\n  \\newcommand{\\gvec}{\\boldsymbol{\\mathsf{g}}}\n  \\newcommand{\\zerovec}{\\boldsymbol{\\mathsf{0}}}\n  \\newcommand{\\norm}[1]{\\bigl\\lVert{#1}\\bigr\\rVert}\n  \\newcommand{\\transpose}[1]{{#1}^\\top}\n  \\DeclareMathOperator{\\rank}{rank}\n  \\newcommand{\\Power}{\\mathcal{P}}\n$"
    },
    {
      "metadata": {},
      "cell_type": "markdown",
      "source": "---\n## Table of Contents\n* [Objectives](#obj)\n* [Introduction](#intro)\n* [Problem Statement](#ps)\n* [Input Data](#data)\n* [Steady state](#ss)\n* [Vector ODE System](#vodes)\n* [Function library](#flib)\n* [One-Group Energy Neutron Balance](#nbal)\n* [Balance of Plant](#bop)\n* [Plant Startup Results](#res1)\n\n---"
    },
    {
      "metadata": {},
      "cell_type": "markdown",
      "source": "## Objectives<a id=\"obj\"></a>\n+ Use one-group energy, two-temperature, point-reactor dynamics modeling (six-group delayed neutron emitters) to obtain insight on neutron density behavior with time-dependent reactivity of a Boiling Water Reactor during startup and steady state operation.\n+ Explore and understand intrinsic temperature reactivity coefficient feedback from nuclear sources."
    },
    {
      "metadata": {},
      "cell_type": "markdown",
      "source": "## Introduction<a id=\"intro\"></a>\n\nIn-class course notes OneNote [ChEn-4350-feedback](https://studentuml-my.sharepoint.com/:o:/g/personal/valmor_dealmeida_uml_edu/Eo9JUns42F1Pqmq4tFS9sJsBv2jF8UDQvRb5l5Z2D5ssag?e=FDeSpV).\n\nRefer to Notebook 03.\n"
    },
    {
      "metadata": {},
      "cell_type": "markdown",
      "source": "## Problem Statement<a id=\"ps\"></a>\n\nConsider a boiling water reactor, with UO$_2$ fuel and a light water moderator and coolant.\nGiven the neutron generation time $\\ell$, delayed neutron fraction, $\\beta$, decay constants of a six-group delayed neutron emitters, $\\lambda_i$, and corresponding yield of delayed neutron fractions for each emitter, $\\beta_i$, calculate the pointwise neutron density variation with time for **varying** neutron reactivity, $\\rho(t)$.\n\n![](images/point-reactor-hx.png)"
    },
    {
      "metadata": {},
      "cell_type": "markdown",
      "source": "## Input Data<a id=\"data\"></a>\n\nData pertaining to one-group energy neutron balance. \n\nName                        | Parameter     | Value                | Unit             |\n----------------------------|---------------|----------------------|------------------| \nneutron generation time                           | $\\ell$             | $1\\times 10^{-4}$    |  s | \ndelayed neutron fraction                          | $\\beta$            | $6.5\\times 10^{-3}$  |  - |\nneutron diffusion coeff.                          | $D$                | $0.84$              | cm |\ncore radius                                       | $R$                | $1.8\\times 10^{2}$  | cm  |\ncore height                                       | $H$                | $2.8\\times 10^{2}$  | cm  |\ninfinite medium neutron reproduction factor       | $k_\\infty$ | 1.118 | - |\ngraphite effective macroscopic absorption cross section ref. | $\\overline{\\Sigma}_\\text{a}^\\text{(o)} $ | $2.74\\times 10^{-4}$ |  cm$^{-1}$ |\nother quantities; possibly microscopic cross sections | . | . |\n. | . | . |\n\nFor thermal fission of $^{235}$U the following six-group delayed neutron precursors data is typically used (*Physics of Nuclear Kinetics*, G. R. Keepin, 1965, Addison-Wesley Pub. Co.):\n\n\nDelayed neutron emitter group No. | Decay cte ($\\lambda_i$,1/sec) | Relative yield ($\\beta_i/\\beta$) |\n----------------------------------|-------------------------------|----------------------------------| \n1                                 | 0.0124                        | 0.033                            |\n2                                 | 0.0305                        | 0.219                            | \n3                                 | 0.111                         | 0.196                            |  \n4                                 | 0.301                         | 0.395                            | \n5                                 | 1.14                          | 0.115                            |\n6                                 | 3.01                          | 0.042                            |"
    },
    {
      "metadata": {},
      "cell_type": "markdown",
      "source": "Data pertaining to two-temperature heat balances.\n\nName                        | Parameter     | Value                | Unit             |\n----------------------------|---------------|----------------------|------------------| \nfission energy per fission                        | $G_\\text{f}$  | 180               | MeV/fission |\n$^{235}$U fuel enrichment                         | $\\epsilon$ | 3 | wt% |\nUO$_2$ fuel material mass density                 | $\\rho_\\text{fm}$ | 10.5 | g/cc |\nmoderator-fuel ratio (atomic number concentration) | $N^{M}/N^{U}$ | 387 |\n$^{235}$U thermal microscopic fission cross section | $\\sigma_{\\text{f}_\\text{o}}$ | 586.2 | barn |\nthermal neutron temperature                       | $T^{(\\text{o})}$ | 20 | C |\nthermal neutron velocity                          | $v_\\text{(o)}$     | 2200 | m/s |\nheat transport coeff. | . | . | . |\nfuel/moderator heat capacity | . | . | . |\ncoolant heat capacity | . | . | . |\nfuel/moderator mass density | . | . | . |\ncoolant mass density | . | . | . |\nmoderator/fuel volume | . | . | . |\ncoolant volume | . | . | . |\ncoolant flow rate | . | . | . |\n\nThe residence time of the coolant in the core\n\n\\begin{equation*}\n\\tau = V_c / q_c\n\\end{equation*}\n"
    },
    {
      "metadata": {},
      "cell_type": "markdown",
      "source": "## One-Group Energy  Neutron Balance<a id=\"nbal\"></a>\n\nThe space-invariant neutron balance for the point-reactor model is\n\n\\begin{equation*}\n\\frac{\\text{d}n}{\\text{d}t}  = \\frac{\\rho(t)-\\beta}{\\ell}\\, n + \\sum\\limits_{i=1}^{6} \\lambda_i\\,c_i  + q(t),\n\\end{equation*}\n\nwhere the first term on the right side of the equation represents the net production of neutrons not accounting for delayed neutrons, and the second term accounts for the source of delayed neutrons considering 6 groups of delayed neutron emitters resulting from the fission of $^{235}$U nuclei. Therefore a balance of neutron emitter species is also necessary\n\n\\begin{equation*}\n\\frac{\\text{d}c_i}{\\text{d}t}  = \\frac{\\beta_i}{\\ell}\\, n - \\lambda_i\\,c_i ,\n     \\ \\ \\ \\ \\ \\forall \\ \\ \\ \\ \\  i=1,\\ldots,6.\n\\end{equation*}\n\nwhere the first term on the right side of the equation is the source of emitters as a function of the neutron number density $n(t)$, and the second term is the consumption rate of the emitter by radioactive decay obtained as a function of the product of the number concentration of the emmiter, $c_i(t)$, multiplied by its decay constant $\\lambda_i$. Here the number concentration of of the $i$th emitter, $c_i$ is considered in terms of delayed neutron number density, hence the units are the same as $n$.\n\nThe current model considers the temperature reactivity coefficient, $\\alpha_{T_n}$, that is, \n\n\\begin{equation*}\n \\rho(t) = \\rho_0 + \\alpha_{T_n}(T_f)\\,\\bigl(T_f(t) - T^{(0)}\\bigr),\n\\end{equation*}\n\nwhere basic nuclear effects are taking into account through the sub-model\n\n\\begin{equation*}\n \\alpha_{T_n}(T) = - \\frac{B^2\\,D}{2\\,k_\\infty\\,\\overline{\\Sigma}_a^{(\\text{o})}\\,\\sqrt{T^\\text{(o)}\\,T}}.\n\\end{equation*}\n\nA heat balance in the static fuel dispersed into the moderator gives\n\n\\begin{equation*}\n\\frac{\\text{d}T_f}{\\text{d}t} = - \\frac{1}{\\rho_f\\,c_{pf}}\\biggl(q^{'''}(t) - \\frac{\\dot{Q}_\\text{f}}{V_f} \\biggr) \n\\end{equation*}\n\nwhere the heat rate sink in the fuel/moderator is \n\n\\begin{equation*}\n{\\dot{Q}_\\text{f}} = -UA\\bigl(T_f-T_c\\bigr), \n\\end{equation*}\n\nand the nuclear heating power is given by\n\n\\begin{equation*}\nq^{'''}(t) = G_f\\frac{\\sqrt{\\pi}}{2}\\,\\sigma_\\text{fo}\\,\\sqrt{\\frac{T^\\text{(o)}}{T}}\\,\\biggl(\\frac{\\epsilon\\,w_\\text{fs}\\,\\rho_\\text{fm}}{M_\\text{fn}}\\,i\\,N_A\\biggr)\\,n(t)\\,v_\\text{(o)} .\n\\end{equation*}\n\nA heat balance in the flowing coolant fluid produces\n\n\\begin{equation*}\n\\frac{\\text{d}T_c}{\\text{d}t} = -\\frac{1}{\\tau_c}\\biggl(T_c-T_{in}\\biggr)  \n                                - \\frac{1}{\\rho_c\\,c_{pc}}\\biggl( \\frac{\\dot{Q}_\\text{f}}{V_c} \\biggr) \n\\end{equation*}\n\nwhere the heat rate source is the negative of the heat rate sink in the fuel/moderator."
    },
    {
      "metadata": {},
      "cell_type": "markdown",
      "source": "## Steady State<a id=\"ss\"></a>\n\nNeutron density and delayed neutron precursor concentrations are related as follows:\n\n\\begin{align*}\nn_\\text{ss}  &= -\\frac{q_\\text{ss}\\,\\ell }{\\rho_\\text{ss} }\n\\\\\nc_{i_\\text{ss}}  &= \\frac{\\beta_i}{\\lambda_i\\,\\ell}\\, n_\\text{ss}   \\ \\ \\ \\ \\forall \\ \\ \\ \\ i=1,\\ldots,6 .\n\\end{align*}"
    },
    {
      "metadata": {
        "code_folding": [],
        "trusted": true
      },
      "cell_type": "code",
      "source": "'''Setup function for delayed neutron species concentrations at steady state'''\n\ndef setup_initial_conditions(params):\n    \n    # setup the steady state for the delayed-neutron precursors\n    \n    n_species = len(params['species_decay'])\n    \n    assert len(params['species_rel_yield']) == n_species\n    \n    import numpy as np\n    c_vec_0 = np.zeros(n_species,dtype=np.float64) # initialize conentration vector\n\n    species_decay = params['species_decay'] # retrieve list of decay constants\n    lambda_vec    = np.array(species_decay) # create a numpy vector\n    \n    beta = params['beta']\n    species_rel_yield = params['species_rel_yield']\n    beta_vec = np.array(species_rel_yield) * beta  # create the beta_i's vector\n\n    gen_time = params['gen_time'] # retrieve neutron generation time\n\n    n_ss = params['n_ss']\n    c_vec_ss = beta_vec/lambda_vec/gen_time * n_ss # compute the steady state precursors number density\n    \n    params['c_vec_ss'] = c_vec_ss\n    \n    # setup initial condition for variables\n    params['n_0']     = n_ss\n    params['c_vec_0'] = c_vec_ss\n    params['rho_0']   = params['reactivity']\n    \n    params['temp_f_0'] = 300\n    params['temp_c_0'] = params['temp_0']\n    params['pressure_0'] = 1.013 # bar\n    \n    return\n",
      "execution_count": 2,
      "outputs": []
    },
    {
      "metadata": {},
      "cell_type": "markdown",
      "source": "## Vector ODE System<a id=\"vodes\"></a>\n\nRefer to course notes OneNote [ChEn-3170-odes](https://studentuml-my.sharepoint.com/:o:/g/personal/valmor_dealmeida_uml_edu/EmY427F-dSBKkpfFOx4ikf8BVAlJXL5iep1g7V7hcTQxJQ?e=98c69b).\n\nA vector notation for the foregoing system of equations greatly improves the generality of the derived computer code. Towards this goal let us define\n\n\\begin{equation*}\n\\frac{d\\uvar}{dt} = \\fvar( \\uvar, t )\n\\end{equation*}\n\nwhere $\\uvar(t) = (u_1,u_2,u_3,u_4,u_5,u_6,u_7)$ is the state vector and we assign \n\n\\begin{align*}\n u_1(t)&=n(t),\\\\\n u_2(t)&=c_1(t),\\\\\n u_3(t)&=c_2(t),\\\\\n u_4(t)&=c_3(t),\\\\\n u_5(t)&=c_4(t),\\\\\n u_6(t)&=c_5(t),\\\\\n u_7(t)&=c_6(t),\\\\\n u_8(t)&=T_f(t),\\\\\n u_9(t)&=T_c(t).\n\\end{align*}\n\nAlso for $\\fvar(\\uvar,t) = \\bigl(f_1(\\uvar,t), f_2(\\uvar,t), f_3(\\uvar,t), f_4(\\uvar,t), f_5(\\uvar,t), f_6(\\uvar,t), f_7(\\uvar,t)\\bigr)$ we assign \n\n\\begin{align*}\n f_1 & = \\frac{\\rho(t)-\\beta}{\\ell}\\, u_1 + \\sum\\limits_{i=2}^{7} \\lambda_i\\,u_i + q(t), \\\\\n f_2 & = \\frac{\\beta_1}{\\ell}\\, u_1 - \\lambda_1\\,u_2, \\\\\n f_3 & = \\frac{\\beta_2}{\\ell}\\, u_1 - \\lambda_2\\,u_3, \\\\\n f_4 & = \\frac{\\beta_3}{\\ell}\\, u_1 - \\lambda_3\\,u_4, \\\\\n f_5 & = \\frac{\\beta_4}{\\ell}\\, u_1 - \\lambda_4\\,u_5, \\\\\n f_6 & = \\frac{\\beta_5}{\\ell}\\, u_1 - \\lambda_5\\,u_6, \\\\\n f_7 & = \\frac{\\beta_6}{\\ell}\\, u_1 - \\lambda_6\\,u_7,  \\\\\n f_8 & = - \\frac{1}{\\rho_f\\,c_{pf}}\\biggl(q^{'''}(t) - \\frac{\\dot{Q}_\\text{f}}{V_f} \\biggr), \\\\\n f_9 & = -\\frac{1}{\\tau_c}\\biggl(T_c-T_{in}\\biggr)  \n                                - \\frac{1}{\\rho_c\\,c_{pc}}\\biggl( \\frac{\\dot{Q}_\\text{f}}{V_c} \\biggr).\n\\end{align*}\n\nFinally, the initial conditions given are as follows:\n\n\\begin{align*}\n u_1(0)&=n_0,\\\\\n u_2(0)&=c_{1_0},\\\\\n u_3(0)&=c_{2_0},\\\\\n u_4(0)&=c_{3_0},\\\\\n u_5(0)&=c_{4_0},\\\\\n u_6(0)&=c_{5_0},\\\\\n u_7(0)&=c_{6_0},\\\\\n u_8(0)&=T_{f_0},\\\\\n u_9(0)&=T_{c_0}\n\\end{align*}\n\n\nwhere $n_0$ and $c_{i_0}$ are initial values for the unknowns given by the problem specification."
    },
    {
      "metadata": {},
      "cell_type": "markdown",
      "source": "## Function Library <a id=\"flib\"></a>\n\nFunctions used later in the notebook."
    },
    {
      "metadata": {},
      "cell_type": "markdown",
      "source": "The moderator temperature reactivity coefficient is the major contributor to the power coefficient in a boiling water reactor. It can be calculated by the following equation:\n\n\\begin{equation*}\n\\alpha_\\text{m} = \\frac{dK}{dT_\\text{m}}\\frac{1}{K}\\\n\\end{equation*}\n\nWhere $\\alpha_\\text{m}$ is the moderator temperature feedback coefficient, K is the neutron multiplecation factor for a finite medium, and $T_\\text{m}$ is the temperature of the moderator. K is calculated as follows:\n\n\\begin{equation*}\nK = \\frac{\\eta \\epsilon P F}{1 + (\\tau + L^2)B^2 + \\tau L^2 B^4}\n\\end{equation*}\n\nPlugging this in to the original moderator temperature reactivity coefficient equation leaves the following differential equation:\n\n\\begin{equation*}\n\\alpha_\\text{m} = \\frac{d}{dT_\\text{m}}\\frac{1 + (\\tau + L^2)B^2 + \\tau L^2 B^4}{\\eta \\epsilon P F}\\\n\\end{equation*}\n\nWith $\\tau$ being the fermi age or slowing down area, $L$ being the neutron diffusion length, $B$ being buckling, $\\eta$ being neutron yield, $\\epsilon$ being fast fission factor, $P$ being resonance escape probability and $F$ being thermal utilization. Only $\\tau$, $P$ and $F$ vary significantly with moderator temperature, with $L$ and $B$ being assumed constants over the range of temperatures.\n\n$\\tau$ is found as follows:\n\n\\begin{equation*}\n\\tau = \\frac{D_\\text{f}}{\\Sigma_\\text{1}}\n\\end{equation*}\n\nwith $D_\\text{f}$ being the diffusion coefficient and equal to:\n\n\\begin{equation*}\nD_\\text{f} = \\frac{1}{3 \\Sigma_\\text{s}(1 - \\mu_\\text{0})}\n\\end{equation*}\n\nWith $\\Sigma_\\text{s}$ being the macroscopic scattering cross section, $\\sigma_\\text{s} N_\\text{m}$, and $\\mu_\\text{0}$ being a constant dependent on the material used as the moderator.\n\n$\\Sigma_\\text{1}$ is the neutron removal cross section, or the probability per unit length that a neutron becomes thermalized. It is calculated as:\n\n\\begin{equation*}\n\\Sigma_\\text{1} = \\frac{\\xi \\Sigma_\\text{s}}{ln \\frac{E_\\text{0}}{E_\\text{th}}}\n\\end{equation*}\n\nWith $\\xi$ being the average logarithmic energy decrement for a collision involving a neutron and the moderator (in the case of a light water reactor, $\\xi$ = 1), $E_\\text{0}$ being the energy of a neutron produced during fission (assumed to be constant at around 2 MeV), and $E_\\text{th}$ being the energy of the medium that the neutron is diffusing through, which is dependent on the temperature of the moderator by the following equation:\n\n\\begin{equation*}\nE_\\text{th} = (T_\\text{m})\\frac{0.0862 \\ MeV}{K}\n\\end{equation*}\n\nWith $T_\\text{m}$ being in kelvin.\n\nAssuming that only $N_text{m}$ and $E_\\text{th}$ vary with the temperature of the moderator, then the differential of $\\tau$ with respect to $T_\\text{m}$ may be calculated as follows:\n\n\\begin{equation*}\n\\frac{d \\tau}{d T_\\text{m}} = \\frac{d}{d T_\\text{m}} \\frac{\\frac{1}{3 \\sigma_\\text{s} N_\\text{m}(1 - \\mu_\\text{0})}}{\\frac{\\xi \\sigma_\\text{s} N_\\text{m}}{ln \\frac{E_\\text{0}}{E_\\text{th}}}}\n\\end{equation*}\n\n\\begin{equation*}\n\\frac{d \\tau}{d T_\\text{m}} = \\frac{((0.0862\\frac{E_\\text{th}}{E_\\text{0}})(3  N_\\text{m} )-(ln \\frac{E_\\text{0}}{E_\\text{th}})(6 \\frac{d N_\\text{m}}{d T_\\text{m}})}{(3 N_\\text{m})^2 (1 - \\mu_\\text{0})}\n\\end{equation*}\n\nNext, the diffusion area in the moderator before absorption, $L^2$, may be evaluated. It can be calculated through the following relation:\n\n\\begin{equation*}\nL^2 = \\frac{1}{3 \\Sigma_\\text{s} \\Sigma_\\text{a} (1 - \\mu_\\text{0})}\n\\end{equation*}\n\nAnd therefore:\n\n\\begin{equation*}\nL = \\sqrt{\\frac{1}{3 \\Sigma_\\text{s} \\Sigma_\\text{a} (1 - \\mu_\\text{0})}}\n\\end{equation*}\n\nNote that L is referred to as the diffsion length whereas L^2 is the diffusion area.\n\nTaking the derivative of the diffusion length, L, with respect to time, and noting that only the number density of the moderator varies with time, and that the macroscopic cross sections $\\Sigma$ can be rewritten as $\\sigma N_\\text{m}$, we obtain the differential of diffusion length with respect to time:\n\n\\begin{equation*}\n\\frac{dL}{dT_\\text{m}} =  \\frac{1}{2 \\sqrt{\\frac{-2 \\frac{dN_\\text{m}}{dT_\\text{m}}}{3 \\sigma_\\text{s} \\sigma_\\text{a} N_\\text{m}^3 (1 - \\mu_\\text{0})}}}\n\\end{equation*}\n\nNext, the terms in the four factor formula, $\\eta \\ , \\ \\epsilon \\ , \\ P, \\ F$ must be developed and the derivatives of the ones which vary with moderator temperature must be calculated.\n\n$\\eta$ and $\\epsilon$ do not vary with moderator temperature, and are assumed to have constant values of 2.02 and 1.03.\n\n$P$, the resonance escape, is calculated via the following equation:\n\n\\begin{equation*}\nP = e^{- \\frac{N_\\text{f} V_\\text{F} I}{\\xi \\Sigma_\\text{s  M} V_\\text{M}}}\n\\end{equation*}\n\nIn the above equation, $N_\\text{f}$ is the number density of the fuel, $V_\\text{F}$ is the volume of the fuel, $I$ is the resonance escape integral, and $V_\\text{M}$ is the volume occupied by the moderator.\n\nWith only the macroscopic scattering cross section of the moderator varrying with temperature of the moderator (volume of coolant in the core is assumed constant, only the density changes), the derivative of the resonance escape probability with respect to the temperature of the moderator can be calculated as:\n\n\\begin{equation*}\n\\frac{dP}{dT_\\text{m}} =  \\frac{-N_\\text{f} V_\\text{F} I \\sigma_\\text{s} \\frac{dN_\\text{m}}{dT_\\text{m}}}{(\\xi \\Sigma_\\text{s  M} V_\\text{M})^2}e^{- \\frac{N_\\text{f} V_\\text{F} I}{\\xi \\Sigma_\\text{s  M} V_\\text{M}}}\n\\end{equation*}\n\nThe thermal utilization, $F$, is calculated as follows:\n\n\\begin{equation*}\nF = \\frac{\\Sigma_\\text{aF}}{\\Sigma_\\text{aF} + \\Sigma_\\text{aM}}\n\\end{equation*}\n\nWith $\\Sigma_\\text{aF}$ being the macroscopic absorption cross section of the fuel and $\\Sigma_\\text{aM}$ being the macroscopic absorption cross section of the moderator. As only the macroscopic absorption cross section of the moderator will vary with the temperature of the moderator, the derivative of thermal utilization with respect to the temperature of the moderator can be written as follows:\n\n\\begin{equation*}\n\\frac{dF}{dT_\\text{m}} = \\frac{-(\\Sigma_\\text{aF})(\\sigma_\\text{aM} \\frac{dN_\\text{m}}{dT_\\text{m}})}{(\\Sigma_\\text{aF} + \\Sigma_\\text{aM})^2}\n\\end{equation*}\n\nThe final preliminary differential equation is the one that must be developed for the differential of the moderator number density with respect to the temperature of the moderator. The change in number density of the moderator with respect to temperature will be proportional to the change in the mass density of the moderator with respect to temperature, by the molar mass of the moderator (in this case, 18 g/mol) and avogadro's number. The derivative of the mass density with respect to the temperature of the moderator of water is a function of a forty term polynomial used by the IAPWS 97 standards to approximate the behavior of water at different temperatures and pressures, that is:\n\n\\begin{equation*}\n\\frac{d \\rho}{dT_\\text{m}} = \\frac{d}{dT_\\text{m}}(IAPWS(T))\n\\end{equation*}\n\nThe derivative can be approximated by using scipy's inbuilt differentiation function. From there, the differential of mass density with respect to moderator temperature may be related to the differential of number density with respect to moderator temperature by the molar mass and avogadro's number:\n\n\\begin{equation*}\n\\frac{dN_\\text{m}}{dT_\\text{m}} = (18 g/mol)(N_\\text{A})(\\frac{d \\rho}{dT_\\text{m}})\n\\end{equation*}\n\nNow that all previous relationships have been developed, the moderator temperature feedback coefficient can be calculated. Recall the original equation for the moderator temperature feedback coefficient:\n\n\\begin{equation*}\n\\alpha_\\text{m} = \\frac{d}{dT_\\text{m}}\\frac{1 + (\\tau + L^2)B^2 + \\tau L^2 B^4}{\\eta \\epsilon P F}\\\n\\end{equation*}\n\nTaking the derivatives with respect to moderator temperature yields the following differential:\n\n\\begin{equation*}\n\\alpha_\\text{m} = \\frac{(\\eta \\epsilon P F)((\\frac{d \\tau}{dT_\\text{m}})(B^2 + L^2 B^4)+(\\frac{dL}{dT_\\text{m}})(2L B^2 + 2L \\tau B^4))-(1 + (\\tau + L^2)B^2 + \\tau L^2 B^4)(\\eta \\epsilon)(F \\frac{dP}{dT_\\text{m}} + P \\frac{dF}{dT_\\text{m}})} {(\\eta \\epsilon P F)^2}\n\\end{equation*}\n\n"
    },
    {
      "metadata": {
        "trusted": true,
        "code_folding": [
          0
        ]
      },
      "cell_type": "code",
      "source": "def derivative_helper(temperature):\n    '''\n    function to help with the implementation of alpha_tn_function since the scipy derivative function only allows\n    one variable to be input to the function it works on.\n    '''\n    \n    import iapws.iapws97 as steam\n    pressure = steam._PSat_T(temperature)\n    \n    rho = 1/steam._Region4(pressure, 0)['v']\n    return(rho)",
      "execution_count": 3,
      "outputs": []
    },
    {
      "metadata": {
        "code_folding": [
          2
        ],
        "trusted": true,
        "slideshow": {
          "slide_type": "fragment"
        }
      },
      "cell_type": "code",
      "source": "'''Reactivity coefficient function'''\n\ndef alpha_tn_func(temp, params):\n    import math\n    import scipy.misc as diff\n    import scipy.constants as sc\n    import iapws.iapws97 as steam\n    \n    pressure = steam._PSat_T(temp)\n    \n    d_rho = diff.derivative(derivative_helper, temp) # dRho/dTm\n    rho = 1 / steam._Region4(pressure, 0)['v'] # mass density, kg/m3\n    \n    Nm = ((rho * sc.kilo)/params['mod molar mass']) * sc.N_A * (sc.centi)**3 # number density of the moderator\n    d_Nm =  ((d_rho * sc.kilo)/params['mod molar mass']) * sc.N_A * (sc.centi)**3 #dNm/dTm\n    d_Nm = d_Nm * sc.zepto * sc.milli\n    \n    mod_macro_a = params['mod micro a'] * Nm # macroscopic absorption cross section of the moderator\n    mod_macro_s = params['mod micro s'] * Nm # macroscopic scattering cross section of the moderator\n    \n    F = params['fuel macro a']/(params['fuel macro a'] + mod_macro_a) # thermal utilization, F\n    #dF/dTm\n    d_F = -1*(params['fuel macro a'] * params['mod micro a'] * d_Nm)/(params['fuel macro a'] + mod_macro_a)**2\n    \n    # Resonance escape integral, P\n    P = math.exp((-1 * params['n fuel'] * (params['fuel_volume']) * params['I'])/(mod_macro_s * 3000))\n    #dP/dTm\n    d_P = P * (-1 * params['n fuel'] * params['fuel_volume'] * sc.centi**3 * params['mod micro s'] * d_Nm)/(mod_macro_s * 3000 * sc.centi**3)**2\n    \n    Eth = 0.0862 * temp # convert temperature to energy in MeV\n    E1 = mod_macro_s/math.log(params['E0']/Eth) # neutron thermalization macroscopic cross section\n    \n    Df = 1/(3 * mod_macro_s * (1 - params['mod mu0'])) # neutron diffusion coefficient\n    tau = Df/E1 # fermi age, tau\n    #dTau/dTm\n    d_tau = (((0.0862 * (Eth/params['E0'])) * 3 * Nm) - math.log(params['E0']/Eth) * (params['mod micro s'] * d_Nm))/((3 * Nm)**2 * (1 - params['mod mu0']))\n    \n    L = math.sqrt(1/(3 * mod_macro_s * mod_macro_a * (1 - params['mod mu0']))) # diffusion length L\n    # dL/dTm\n    d_L = 1/(2 * math.sqrt((-2 * d_Nm * sc.zepto * sc.milli)/(3 * params['mod micro s'] * params['mod micro a'] * (Nm * sc.zepto * sc.milli)**3 * (1 - params['mod mu0']))))\n    \n    # left term of the numerator of the moderator temperature feedback coefficient, alpha\n    left_1st_term = d_tau * (params['buckling']**2 + L**2 * params['buckling']**4) #holding L as constant\n    left_2nd_term = d_L * (2 * L * params['buckling']**2 + 2 * L * tau * params['buckling']**4) # holding tau as constant\n    left_term = (P * F) * (left_1st_term + left_2nd_term) # combining with P and F held as constant\n    \n    # right term of the numerator of the moderator temperature feedback coefficient, alpha\n\n    right_1st_term = (-1) * (1 + ((tau + L**2) * params['buckling']**2) + tau * L**2 * params['buckling']**4) # num as const\n    right_2nd_term = F * d_P # holding thermal utilization as constant\n    right_3rd_term = P * d_F # holding resonance escpae as constant\n    right_term = right_1st_term * (right_2nd_term + right_3rd_term) # combining all three terms together\n    \n    # numerator and denominator\n    numerator = left_term + right_term\n    denominator = params['eta'] * params['epsilon'] * (F * P)**2\n    \n    alpha_tn = numerator/denominator\n    \n    \n    alpha_tn = alpha_tn/5\n    return alpha_tn\n",
      "execution_count": 4,
      "outputs": []
    },
    {
      "metadata": {
        "code_folding": [],
        "trusted": true
      },
      "cell_type": "code",
      "source": "'''Reactivity function'''\n\ndef rho_func( t, n_dens, temp, params ):\n    '''\n    Reactivity function.  \n    \n    Parameters\n    ----------\n    t: float, required\n        Time.\n    temp_f: float, required\n        Temperature at time t.\n    params: dict, required\n        Dictionary of quantities. It must have a `'rho_0'` key/value pair.\n    \n    Returns\n    -------\n    rho_t: float\n        Value of reactivity.\n\n    Examples\n    --------\n    '''\n    \n    rho_0  = params['rho_0']\n    temp_ref = params['temp_0']\n    n_dens_ss_operation = params['n_dens_ss_operation']\n    alpha_n = params['alpha_n']\n    \n    if temp < 293.15: # if temperature is less than the starting temperature then moderator feedback is zero\n        alpha_tn = 0\n    \n    else:\n        alpha_tn = alpha_tn_func(temp, params) #alpha_tn_func(temp, params)\n\n    if t > params['malfunction start'] and t < params['malfunction end']: # reg rod held in position; only mod temp reactivity varies with time during malfunction\n        alpha_n = params['alpha_n_malfunction']\n        rho_t = rho_0 + alpha_n + alpha_tn * (temp - temp_ref)\n        \n    elif t > params['shutdown time']: # effectively the inverse of startup; gradually reduce reactivity and neutron density.\n        rho_0 = -1 * n_dens * rho_0\n        alpha_n = rho_0 - (alpha_tn * (temp - temp_ref))\n        rho_t = rho_0\n        \n    elif n_dens < 1e-5: #controlled startup w/ blade; gradually increase neutron density to SS value.\n        #rho_current = (1 - n_dens) * rho_0\n        #alpha_n = rho_current - rho_0 - alpha_tn * (temp - temp_ref)\n        #rho_t = rho_current\n        #params['alpha_n_malfunction'] = alpha_n\n        rho_t = rho_0\n        \n    else:\n        rho_current = (1 - n_dens) * rho_0\n        alpha_n = rho_current - rho_0 - alpha_tn * (temp - temp_ref)\n        rho_t = rho_current\n        params['alpha_n_malfunction'] = alpha_n\n        \n    #print(n_dens)\n    \n    return (rho_t, alpha_n, alpha_tn * (temp - temp_ref))",
      "execution_count": 5,
      "outputs": []
    },
    {
      "metadata": {
        "code_folding": [
          2
        ],
        "trusted": true
      },
      "cell_type": "code",
      "source": "'''Source function'''\n\ndef q_source( t, params ):\n    '''\n    Neutron source delta function.  \n    \n    Parameters\n    ----------\n    t: float, required\n        Time.\n    params: dict, required\n        Dictionary of quantities. It must have a `'q_0'` key/value pair.\n    \n    Returns\n    -------\n    q: float\n        Value of source.\n\n    Examples\n    --------\n    '''\n    q_0 = params['q_0']\n    \n    if t <= 1e-5: # small time value\n        q = q_0\n    else:\n        q = 0.0\n        params['q_source_status'] = 'out'\n        \n    return q\n\n#print(\"done\")",
      "execution_count": 6,
      "outputs": []
    },
    {
      "metadata": {},
      "cell_type": "markdown",
      "source": "The effective fission microscopic cross section for thermal neutrons will be taken as:\n\n\\begin{equation*}\n\\overline{\\sigma}_\\text{f}(T) = \\frac{\\sqrt{\\pi}}{2}\\,\\sigma_\\text{fo}\\,\\sqrt{\\frac{T_\\text{(o)}}{T}}\n\\end{equation*}"
    },
    {
      "metadata": {
        "code_folding": [
          2
        ],
        "trusted": true
      },
      "cell_type": "code",
      "source": "'''Effective microscopic fission cross section'''\n\ndef sigma_fis_func( temp, params ):\n    '''\n    Place holder for implementation\n    '''\n    \n    sigma_f = params['sigma_f_o']  * math.sqrt(298/temp) * math.sqrt(math.pi) * 0.5\n    \n    return sigma_f\n\n",
      "execution_count": 7,
      "outputs": []
    },
    {
      "metadata": {},
      "cell_type": "markdown",
      "source": "The nuclear heating power is given by\n\n\\begin{equation*}\nq^{'''}(t) = G_f\\,\\overline{\\sigma}_\\text{f}(T)\\,N_\\text{fn} \\,\\varphi(t) .\n\\end{equation*}"
    },
    {
      "metadata": {
        "code_folding": [],
        "trusted": true
      },
      "cell_type": "code",
      "source": "'''Nuclear power density function'''\n\ndef nuclear_pwr_dens_func( time, temp, n_dens, params ):\n    '''\n    Place holder for implementation\n    '''\n    n_dens = n_dens + q_source(time, params) # include the neutrons from the initial source\n    \n    rxn_heat = params['fis_energy'] # get fission reaction energy J per reaction\n    \n    sigma_f = sigma_fis_func( temp, params ) # m2\n    \n    fis_nuclide_num_dens = params['fis_nuclide_num_dens_fake'] #  #/m3\n    \n    Sigma_fis = sigma_f * fis_nuclide_num_dens # macroscopic cross section\n    \n    v_o = params['thermal_neutron_velo'] # m/s\n    \n    neutron_flux = n_dens * 4.5e14 * v_o\n    \n     #reaction rate density\n    rxn_rate_dens = Sigma_fis * neutron_flux\n    \n    # nuclear power source\n    q3prime = - rxn_heat * rxn_rate_dens # exothermic reaction W/m3\n    #q3prime = - n_dens * 3323E6\n    #print(\"q3prime\")\n    #print(q3prime)\n    \n    return q3prime",
      "execution_count": 8,
      "outputs": []
    },
    {
      "metadata": {},
      "cell_type": "markdown",
      "source": "The cooling heat rate is:\n\n\\begin{equation*}\n{\\dot{Q}_\\text{f}} = -UA\\bigl(T_f-T_c\\bigr). \n\\end{equation*}"
    },
    {
      "metadata": {
        "code_folding": [],
        "trusted": true
      },
      "cell_type": "code",
      "source": "'''Cooling heat rate'''\n\ndef heat_sink_rate( time, temp_f, temp_c, params):\n    \n    ht_coeff = params['ht_coeff']\n    \n    q_f = - ht_coeff * (temp_f - temp_c)\n    #print(q_f)\n    return q_f",
      "execution_count": 9,
      "outputs": []
    },
    {
      "metadata": {},
      "cell_type": "markdown",
      "source": "<a id=\"bop\"></a>\nA boiling water reactor only has a single primary heating loop, as opposed to most other types of reactors which have a primary loop that cycles liquid through the reactor core and passes heat to a secondary loop to power a turbine. A boiling water reactor only has a single loop: water is boiled in the core, and then the saturated steam it produces is directly passed through a turbine, and then condensed and pumped back into the core as a subcooled liquid. The `coolant_inlet_temp_func` takes into account the state of the steam leaving the top of the reactor, and the specifics of the turbine and condensation processes (and in the future the pumping process as well) to determine the temperature of the subcooled liquid being returned to the bottom of the reactor.\n\n# The Turbine\nTemperature and pressure of the coolant leaving the reactor is given by temp_c and pressure; these two variables are used with the IAPWS package (under the IAPWS-97 standards) to determine the specific enthalpy of the steam leaving the reactor. The turbine expands any steam passing through it to 0.75 kPa. This process is NOT assumed to be isentropic, and instead operates at 80% of maximum isentropic efficiency.\n\nWe start with a basic heat balance on the turbine:\n\n\\begin{equation*}\nQ + W_\\text{s} = \\Delta H + \\Delta K + \\Delta Z\n\\end{equation*}\n\nWith Q being the heat extracted from the working fluid, W being the work done by the working fluid (and hence being positive if the turbine is producing useful work), and with $\\Delta$H, $\\Delta$K and $\\Delta$Z representing the changes in enthalpy, kinetic energy and gravitational potential energy of the fluid, respectively. It is assumed that the turbine operates adiabatically and with no change in the kinetic or gravitational potential energy of the fluid as it moves through the turbine. Hence, the equation reduces to:\n\n\\begin{equation*}\nW_\\text{s} = \\Delta H\n\\end{equation*}\n\nIf the turbine is producing useful work, then W is positive, and hence $\\Delta$H must be positive as well. The enthalpy of the fluid will decrease as it passes through the turbine and is expanded to a lower temperature and pressure, hence the equation can be rewritten as:\n\n\\begin{equation*}\nW_\\text{s} = \\Delta H = H_\\text{inlet} - H_\\text{outlet}\n\\end{equation*}\n\nThe inlet steam is at the same state of the steam leaving the top of the reactor, I.E. it has a pressure $P_\\text{reactor}$ and the same temperature of the coolant, $T_\\text{coolant}$. The turbine expands whatever is taken into the inlet to a final pressure of 0.75 kPa and a temperature $T_\\text{runoff}$ which varies based on the properties of the steam that was fed to the turbine. Hence, the work balance equation can be re-written as:\n\n\\begin{equation*}\nW_\\text{s} = H_\\text{inlet}(T_\\text{coolant}, P_\\text{reactor}) - H_\\text{outlet}(T_\\text{runoff}, 0.75 kPa)\n\\end{equation*}\n\nIdeally, final temperature, $T_\\text{runoff}$, would be the bubble point temperature of the runoff at 0.75 kPa (~ 3 C$^{\\circ}$). However, the turbine does not operate isentropically, and instead is assumed to operate at 80% of its maximum isentropic efficiency. \n\nWe denote the maximum possible isentropic work of the turbine, $W_\\text{isentropic}$, as the amount of work that would be done if the steam entering the turbine was expanded to a pressure of 0.75 kPa and a temperature of 3 C$^{\\circ}$.\n\n\\begin{equation*}\nW_\\text{isentropic} = H_\\text{steam}(T_\\text{coolant}, P_\\text{reactor}) - H_\\text{water}(0.75 kPa, 3 ^oC)\n\\end{equation*}\n\nThe efficiency of the turbine is then given in terms of % of maximum isentropic efficiency. For example, with an isentropic efficiency of 80%:\n\n\\begin{equation*}\nW_\\text{real} = 0.8 \\, W_\\text{isentropic}\n\\end{equation*}\n\nAnd, by an energy balance, we can calculate the ending enthalpy of the liquid runoff at 0.75 kPa, $H_\\text{real liquid}$:\n\n\\begin{equation*}\nW_\\text{real} = H_\\text{steam}(T_\\text{coolant}, P_\\text{reactor}) - H_\\text{real liquid}(T_\\text{runoff}, 0.75 kPa)\n\\end{equation*}\n\nWith the ending enthalpy of the liquid runoff known, and its pressure fixed by the output pressure of the turbine (0.75 kPa), the runoff temperature of the liquid from the turbine can be calculated using the IAPWS97 backwards solver functions.\n\n\n\n"
    },
    {
      "metadata": {
        "trusted": true,
        "code_folding": []
      },
      "cell_type": "code",
      "source": "def turbine(time, temp_in, params):\n    #expand the entering steam from whatever temperature and pressure it enters at to 0.035 kpa, with 80% efficiency.\n    #pressure of steam when it enters the turbine equals the current reactor operating pressure\n    \n    if temp_in <= 273.15: # if temp is below this the turbine will not work\n        t_runoff = temp_in\n        w_real = 0\n        return(t_runoff, w_real)\n    if temp_in < 373.15:\n        t_runoff = steam_table._TSat_P(0.005)\n        w_real = 0\n        x = -3\n        return(t_runoff, w_real, x)\n    \n    #properties of the inlet steam\n    pressure = steam_table._PSat_T(temp_in)\n    \n    inlet_parameters = steam_table._Region4(pressure, 0.7)\n    inlet_entropy = inlet_parameters['s']\n    inlet_enthalpy = inlet_parameters['h']\n\n    #bubble and dewpoint properties at turbine outlet\n    bubl = steam_table._Region4(0.005, 0)\n    dew = steam_table._Region4(0.005, 1)\n    bubl_entropy = bubl['s']\n    dew_entropy = dew['s']\n    bubl_enthalpy = bubl['h']\n    dew_enthalpy = dew['h']\n\n    #if the ideal runoff is two-phase mixture:\n    if inlet_entropy < dew_entropy and inlet_entropy > bubl_entropy:\n        x_ideal = (inlet_entropy - bubl_entropy)/(dew_entropy - bubl_entropy)\n        h_ideal = steam_table._Region4(0.005, x_ideal)['h']\n    \n    #if the ideal runoff is a superheated steam\n    elif inlet_entropy > dew_entropy:\n        t_ideal = steam_table._Backward2_T_Ps(0.005, inlet_entropy)\n        h_ideal = steam_table._Region2(t_ideal, 0.005)['h']\n    \n    #calculate the real runoff enthalpy\n    w_ideal = inlet_enthalpy - h_ideal #on a per mass basis\n    #assert(w_ideal > 0)\n    w_real = w_ideal * params['turbine efficiency']\n    h_real = inlet_enthalpy - w_ideal\n    assert(h_real > 0)\n    \n    # if the real runoff is a superheated steam\n    if h_real > dew_enthalpy:\n        t_runoff = steam_table._Backward2_T_Ph(0.005, h_real)\n        x_runoff = -1 # superheated steam\n    \n    #if the real runoff is a subcooled liquid\n    elif h_real < bubl_enthalpy:\n        t_runoff = steam_table._Backward1_T_Ph(0.005, h_real)\n        x_runoff = 2 # subcooled liquid\n        \n    #if the real runoff is a two-phase mixture    \n    else:\n        x_runoff = (h_real - bubl_enthalpy)/(dew_enthalpy - bubl_enthalpy) # saturated vapor\n        t_runoff = steam_table._TSat_P(0.005)\n    \n    w_real = w_real * params['steam flowrate'] * sc.kilo\n    \n    #w_real = heat_removed\n    \n    return (t_runoff, w_real, x_runoff)\n",
      "execution_count": 10,
      "outputs": []
    },
    {
      "metadata": {},
      "cell_type": "markdown",
      "source": "# The Condenser\nThe condenser takes the runoff from the turbine and condenses it to a subcooled liquid at the current operating pressure of the reactor. The work required to do this is calculated as follows:\n\n\\begin{equation*}\nW_\\text{condenser} = \\frac{H_\\text{turbine runoff}(T_\\text{runoff}, 0.0035 kPa) - H_\\text{subcooled liquid out}(T_\\text{subcooled}, P_\\text{reactor})}{efficiency}) \n\\end{equation*}\n\nWhere the enthalpy of the subcooled liquid out is given by:\n\n\\begin{equation*}\nH_\\text{subcooled liquid out}(T_\\text{subcooled}, P_\\text{reactor}) = H_\\text{saturated liquid}(T_\\text{saturated}, P_\\text{reactor}) * (subcooling)\n\\end{equation*}\n\nWith subcooling being the % by which the enthalpy of the subcooled liquid is lowered from the enthalpy it would have if it were at its boiling point. This % is constant, and is based on the % of subcooling that exists at steady state with a reactor pressure of 7 mPa and a condenser runoff temperature of 220 degrees celcius:\n\n\\begin{equation*}\nsubcooling = (1 -\\frac{H(T_{saturated}, 7 mPa, x=0) - H(220 C, 7 mPa}{H(T_{saturated}, 7 mPa, x=0})\n\\end{equation*}"
    },
    {
      "metadata": {
        "trusted": true,
        "code_folding": []
      },
      "cell_type": "code",
      "source": "def condenser(time, temp_in, x, temp_c, params):\n    critical_temp = steam_table._TSat_P(0.005)\n    if x == -1 and temp_in > critical_temp: #superheated vapor inlet; deprecated\n        pressure = 0.005\n        h_steam = steam_table._Region2(temp_in, pressure)['h']\n        h_sat = steam_table._Region4(0.005, 1)['h']\n        q = params['steam flowrate'] * (h_steam - h_sat) * sc.kilo\n        \n        #log mean temperature difference\n        delta_Ta = temp_in - critical_temp\n        delta_Tb = 20-10\n        LMTD = (delta_Ta - delta_Tb) / (math.log(delta_Ta) - math.log(delta_Tb))\n        \n        low = steam_table.IAPWS97(T=critical_temp+1, P=pressure)\n        high = steam_table.IAPWS97(T=temp_in, P=pressure)\n        \n        low_conductivity = low.k\n        low_rho = low.rho\n        low_prandlt = low.Prandt\n        low_viscosity = low.mu\n        low_reynolds = (low_rho * 0.1 * 40)/low_viscosity\n        low_nusselt = (0.3 + 0.629 * (low_reynolds ** 0.5) * low_prandlt**(1/3))\n        low_nusselt = low_nusselt/(1+(0.4/low_prandlt)**(2/3))**(1/4)\n        low_nusselt = low_nusselt * (1 + (low_reynolds / 282000)**(5/6))**(4/4.5) #nusselt number at the crtical temperature according to the churchill-bernsetin correlation\n        low_heat_transfer_coeff = low_nusselt * (low.k/0.1)\n        \n        high_rho = high.rho\n        high_prandlt = high.Prandt\n        high_viscocity = high.mu\n        high_conductivity = high.k\n        high_viscosity = high.mu\n        high_reynolds = (high_rho * 0.1 * 40)/high_viscosity\n        high_nusselt = (0.3 + 0.629 * (high_reynolds ** 0.5) * high_prandlt**(1/3))\n        high_nusselt = high_nusselt/(1+(0.4/high_prandlt)**(2/3))**(1/4)\n        high_nusselt = high_nusselt * (1 + (high_reynolds / 282000)**(5/6))**(4/4.5)\n        high_heat_transfer_coeff = high_nusselt * (high_conductivity/0.1)\n        \n        average_ht_transfer_coeff = (high_heat_transfer_coeff + low_heat_transfer_coeff)/2\n        \n    if x > 0:\n        pressure = 0.005\n        h_mixture = steam_table._Region4(pressure, x)['h']\n        h_dewpt = steam_table._Region4(pressure, 0)['h']\n        q = (h_mixture - h_dewpt) * sc.kilo * params['steam flowrate']\n        \n        critical_temp = steam_table._TSat_P(pressure)\n        sat_liquid = steam_table.IAPWS97(T=critical_temp - 1, P=pressure)\n        h_dew = steam_table._Region4(0.005, 1)['h']\n        h_bubl = steam_table._Region4(0.005, 0)['h']\n        water_cp = steam_table.IAPWS97(T=287.15, P=0.1013).cp\n        delta_Tb = q/(params['cooling water flowrate'] * water_cp * sc.kilo)\n        t_c_in = 14 + 273.15\n        t_c_out = 14 + 273.15 + delta_Tb\n        \n        LMTD = (t_c_out - t_c_in)/(math.log(critical_temp - t_c_in))/(critical_temp - t_c_out)\n        \n        pipe_diameter = params['pipe_diameter']\n        liquid_velocity = params['liquid_velocity']\n        \n        #calculate the convective heat transfer coefficient on a liquid basis from the Churchill-Bernstein correlation\n        liquid_conductivity = sat_liquid.k\n        liquid_rho = sat_liquid.rho\n        liquid_prandlt = sat_liquid.Prandt\n        liquid_viscosity = sat_liquid.mu\n        liquid_reynolds = (liquid_rho * pipe_diameter * liquid_velocity)/liquid_viscosity\n        \n        liquid_nusselt = (0.3 + 0.629 * (liquid_reynolds ** 0.5) * liquid_prandlt**(1/3))\n        liquid_nusselt = liquid_nusselt/(1+(0.4/liquid_prandlt)**(2/3))**(1/4)\n        liquid_nusselt = liquid_nusselt * (1 + (liquid_reynolds / 282000)**(5/6))**(4/4.5) #nusselt number at the crtical temperature according to the churchill-bernsetin correlation\n        liquid_heat_transfer_coeff = liquid_nusselt * (liquid_conductivity/pipe_diameter) #overall convective heat transfer coefficient\n        \n        #determine the Martinelli paremeter\n        steam = steam_table.IAPWS97(T=critical_temp+1, P=pressure)\n        steam_rho = steam.rho\n        steam_viscosity = steam.mu\n        xtt = ((1 -x)/x)**1.8 * (steam_rho/liquid_rho) * (liquid_viscosity/steam_viscosity)**0.5\n        xtt = math.sqrt(xtt)\n        \n        #determine the overall heat transfer coefficient from the McNaught expression\n        alpha_sh = liquid_heat_transfer_coeff * (1/xtt)**0.78\n        \n        #determine how far the two-phase mixture gets in the condenser before being fully condensed\n        condensation_area = (q/(alpha_sh * LMTD))\n        remaining_area = params['heat transfer area'] - condensation_area\n        print(condensation_area)\n        \n        if remaining_area > 0:\n        #subcool the remaining liquid\n        \n        #iterative method\n        #0. guess an ending value for the coolant and \n        #1. calculate high nusselt number\n        #2. guess a value for low temperature\n        #3. calculate low nusselt number\n        #4. calculate LMTD and average heat transfer coefficient\n        #5. calculate q\n        #6. use q to calculate a new ending temperature for the water and the vapor\n        #7. rinse and repeat\n        \n            final_coolant_temperature_guess = 60 + 273.15 # initial guess\n            final_runoff_temperature_guess = 273.15 + 10 # initial guess\n            final_runoff_temperature = 0 #iteration variable\n        \n            while (final_runoff_temperature_guess - final_runoff_temperature) > 1: #loop until convergeance, +- 1 degree kelvin\n                runoff_in = steam_table._TSat_P(0.005)\n                coolant_in = t_c_out\n                \n                final_runoff_temperature = final_runoff_temperature_guess\n            \n                #guess the LMTD\n                \n                LMTD = ((coolant_in - final_coolant_temperature_guess) - (final_runoff_temperature - coolant_in))/math.log((runoff_in -  final_coolant_temperature_guess)/(final_runoff_temperature - coolant_in))\n            \n                #average wall temperatures\n                upper_wall_temp = (coolant_in + runoff_in)/2 \n                lower_wall_temp = (final_runoff_temperature + final_coolant_temperature_guess)/2\n                \n                #high temperature heat transfer coefficient calculation\n                high_properties = steam_table.IAPWS97(T=upper_wall_temp, P=pressure)\n                high_conductivity = high_properties.k\n                high_rho = high_properties.rho\n                high_prandlt = high_properties.Prandt\n                high_viscosity = high_properties.mu\n                high_reynolds = (high_rho * pipe_diameter * liquid_velocity)/high_viscosity\n        \n                high_nusselt = (0.3 + 0.629 * (high_reynolds ** 0.5) * high_prandlt**(1/3))\n                high_nusselt = high_nusselt/(1+(0.4/high_prandlt)**(2/3))**(1/4)\n                high_nusselt = high_nusselt * (1 + (high_reynolds / 282000)**(5/6))**(4/4.5) \n                high_heat_transfer_coeff = high_nusselt * (high_conductivity/pipe_diameter) #overall convective heat transfer coefficient\n                \n                #low temperature heat transfer coefficient calculation\n                low_properties = steam_table.IAPWS97(T=lower_wall_temp, P=pressure)\n                low_conductivity = low_properties.k\n                low_rho = low_properties.rho\n                low_prandlt = low_properties.Prandt\n                low_viscosity = low_properties.mu\n                low_reynolds = (low_rho * pipe_diameter * liquid_velocity)/low_viscosity\n        \n                low_nusselt = (0.3 + 0.629 * (low_reynolds ** 0.5) * low_prandlt**(1/3))\n                low_nusselt = low_nusselt/(1+(0.4/low_prandlt)**(2/3))**(1/4)\n                low_nusselt = low_nusselt * (1 + (low_reynolds / 282000)**(5/6))**(4/4.5) \n                low_heat_transfer_coeff = low_nusselt * (low_conductivity/pipe_diameter) #overall convective heat transfer coefficient\n                \n                #average heat transfer coefficient\n                average_heat_transfer_coeff = (high_heat_transfer_coeff + low_heat_transfer_coeff)/2\n                \n                #calculate q = UAdeltaTlm\n                q = average_heat_transfer_coeff * remaining_area * LMTD\n                \n                #calculate actual coolant and liquid water temperatures\n                coolant_cp = steam_table.IAPWS97(T=coolant_in, P=0.005).cp\n                iterated_coolant_final_temp = (q/(coolant_cp * params['cooling water flowrate'])) + coolant_in\n                steam_cp = steam_table.IAPWS97(T=runoff_in, P=0.005).cp\n                iterated_steam_final_temp = runoff_in - (q/steam_cp * params['steam flowrate'])\n                \n                if(iterated_steam_final_temp < coolant_in or iterated_coolant_final_temp > runoff_in):\n                    iterated_steam_final_temp = coolant_in\n                    iterated_coolant_final_temp = runoff_in\n                    break\n                \n                final_runoff_temp = iterated_steam_final_temp\n                final_runoff_temperature_guess = iterated_steam_final_temp\n                final_coolant_runoff_guess = iterated_coolant_final_temp\n                \n    return(temp_in-2)",
      "execution_count": 11,
      "outputs": []
    },
    {
      "metadata": {
        "trusted": true,
        "code_folding": []
      },
      "cell_type": "code",
      "source": "def f_vec(time, u_vec, params):\n    num_negatives = u_vec[u_vec < 0]\n    if num_negatives.any() < 0:\n        assert np.max(abs(u_vec[u_vec < 0])) <= 1e-8, 'u_vec = %r'%u_vec\n    #assert np.all(u_vec >= 0.0), 'u_vec = %r'%u_vec\n    \n    q_source_t = q_source(time, params)\n    \n    n_dens = u_vec[0] # get neutron dens\n    \n    c_vec = u_vec[1:-2] # get delayed neutron emitter concentration\n    \n    temp_f = u_vec[-2] # get temperature of fuel\n    \n    temp_c = u_vec[-1] # get temperature of coolant\n    \n    # initialize f_vec to zero\n    species_decay = params['species_decay']\n    lambda_vec = np.array(species_decay)\n    n_species  = len(lambda_vec)\n    \n    f_tmp = np.zeros(1+n_species+2,dtype=np.float64) # vector for f_vec return\n    \n    #----------------\n    # neutron balance\n    #----------------\n    rho_t    = rho_func(time, n_dens, temp_c, params)[0]\n    \n    beta     = params['beta']\n    gen_time = params['gen_time']\n       \n    species_rel_yield = params['species_rel_yield']\n    beta_vec = np.array(species_rel_yield) * beta\n    \n    assert len(lambda_vec)==len(beta_vec)\n    \n    f_tmp[0] = (rho_t - beta)/gen_time * n_dens + lambda_vec @ c_vec + q_source_t\n    #if f_tmp[0] < 0 and time < params['shutdown time'] and n_dens < 1:\n        #f_tmp[0] = 0\n    \n    #-----------------------------------\n    # n species balances (implicit loop)\n    #-----------------------------------\n    f_tmp[1:-2] = beta_vec/gen_time * n_dens - lambda_vec * c_vec\n    \n    #--------------------\n    # fuel energy balance\n    #--------------------\n    rho_f    = params['fuel_dens']\n    cp_f     = params['cp_fuel']\n    vol_fuel = params['fuel_volume']\n    \n    pwr_dens = nuclear_pwr_dens_func( time, (temp_f+temp_c)/2, n_dens, params )\n    \n    heat_sink = heat_sink_rate( time, temp_f, temp_c, params )\n    \n    #assert heat_sink <= 0.0,'heat_sink = %r'%heat_sink\n    \n    f_tmp[-2] =  -1/rho_f/cp_f * ( pwr_dens - heat_sink/vol_fuel )\n    #-----------------------\n    # coolant energy balance\n    #-----------------------\n    rho_c    = params['coolant_dens']\n    cp_c     = params['cp_coolant']\n    vol_cool = params['coolant_volume']\n    \n    # subcooled liquid\n    turbine_calcs = turbine(time, temp_c,  params)\n    t_runoff = turbine_calcs[0]\n    x_runoff = turbine_calcs[2] #run the turbine, take the runoff and pass to condenser\n    condenser_out = condenser(time, t_runoff, x_runoff, temp_c, params) #run the condenser, pass runoff to the pump\n    pump_out = pump(time, condenser_out, temp_c, params) #run the pump, runoff returns to reactor as temp_in\n    #print(\"time is \", time, \"and inlet temperature is\", temp_in, \"\\n\")\n    \n    tau = params['tau_fake']\n    \n    heat_source = heat_sink\n    temp_in = pump_out\n    \n    f_tmp[-1] = - 1/tau * (temp_c - temp_in) - 1./rho_c/cp_c/vol_cool * heat_source\n    \n    # pressure calculations\n\n    #print(time)\n    #print(u_vec)\n    return f_tmp",
      "execution_count": 12,
      "outputs": []
    },
    {
      "metadata": {
        "code_folding": [],
        "trusted": true
      },
      "cell_type": "code",
      "source": "'''Create the point-reactor run function'''\n\ndef run_point_reactor( f_vec, params ):\n    import numpy as np\n    from scipy.integrate import odeint # Load ODE solver package\n\n    import numpy as np\n    time_final = params['time_final']\n    n_time_stamps = params['n_time_stamps']\n    time_stamps = np.linspace(0.0, time_final, num=n_time_stamps) # create the time stamps for solution values\n    params['time_stamps'] = time_stamps\n    \n    max_n_steps_per_time_step = 1000 # max number of nonlinear algebraic solver iterations per time step\n\n    n_0     = params['n_0']\n    c_vec_0 = params['c_vec_0']\n    \n    temp_f_0 = params['temp_f_0']\n    temp_c_0 = params['temp_c_0']\n    pressure_0 = params['pressure_0']\n       \n    # m-equation point reactor model\n    n_species = len(c_vec_0)\n    u_vec_0 = np.zeros(1+n_species+2,dtype=np.float64)\n    \n    u_vec_0[0]    = n_0\n    u_vec_0[1:-2] = c_vec_0\n    u_vec_0[-2]   = temp_f_0\n    u_vec_0[-1]   = temp_c_0\n    #u_vec_0[-1]   = pressure_0\n            \n    (u_vec_history, info_dict) = odeint( f_vec, u_vec_0, time_stamps,\n                                         args=( params, ),\n                                         rtol=1e-4, atol=[1e-8, 1e-4, 1e-4, 1e-4, 1e-4, 1e-4, 1e-4, 1e-3, 1e-3], mxstep=max_n_steps_per_time_step,\n                                         full_output=1, tfirst=True )\n    #print(n_dens)\n    #print(u_vec)\n    #print(time_stamps)\n    #print\n\n    assert info_dict['message']=='Integration successful.',\\\n                     'Fatal: scipy.integrate.odeint failed %r'%info_dict['message']\n    \n    return u_vec_history",
      "execution_count": 13,
      "outputs": []
    },
    {
      "metadata": {
        "code_folding": [],
        "trusted": true
      },
      "cell_type": "code",
      "source": "'''Plotting function definition'''\n\ndef plot_results( u_vec_history, normalize=True, semi_log=False, markers=False, precursors=True ):\n    \n    time_stamps = params['time_stamps']/3600\n    tau = params['tau_fake']\n        \n    import matplotlib.pyplot as plt\n    \n    fig, ax1 = plt.subplots(1, figsize=(20, 8))\n\n    if precursors == True:\n        \n        ax2 = ax1.twinx() # duplicate x axes to plot n and c_i's in different y axes\n    \n        color_ids = np.linspace(0,1,u_vec_history[:,1:-2].shape[1])\n    \n        for (j,color_id) in zip( range(u_vec_history[:,1:-2].shape[1]), color_ids ):\n            color=plt.cm.nipy_spectral(color_id)\n        \n            if normalize == True:\n                ax2.plot( time_stamps,u_vec_history[:,j+1]/params['c_vec_0'][j],'-.',color=color,label=r'$c_%i$'%(j+1) )\n                ax2.set_ylabel(r'$c_i/c_{i_0}$',fontsize=16,color='black')\n            else:\n                ax2.plot( time_stamps,u_vec_history[:,j+1],'-.',color=color,label=r'$c_%i$'%(j+1) )\n                ax2.set_ylabel(r'$c_i$',fontsize=16,color='black')\n        \n        ax2.tick_params(axis='y', labelcolor='black', labelsize=14)\n        ax2.legend(loc='lower right',fontsize=12)\n        if semi_log == True:\n            ax2.set_yscale('log') # uncomment to plot y in log scale\n        #ax2.grid(True)\n\n    if markers == True:\n        if normalize == True:\n            ax1.plot( time_stamps,u_vec_history[:,0]/params['n_0'],'-',marker='+',color='red',label=r'$n/n_0$' )\n            ax1.set_ylabel(r'$n$',fontsize=16,color='black')\n        else:\n            ax1.plot( time_stamps,u_vec_history[:,0],'-',marker='+',color='red',label=r'$n$' )\n            ax1.set_ylabel(r'$n$',fontsize=16,color='black')\n    else:\n        if normalize == True:\n            ax1.plot(time_stamps,u_vec_history[:,0]/params['n_0'],'-',color='red',label=r'$n/n_0$' )\n            ax1.set_ylabel(r'$n/n_0$',fontsize=16,color='black')\n        else:\n            ax1.plot(time_stamps,u_vec_history[:,0],'-',color='red',label=r'$n$' )\n            ax1.set_ylabel(r'$n$',fontsize=16,color='black')\n\n    ax1.set_xlabel(r'Time [h]',fontsize=16)\n    \n    ax1.tick_params(axis='y', labelcolor='black', labelsize=14)\n    ax1.tick_params(axis='x', labelsize=14)\n    ax1.legend(loc='best',fontsize=12)\n    if semi_log == True:\n        ax1.set_yscale('log') # uncomment to plot y in log scale\n    ax1.grid(True)\n\n    plt.title(r'Point-Reactor Model: $\\rho/\\beta=$'\n              +str(params['reactivity']/params['beta'])\n              +r'; $q_0=$'+str(round(params['q_0'],2)),\n              fontsize=18)\n    fig.tight_layout()  # otherwise the right y-label is slightly clipped\n    plt.show() \n\n    print('')",
      "execution_count": 14,
      "outputs": []
    },
    {
      "metadata": {
        "code_folding": [
          2
        ],
        "trusted": true
      },
      "cell_type": "code",
      "source": "'''Utility function to peak at results table'''\n\ndef peek(time,data, head=500, tail=100):  \n\n    import pandas as pd\n    \n    pd.options.display.float_format = '{:.2e}'.format\n    \n    layout = {'time':time[:head]}\n    \n    layout['n'] = data[:head,0]\n    \n    for j in range(1,data[:,1:-2].shape[1]+1):\n        layout['c_%i'%j] = data[:head,j]\n        \n    layout['temp_f'] = data[:head,-2]\n    layout['temp_c'] = data[:head,-1]\n        \n    results = pd.DataFrame(layout)\n    print(round(results,2))\n    print('')\n    \n    #layout = {'time':time[-tail:]}\n    \n    #layout['n'] = data[-tail:,j]\n    \n    #for j in range(1,data[:,1:-2].shape[1]+1):\n       # layout['c_%i'%j] = data[-tail:,j]\n    \n   # layout['temp_f'] = data[-tail:,-2]\n   # layout['temp_c'] = data[-tail:,-1]\n               \n   # results = pd.DataFrame(layout)\n   # print(round(results,2))\n   # print('')",
      "execution_count": 15,
      "outputs": []
    },
    {
      "metadata": {},
      "cell_type": "markdown",
      "source": "# The Pump\nThe pump takes the subcooled liquid runoff from the condenser and pumps it back into the bottom of the reactor at the current operating pressure of the reactor. The head required is affected by the viscocity of the liquid it pumps into the reactor, which changes slightly with temperature and pressure."
    },
    {
      "metadata": {
        "trusted": true,
        "code_folding": []
      },
      "cell_type": "code",
      "source": "def pump(time, temp_effluent, temp_c, params):\n    #placeholder for a more accurate pumping function that includes a slight temperature increase and work done\n  #  if time > params['malfunction start'] and time < params['malfunction end']: # reduce subcooling by 33%\n      #  t_runoff = temp_c - 4\n        \n  #  elif time > params['shutdown time']:\n        \n     #   t_runoff = temp_c - 4\n        \n   #     if t_runoff < 275.15:\n    #        t_runoff = 275.15\n            \n   #     if temp_c < 275.15:\n   #         temp_c = 275.15\n            \n    #    return t_runoff\n    \n   # elif temp_c < 273.15:\n   #     t_runoff = temp_c\n   #     return t_runoff\n    \n#    else:\n   #     t_runoff = temp_c - (abs(temp_c - 293.15)/350 * 6) # reduce runoff temperature by 6 degrees celsius\n    \n    return temp_effluent",
      "execution_count": 16,
      "outputs": []
    },
    {
      "metadata": {
        "trusted": true,
        "code_folding": []
      },
      "cell_type": "code",
      "source": "def quantities1(u_vec_history, params, time_stamps):\n    # used to graph q''' and heat removed\n    import pandas as pd\n    import scipy.constants as sc\n    data = dict()\n    \n    q3_list = list() #temp storage for q3 prime\n    removed_heat_list = list() #manipulated q3 prime\n    \n    for (time, n_dens, temp_f, temp_c) in zip(time_stamps, u_vec_history[:,0], u_vec_history[:,-2], u_vec_history[:,-1]):\n        q3prime = abs(nuclear_pwr_dens_func(time, (temp_f+temp_c)/2, n_dens, params)) # calculate q3prime at this point in time; watts/m3\n        q3prime = q3prime * params['fuel_volume'] #convert q''' to \n        q3_list.append(q3prime/sc.giga) # convert watts/m3 to gWatts/m3\n        \n        heat_removed =  -1 * heat_sink_rate(time, temp_f, temp_c, params) # calculate the heat removed at this point in time\n        removed_heat_list.append(heat_removed/sc.giga) # convert gwatts/m3 to kWatts/m3\n       \n    #data['time [s]'] = time_stamps\n    data[\"q''' [gW/m3]\"] =  q3_list \n    data[\"heat removed [gW/m3]\"] = removed_heat_list\n    \n    quantities = pd.DataFrame( data )\n    return(quantities)",
      "execution_count": 17,
      "outputs": []
    },
    {
      "metadata": {
        "trusted": true,
        "code_folding": []
      },
      "cell_type": "code",
      "source": "def quantities2(u_vec_history, params, time_stamps):\n    # used to graph turbine, condenser and pump work\n    data = dict()\n    import pandas as pd\n    import scipy.constants as sc\n    \n    twork = list() #turbine work\n    #nwork = list() #net total usable work the reactor and BOP produce\n    #pwork = list() # pump work\n    \n    for (time, n_dens, temp_f, temp_c) in zip(time_stamps, u_vec_history[:,0], u_vec_history[:,-2], u_vec_history[:,-1]):\n        turb = turbine(time, temp_c, params)\n        turbwork = turb[1] * sc.kilo\n        heat_removed = -1 * heat_sink_rate(time, temp_f, temp_c, params)\n        if turbwork > heat_removed:\n            turbwork = heat_removed\n        turbwork = turbwork / sc.giga\n        twork.append(turbwork)\n        \n        #pwork.append(pump_work[time])\n        \n    data[\"turbine work [GW]\"] = twork\n    #data[\"net work [GW]\"] = nwork\n    \n    quantities = pd.DataFrame( data )\n    return(quantities)",
      "execution_count": 18,
      "outputs": []
    },
    {
      "metadata": {
        "trusted": true,
        "code_folding": []
      },
      "cell_type": "code",
      "source": "def quantities3(u_vec_history, params, time_stamps):\n    #net reactivity and reactivity coefficient printing\n    rho_data = dict() #store reactivity datas here\n    reg_rod_data = dict() # store reg rod movements here\n    import pandas as pd\n    import scipy.constants as sc\n    \n    net_rho = list() # net reactivity, $\n    reg_rod_rho = list() # reactivity from the regulating rods, $\n    mod_temp_rho = list() # moderator temperature reactivity, $\n    \n    for(time, n_dens, temp_c) in zip(time_stamps, u_vec_history[:,0], u_vec_history[:,-1]):\n        reactivities = rho_func(time, n_dens, temp_c, params)\n        net_rho.append(reactivities[0])\n        reg_rod_position = reactivities[1] / params['reg_rod_worth'] # cm\n        reg_rod_rho.append(reg_rod_position)\n        mod_temp_rho.append(reactivities[2])\n    \n    rho_data['net reactivity [$]'] = net_rho\n    reg_rod_data['regulating rod position [cm], worth = 1.5e-3 pcm'] = reg_rod_rho\n    rho_data['moderator temperature reactivity[$]'] = mod_temp_rho\n    \n    rhos = pd.DataFrame(rho_data)\n    regs = pd.DataFrame(reg_rod_data)\n    return(rhos, regs)",
      "execution_count": 19,
      "outputs": []
    },
    {
      "metadata": {
        "trusted": true,
        "code_folding": []
      },
      "cell_type": "code",
      "source": "def tmp():\n    time_stamps = params['time_stamps']\n    tau = params['tau_fake']\n    import matplotlib.pyplot as plt\n    plt.figure(figsize=(22, 8))\n    plt.plot(time_stamps/3600,u_vec_history[:,-2],'b-', time_stamps/3600, u_vec_history[:,-1], 'g-.')\n    plt.ylabel(r'$T [K]$')\n    plt.xlabel('Time [h]')\n    \n    plt.legend(['$T_f$', '$T_c$'])\n    plt.grid(True)\n    #ax2 = ax1.twinx() \n    #ax2.plot(time_stamps/3600,u_vec_history[:,-1],'g-.',label='$T_c=$ ' )\n    #ax2.set_ylabel(r'$T_c$ [K]',fontsize=16,color='green')\n    #ax2.tick_params(axis='y', labelcolor='green', labelsize=14)\n    #ax2.legend(loc='best',fontsize=12)\n    #ax2.grid(True)\n\n    plt.title('Fuel And Coolant Temperatures vs Time',fontsize=20)\n    plt.show()\n    print('')",
      "execution_count": 20,
      "outputs": []
    },
    {
      "metadata": {},
      "cell_type": "markdown",
      "source": "# Reactor Startup From Neutronless Steady State\nThe reactor begins at t = 0 with a neutron concentration of 0. After an external neutron source $q_\\text{0}$ is inserted, neutron and delayed emitter concentrations rise until steady state is reached."
    },
    {
      "metadata": {
        "trusted": true
      },
      "cell_type": "code",
      "source": "# '''Parameters'''\nimport math\nimport scipy.constants as sc\nimport iapws.iapws97 as steam_table\nparams = dict()\n\n#Data pertaining to one-group energy neutron balance\nparams['gen_time']     = 1.0e-4  # s\nparams['beta']         = 6.5e-3  # \nparams['k_infty']      = 1.34477\nparams['buckling'] = (math.pi/237.5)**2.0 + (2.405/410)**2.0 # geometric buckling; B = (pi/R)^2 + (2.405/H)^2\nparams['q_0'] = 0.1\nparams['fuel macro a'] = 1.34226126162 #fuel macroscopic absorption cross section, cm^-1\nparams['mod micro a'] = 0.332 * sc.zepto * sc.milli #moderator microscopic absorption cross section, cm^2\nparams['n fuel'] = 1.9577906e+21 #number density of the fuel, atoms/cm^3\nparams['I'] = 40.9870483 * sc.zepto * sc.milli  #resonance integral, I (dimensionless)\nparams['mod micro s'] = 20 * sc.zepto * sc.milli # moderator microscopic scattering cross section, cm^2\nparams['xi'] = 1 # average logarithmic energy decrement for light water\nparams['E0'] = 2 * sc.mega # energy of a neutron produced by fissioning, in electron volts\nparams['mod mu0'] = 0.71 # migration and diffusion area constants\nparams['eta'] = 1.03 # fast fission factor\nparams['epsilon'] = 2.05 # neutron multiplecation factor\nparams['mod molar mass'] = 18 # g/mol\n\n#data required by the condenser\nparams['pipe_diameter'] = 0.1 #m\nparams['liquid_velocity'] = 10 #m/s\nparams['cooling water flowrate'] = 80000 #kg/s\nparams['heat transfer area'] = 15000 #m2, or 500 4m long, 0.1m diameter pipes\n\nparams['reg_rod_worth'] = 1.5e-4 # pcm\n\nparams['n_dens_ss_operation'] = 1 #1.963e13/2200 * 1e4 #  #neutrons/m^2\n\n#Delayed neutron emission\nparams['species_decay']     = [0.0124, 0.0305, 0.111, 0.301, 1.14, 3.01] # 1/sec\nparams['species_rel_yield'] = [0.033, 0.219, 0.196, 0.395, 0.115, 0.042] \n\n#Data pertaining to two-temperature heat balances\nparams['fis_energy']           = 180 * 1.602e-13 # J/fission \nparams['enrich']               = 4.3/100.\nparams['fuel_mat_mass_dens']   = 10.5 # g/cc\n#params['moderator_fuel_ratio'] = 387 # atomic number concentration ratio\nparams['sigma_f_o']            = 586.2 * 100 * 1e-30 # m2\nparams['temp_o']               = 20 + 273.15 # K\nparams['thermal_neutron_velo'] = 2200 # m/s\n\nparams['fis_nuclide_num_dens_fake'] = 9.84e26 # (fissile nuclei)/m3\n\nparams['q_c'] = 303 # volumetric flow rate\n\nparams['fuel_dens']   = 10500 # kg/m3\nparams['cp_fuel']     = 236.58 # J/(kg K)\nparams['fuel_volume'] = 5 # m3\n\nparams['steam flowrate'] = 1820 # kg/s\nparams['coolant_dens']   = 1000 #  kg/m3\nparams['cp_coolant']     =  4184# J/(mol K) - > J/(kg K)\nparams['coolant_volume'] = 7.5 #m3\n\nparams['ht_coeff'] = 10000000\nparams['turbine efficiency'] = 0.8 \nparams['pump efficiency'] = 0.8\n\nparams['fis_prod_beta_energy_rate']  = 1.26 * 1.602e-13 # J/(fission sec) 1.26 t^-1.2 (t in seconds)\nparams['fis_prod_alpha_energy_rate'] = 1.40 * 1.602e-13 # J/(fission sec) 1.40 t^-1.2 (t in seconds)\n# % subcooling based on the % subcooling that exists at steady state\nparams['% subcooling'] = 1 #(1 -(steam_table._Region4(7, 0)[\"h\"]  - steam_table._Region1(493.15, 7)[\"h\"])/(steam_table._Region4(7,0)[\"h\"]))\nparams['shutdown temp reached'] = False\nparams['q_source_status'] = 'in' # is q_source inserted (in) or withdrawn (out)\n",
      "execution_count": 21,
      "outputs": []
    },
    {
      "metadata": {
        "trusted": true
      },
      "cell_type": "code",
      "source": "'''Setup up initial conditions'''\n\nimport numpy as np\nimport scipy.constants as sc\n\nparams['malfunction start'] = 1 * sc.hour \nparams['malfunction end'] = 1 * sc.hour + 15 * sc.minute\nparams['shutdown time'] = 9999 * sc.hour\n\ngen_time = params['gen_time'] # retrieve neutron generation time\nparams['q_0'] = 0.1\n\nparams['n_ss'] = 0 # neutronless steady state before start up\n\nrho_0_over_beta = 0.25 # $\nbeta = params['beta']\n\nparams['alpha_n'] = 0 # control rod reactivity worth; enough to cancel out the negative \n\nparams['reactivity'] = rho_0_over_beta * beta # \"rho/beta = 10 cents\"\n\nparams['temp_0'] = params['temp_o']\n\nparams['tau_fake'] = 2 # s\nparams['malfunction subcooling'] = 0.75\nparams['alpha_n_malfunction'] = 0\n\n# setup remaining initial conditions\nsetup_initial_conditions(params)",
      "execution_count": 22,
      "outputs": []
    },
    {
      "metadata": {
        "trusted": true
      },
      "cell_type": "code",
      "source": "'''Evolve the point-reactor'''\nimport scipy.constants as const\n\ntime_final    = 1 * const.hour\nn_time_stamps = 1000 # number of solution values in time\n\nparams['time_final']    = time_final\nparams['n_time_stamps'] = n_time_stamps\n\n# Run the reactor and compute the history of the state variables; tabular form, one row per time stamp\nu_vec_history = run_point_reactor( f_vec, params )\n#print(u_vec_history)\nprint(\"done\")\n",
      "execution_count": 23,
      "outputs": [
        {
          "output_type": "stream",
          "text": "10457.882465724202\ndex\n",
          "name": "stdout"
        },
        {
          "output_type": "error",
          "ename": "ValueError",
          "evalue": "math domain error",
          "traceback": [
            "\u001b[0;31m---------------------------------------------------------------------------\u001b[0m",
            "\u001b[0;31mValueError\u001b[0m                                Traceback (most recent call last)",
            "\u001b[0;32m<ipython-input-23-16fa8d425799>\u001b[0m in \u001b[0;36m<module>\u001b[0;34m\u001b[0m\n\u001b[1;32m      9\u001b[0m \u001b[0;34m\u001b[0m\u001b[0m\n\u001b[1;32m     10\u001b[0m \u001b[0;31m# Run the reactor and compute the history of the state variables; tabular form, one row per time stamp\u001b[0m\u001b[0;34m\u001b[0m\u001b[0;34m\u001b[0m\u001b[0m\n\u001b[0;32m---> 11\u001b[0;31m \u001b[0mu_vec_history\u001b[0m \u001b[0;34m=\u001b[0m \u001b[0mrun_point_reactor\u001b[0m\u001b[0;34m(\u001b[0m \u001b[0mf_vec\u001b[0m\u001b[0;34m,\u001b[0m \u001b[0mparams\u001b[0m \u001b[0;34m)\u001b[0m\u001b[0;34m\u001b[0m\u001b[0m\n\u001b[0m\u001b[1;32m     12\u001b[0m \u001b[0;31m#print(u_vec_history)\u001b[0m\u001b[0;34m\u001b[0m\u001b[0;34m\u001b[0m\u001b[0m\n\u001b[1;32m     13\u001b[0m \u001b[0mprint\u001b[0m\u001b[0;34m(\u001b[0m\u001b[0;34m\"done\"\u001b[0m\u001b[0;34m)\u001b[0m\u001b[0;34m\u001b[0m\u001b[0m\n",
            "\u001b[0;32m<ipython-input-13-22c354e2283c>\u001b[0m in \u001b[0;36mrun_point_reactor\u001b[0;34m(f_vec, params)\u001b[0m\n\u001b[1;32m     33\u001b[0m                                          \u001b[0margs\u001b[0m\u001b[0;34m=\u001b[0m\u001b[0;34m(\u001b[0m \u001b[0mparams\u001b[0m\u001b[0;34m,\u001b[0m \u001b[0;34m)\u001b[0m\u001b[0;34m,\u001b[0m\u001b[0;34m\u001b[0m\u001b[0m\n\u001b[1;32m     34\u001b[0m                                          \u001b[0mrtol\u001b[0m\u001b[0;34m=\u001b[0m\u001b[0;36m1e-4\u001b[0m\u001b[0;34m,\u001b[0m \u001b[0matol\u001b[0m\u001b[0;34m=\u001b[0m\u001b[0;34m[\u001b[0m\u001b[0;36m1e-8\u001b[0m\u001b[0;34m,\u001b[0m \u001b[0;36m1e-4\u001b[0m\u001b[0;34m,\u001b[0m \u001b[0;36m1e-4\u001b[0m\u001b[0;34m,\u001b[0m \u001b[0;36m1e-4\u001b[0m\u001b[0;34m,\u001b[0m \u001b[0;36m1e-4\u001b[0m\u001b[0;34m,\u001b[0m \u001b[0;36m1e-4\u001b[0m\u001b[0;34m,\u001b[0m \u001b[0;36m1e-4\u001b[0m\u001b[0;34m,\u001b[0m \u001b[0;36m1e-3\u001b[0m\u001b[0;34m,\u001b[0m \u001b[0;36m1e-3\u001b[0m\u001b[0;34m]\u001b[0m\u001b[0;34m,\u001b[0m \u001b[0mmxstep\u001b[0m\u001b[0;34m=\u001b[0m\u001b[0mmax_n_steps_per_time_step\u001b[0m\u001b[0;34m,\u001b[0m\u001b[0;34m\u001b[0m\u001b[0m\n\u001b[0;32m---> 35\u001b[0;31m                                          full_output=1, tfirst=True )\n\u001b[0m\u001b[1;32m     36\u001b[0m     \u001b[0;31m#print(n_dens)\u001b[0m\u001b[0;34m\u001b[0m\u001b[0;34m\u001b[0m\u001b[0m\n\u001b[1;32m     37\u001b[0m     \u001b[0;31m#print(u_vec)\u001b[0m\u001b[0;34m\u001b[0m\u001b[0;34m\u001b[0m\u001b[0m\n",
            "\u001b[0;32m~/anaconda3_501/lib/python3.6/site-packages/scipy/integrate/odepack.py\u001b[0m in \u001b[0;36modeint\u001b[0;34m(func, y0, t, args, Dfun, col_deriv, full_output, ml, mu, rtol, atol, tcrit, h0, hmax, hmin, ixpr, mxstep, mxhnil, mxordn, mxords, printmessg, tfirst)\u001b[0m\n\u001b[1;32m    231\u001b[0m                              \u001b[0mfull_output\u001b[0m\u001b[0;34m,\u001b[0m \u001b[0mrtol\u001b[0m\u001b[0;34m,\u001b[0m \u001b[0matol\u001b[0m\u001b[0;34m,\u001b[0m \u001b[0mtcrit\u001b[0m\u001b[0;34m,\u001b[0m \u001b[0mh0\u001b[0m\u001b[0;34m,\u001b[0m \u001b[0mhmax\u001b[0m\u001b[0;34m,\u001b[0m \u001b[0mhmin\u001b[0m\u001b[0;34m,\u001b[0m\u001b[0;34m\u001b[0m\u001b[0m\n\u001b[1;32m    232\u001b[0m                              \u001b[0mixpr\u001b[0m\u001b[0;34m,\u001b[0m \u001b[0mmxstep\u001b[0m\u001b[0;34m,\u001b[0m \u001b[0mmxhnil\u001b[0m\u001b[0;34m,\u001b[0m \u001b[0mmxordn\u001b[0m\u001b[0;34m,\u001b[0m \u001b[0mmxords\u001b[0m\u001b[0;34m,\u001b[0m\u001b[0;34m\u001b[0m\u001b[0m\n\u001b[0;32m--> 233\u001b[0;31m                              int(bool(tfirst)))\n\u001b[0m\u001b[1;32m    234\u001b[0m     \u001b[0;32mif\u001b[0m \u001b[0moutput\u001b[0m\u001b[0;34m[\u001b[0m\u001b[0;34m-\u001b[0m\u001b[0;36m1\u001b[0m\u001b[0;34m]\u001b[0m \u001b[0;34m<\u001b[0m \u001b[0;36m0\u001b[0m\u001b[0;34m:\u001b[0m\u001b[0;34m\u001b[0m\u001b[0m\n\u001b[1;32m    235\u001b[0m         \u001b[0mwarning_msg\u001b[0m \u001b[0;34m=\u001b[0m \u001b[0m_msgs\u001b[0m\u001b[0;34m[\u001b[0m\u001b[0moutput\u001b[0m\u001b[0;34m[\u001b[0m\u001b[0;34m-\u001b[0m\u001b[0;36m1\u001b[0m\u001b[0;34m]\u001b[0m\u001b[0;34m]\u001b[0m \u001b[0;34m+\u001b[0m \u001b[0;34m\" Run with full_output = 1 to get quantitative information.\"\u001b[0m\u001b[0;34m\u001b[0m\u001b[0m\n",
            "\u001b[0;32m<ipython-input-12-4438cdaa049d>\u001b[0m in \u001b[0;36mf_vec\u001b[0;34m(time, u_vec, params)\u001b[0m\n\u001b[1;32m     69\u001b[0m     \u001b[0mt_runoff\u001b[0m \u001b[0;34m=\u001b[0m \u001b[0mturbine_calcs\u001b[0m\u001b[0;34m[\u001b[0m\u001b[0;36m0\u001b[0m\u001b[0;34m]\u001b[0m\u001b[0;34m\u001b[0m\u001b[0m\n\u001b[1;32m     70\u001b[0m     \u001b[0mx_runoff\u001b[0m \u001b[0;34m=\u001b[0m \u001b[0mturbine_calcs\u001b[0m\u001b[0;34m[\u001b[0m\u001b[0;36m2\u001b[0m\u001b[0;34m]\u001b[0m \u001b[0;31m#run the turbine, take the runoff and pass to condenser\u001b[0m\u001b[0;34m\u001b[0m\u001b[0m\n\u001b[0;32m---> 71\u001b[0;31m     \u001b[0mcondenser_out\u001b[0m \u001b[0;34m=\u001b[0m \u001b[0mcondenser\u001b[0m\u001b[0;34m(\u001b[0m\u001b[0mtime\u001b[0m\u001b[0;34m,\u001b[0m \u001b[0mt_runoff\u001b[0m\u001b[0;34m,\u001b[0m \u001b[0mx_runoff\u001b[0m\u001b[0;34m,\u001b[0m \u001b[0mtemp_c\u001b[0m\u001b[0;34m,\u001b[0m \u001b[0mparams\u001b[0m\u001b[0;34m)\u001b[0m \u001b[0;31m#run the condenser, pass runoff to the pump\u001b[0m\u001b[0;34m\u001b[0m\u001b[0m\n\u001b[0m\u001b[1;32m     72\u001b[0m     \u001b[0mpump_out\u001b[0m \u001b[0;34m=\u001b[0m \u001b[0mpump\u001b[0m\u001b[0;34m(\u001b[0m\u001b[0mtime\u001b[0m\u001b[0;34m,\u001b[0m \u001b[0mcondenser_out\u001b[0m\u001b[0;34m,\u001b[0m \u001b[0mtemp_c\u001b[0m\u001b[0;34m,\u001b[0m \u001b[0mparams\u001b[0m\u001b[0;34m)\u001b[0m \u001b[0;31m#run the pump, runoff returns to reactor as temp_in\u001b[0m\u001b[0;34m\u001b[0m\u001b[0m\n\u001b[1;32m     73\u001b[0m     \u001b[0;31m#print(\"time is \", time, \"and inlet temperature is\", temp_in, \"\\n\")\u001b[0m\u001b[0;34m\u001b[0m\u001b[0;34m\u001b[0m\u001b[0m\n",
            "\u001b[0;32m<ipython-input-11-8c23ed3d2dd7>\u001b[0m in \u001b[0;36mcondenser\u001b[0;34m(time, temp_in, x, temp_c, params)\u001b[0m\n\u001b[1;32m    110\u001b[0m                 \u001b[0;31m#guess the LMTD\u001b[0m\u001b[0;34m\u001b[0m\u001b[0;34m\u001b[0m\u001b[0m\n\u001b[1;32m    111\u001b[0m \u001b[0;34m\u001b[0m\u001b[0m\n\u001b[0;32m--> 112\u001b[0;31m                 \u001b[0mLMTD\u001b[0m \u001b[0;34m=\u001b[0m \u001b[0;34m(\u001b[0m\u001b[0;34m(\u001b[0m\u001b[0mcoolant_in\u001b[0m \u001b[0;34m-\u001b[0m \u001b[0mfinal_coolant_temperature_guess\u001b[0m\u001b[0;34m)\u001b[0m \u001b[0;34m-\u001b[0m \u001b[0;34m(\u001b[0m\u001b[0mfinal_runoff_temperature\u001b[0m \u001b[0;34m-\u001b[0m \u001b[0mcoolant_in\u001b[0m\u001b[0;34m)\u001b[0m\u001b[0;34m)\u001b[0m\u001b[0;34m/\u001b[0m\u001b[0mmath\u001b[0m\u001b[0;34m.\u001b[0m\u001b[0mlog\u001b[0m\u001b[0;34m(\u001b[0m\u001b[0;34m(\u001b[0m\u001b[0mrunoff_in\u001b[0m \u001b[0;34m-\u001b[0m  \u001b[0mfinal_coolant_temperature_guess\u001b[0m\u001b[0;34m)\u001b[0m\u001b[0;34m/\u001b[0m\u001b[0;34m(\u001b[0m\u001b[0mfinal_runoff_temperature\u001b[0m \u001b[0;34m-\u001b[0m \u001b[0mcoolant_in\u001b[0m\u001b[0;34m)\u001b[0m\u001b[0;34m)\u001b[0m\u001b[0;34m\u001b[0m\u001b[0m\n\u001b[0m\u001b[1;32m    113\u001b[0m \u001b[0;34m\u001b[0m\u001b[0m\n\u001b[1;32m    114\u001b[0m                 \u001b[0;31m#average wall temperatures\u001b[0m\u001b[0;34m\u001b[0m\u001b[0;34m\u001b[0m\u001b[0m\n",
            "\u001b[0;31mValueError\u001b[0m: math domain error"
          ]
        }
      ]
    },
    {
      "metadata": {
        "trusted": true
      },
      "cell_type": "code",
      "source": "plot_results(u_vec_history, params)",
      "execution_count": null,
      "outputs": []
    },
    {
      "metadata": {},
      "cell_type": "markdown",
      "source": "Neutron density and delayed emitter concentrations follow the expected s-shaped curve of a controlled reactivity insertion into an initially neutronless reactor, with a sharp jump in densities and concentrations that level off around their respective steady state values."
    },
    {
      "metadata": {},
      "cell_type": "markdown",
      "source": "Neutron and delayed emitter concentrations follow the predicted S-shape pattern, with initial quick growth followed by a horizontal asymptope around steady state."
    },
    {
      "metadata": {
        "trusted": true
      },
      "cell_type": "code",
      "source": "tmp()",
      "execution_count": null,
      "outputs": []
    },
    {
      "metadata": {},
      "cell_type": "markdown",
      "source": "Coolant and fuel temperatures decrease slightly initially when there is very little heat being generated such that the condenser actually subcools the entering liquid more than it will be heated by the reactor. This phase ends after about 5 minutes, and is followed by a sharp period of little increase in coolant temperature as the heat produced by the reactor is not enough after subcooling through the condenser to cause large increases in coolant temperature, followed jump in coolant and fuel temperatures mimicking the jump found in the grahs of q''' and heat removed, before more gently increasing over the next three hours to the steady state temperature values of about 830 C for the fuel and 300 C for the coolant. "
    },
    {
      "metadata": {
        "trusted": true
      },
      "cell_type": "code",
      "source": "import matplotlib.pyplot as plt\nheat_data = quantities1(u_vec_history, params, params['time_stamps'])\nplt.figure(figsize=(22, 8))\nplt.plot(params['time_stamps']/3600, heat_data[\"q''' [gW/m3]\"], params['time_stamps']/3600, heat_data[\"heat removed [gW/m3]\"])\nplt.grid()\nplt.rc('font', size=12)\nplt.xlabel('Time [h]')\nplt.ylabel('Power [GW]')\nplt.title('Heat Data, Reactor Startup')\nplt.legend([\"q'''\", \"heat removed\"])\nplt.show()",
      "execution_count": null,
      "outputs": []
    },
    {
      "metadata": {},
      "cell_type": "markdown",
      "source": "Heat removed and q''' spike initially to about 0.8 GW with the insertion of the initial neutron source Q before falling just as quickly upon its removal to almost zero. From there, a sharp increase is seen to about 4.5 GW of total heat produced and removed."
    },
    {
      "metadata": {
        "trusted": true
      },
      "cell_type": "code",
      "source": "quants = quantities3(u_vec_history, params, params['time_stamps'])\nplt.figure(figsize=(22, 8))\nplt.plot(params['time_stamps']/3600, quants[0]/params['beta'])\nplt.grid()\nplt.rc('font', size=12)\nplt.xlabel('Time [h]')\nplt.ylabel('Reactivity')\nplt.title('Reactivity Data, Reactor Starup')\nplt.legend(['Total Reactivity','Moderator temperature Reactivity'])\nplt.show()\n",
      "execution_count": null,
      "outputs": []
    },
    {
      "metadata": {},
      "cell_type": "markdown",
      "source": "Total reactivty begins positive and then is quickly decreased following the increase in neutron density until steady state is reached. Moderator temperature reactivity decreases smoothly with the increase in moderator temperature to about $0.05."
    },
    {
      "metadata": {
        "trusted": true
      },
      "cell_type": "code",
      "source": "plt.figure(figsize=(22, 8))\nplt.plot(params['time_stamps']/3600, quants[1])\nplt.grid()\nplt.rc('font', size=12)\nplt.xlabel('Time [h]')\nplt.ylabel('Position [cm]')\nplt.title('Regulating Rod Position, Reactor Startup')",
      "execution_count": null,
      "outputs": []
    },
    {
      "metadata": {},
      "cell_type": "markdown",
      "source": "The regulating rod is quickly pushed into the reactor to remove reactivity as neutron density rapidly increases to its steady state value. Once this is achieved, the regulating rod is slowly withdrawn to add reactivity into the reactor in order to counter the increased negative reactivity due to moderator temperature and keep the total reactivity in the reactor at zero."
    },
    {
      "metadata": {
        "trusted": true
      },
      "cell_type": "code",
      "source": "work_data = quantities2(u_vec_history, params, params['time_stamps'])\nplt.figure(figsize=(22, 8))\nplt.plot(params['time_stamps']/3600, work_data)\nplt.grid()\nplt.rc('font', size=12)\nplt.xlabel('Time [h]')\nplt.ylabel('Power [GW]')\nplt.title('Turbine, Condenser, and Net Power vs Time, Reactor Startup')\nplt.legend(['Turbine Power'])\nplt.show()\n",
      "execution_count": null,
      "outputs": []
    },
    {
      "metadata": {},
      "cell_type": "markdown",
      "source": "Turbine power starts slightly above zero during initial neutron insertion and then quickly falls to zero, mimicking heat removed. It then reaches a slight initial peak before falling to a new steady state value. The peak can be explained due to a slight decrease in coolant temperature at that point from moderator reactivity feedback."
    },
    {
      "metadata": {
        "trusted": true
      },
      "cell_type": "code",
      "source": "",
      "execution_count": null,
      "outputs": []
    }
  ],
  "metadata": {
    "celltoolbar": "Tags",
    "kernelspec": {
      "name": "python36",
      "display_name": "Python 3.6",
      "language": "python"
    },
    "latex_envs": {
      "LaTeX_envs_menu_present": true,
      "autoclose": false,
      "autocomplete": true,
      "bibliofile": "biblio.bib",
      "cite_by": "apalike",
      "current_citInitial": 1,
      "eqLabelWithNumbers": true,
      "eqNumInitial": 1,
      "hotkeys": {
        "equation": "Ctrl-E",
        "itemize": "Ctrl-I"
      },
      "labels_anchors": false,
      "latex_user_defs": false,
      "report_style_numbering": false,
      "user_envs_cfg": false
    },
    "language_info": {
      "mimetype": "text/x-python",
      "nbconvert_exporter": "python",
      "name": "python",
      "pygments_lexer": "ipython3",
      "version": "3.6.6",
      "file_extension": ".py",
      "codemirror_mode": {
        "version": 3,
        "name": "ipython"
      }
    }
  },
  "nbformat": 4,
  "nbformat_minor": 2
}