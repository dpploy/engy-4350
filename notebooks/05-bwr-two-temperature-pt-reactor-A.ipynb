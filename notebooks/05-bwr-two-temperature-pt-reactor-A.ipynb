{
  "cells": [
    {
      "metadata": {
        "trusted": true
      },
      "cell_type": "code",
      "source": "!pip install iapws",
      "execution_count": 1,
      "outputs": [
        {
          "output_type": "stream",
          "text": "Requirement already satisfied: iapws in /home/nbuser/anaconda3_501/lib/python3.6/site-packages (1.4)\r\nRequirement already satisfied: scipy in /home/nbuser/anaconda3_501/lib/python3.6/site-packages (from iapws) (1.1.0)\r\n",
          "name": "stdout"
        }
      ]
    },
    {
      "metadata": {},
      "cell_type": "markdown",
      "source": "Engy-4350: Nuclear Reactor Engineering Spring 2019 UMass Lowell; Prof. V. F. de Almeida **19Mar2019**, Austin T. Rotker, **Aug2019**\n\n# 05. Two-Temperature Boiling Water Reactor Example Part A\n$  \n  \\newcommand{\\Amtrx}{\\boldsymbol{\\mathsf{A}}}\n  \\newcommand{\\Bmtrx}{\\boldsymbol{\\mathsf{B}}}\n  \\newcommand{\\Mmtrx}{\\boldsymbol{\\mathsf{M}}}\n  \\newcommand{\\Imtrx}{\\boldsymbol{\\mathsf{I}}}\n  \\newcommand{\\Pmtrx}{\\boldsymbol{\\mathsf{P}}}\n  \\newcommand{\\Lmtrx}{\\boldsymbol{\\mathsf{L}}}\n  \\newcommand{\\Umtrx}{\\boldsymbol{\\mathsf{U}}}\n  \\newcommand{\\Smtrx}{\\boldsymbol{\\mathsf{S}}}\n  \\newcommand{\\xvec}{\\boldsymbol{\\mathsf{x}}}\n  \\newcommand{\\uvar}{\\boldsymbol{u}}\n  \\newcommand{\\fvar}{\\boldsymbol{f}}\n  \\newcommand{\\avec}{\\boldsymbol{\\mathsf{a}}}\n  \\newcommand{\\bvec}{\\boldsymbol{\\mathsf{b}}}\n  \\newcommand{\\cvec}{\\boldsymbol{\\mathsf{c}}}\n  \\newcommand{\\rvec}{\\boldsymbol{\\mathsf{r}}}\n  \\newcommand{\\mvec}{\\boldsymbol{\\mathsf{m}}}\n  \\newcommand{\\gvec}{\\boldsymbol{\\mathsf{g}}}\n  \\newcommand{\\zerovec}{\\boldsymbol{\\mathsf{0}}}\n  \\newcommand{\\norm}[1]{\\bigl\\lVert{#1}\\bigr\\rVert}\n  \\newcommand{\\transpose}[1]{{#1}^\\top}\n  \\DeclareMathOperator{\\rank}{rank}\n  \\newcommand{\\Power}{\\mathcal{P}}\n$"
    },
    {
      "metadata": {},
      "cell_type": "markdown",
      "source": "---\n## Table of Contents\n* [Objectives](#obj)\n* [Introduction](#intro)\n* [Problem Statement](#ps)\n* [Input Data](#data)\n* [Steady state](#ss)\n* [Vector ODE System](#vodes)\n* [Function library](#flib)\n* [One-Group Energy Neutron Balance](#nbal)\n* [Balance of Plant](#bop)\n* [Plant Startup Results](#res1)\n\n---"
    },
    {
      "metadata": {},
      "cell_type": "markdown",
      "source": "## Objectives<a id=\"obj\"></a>\n+ Use one-group energy, two-temperature, point-reactor dynamics modeling (six-group delayed neutron emitters) to obtain insight on neutron density behavior with time-dependent reactivity of a Boiling Water Reactor during startup and steady state operation.\n+ Explore and understand intrinsic temperature reactivity coefficient feedback from nuclear sources."
    },
    {
      "metadata": {},
      "cell_type": "markdown",
      "source": "## Introduction<a id=\"intro\"></a>\n\nIn-class course notes OneNote [ChEn-4350-feedback](https://studentuml-my.sharepoint.com/:o:/g/personal/valmor_dealmeida_uml_edu/Eo9JUns42F1Pqmq4tFS9sJsBv2jF8UDQvRb5l5Z2D5ssag?e=FDeSpV).\n\nRefer to Notebook 03.\n"
    },
    {
      "metadata": {},
      "cell_type": "markdown",
      "source": "## Problem Statement<a id=\"ps\"></a>\n\nConsider a boiling water reactor, with UO$_2$ fuel and a light water moderator and coolant.\nGiven the neutron generation time $\\ell$, delayed neutron fraction, $\\beta$, decay constants of a six-group delayed neutron emitters, $\\lambda_i$, and corresponding yield of delayed neutron fractions for each emitter, $\\beta_i$, calculate the pointwise neutron density variation with time for **varying** neutron reactivity, $\\rho(t)$.\n\n![](images/point-reactor-hx.png)"
    },
    {
      "metadata": {},
      "cell_type": "markdown",
      "source": "## Input Data<a id=\"data\"></a>\n\nData pertaining to one-group energy neutron balance. \n\nName                        | Parameter     | Value                | Unit             |\n----------------------------|---------------|----------------------|------------------| \nneutron generation time                           | $\\ell$             | $1\\times 10^{-4}$    |  s | \ndelayed neutron fraction                          | $\\beta$            | $6.5\\times 10^{-3}$  |  - |\nneutron diffusion coeff.                          | $D$                | $0.84$              | cm |\ncore radius                                       | $R$                | $1.8\\times 10^{2}$  | cm  |\ncore height                                       | $H$                | $2.8\\times 10^{2}$  | cm  |\ninfinite medium neutron reproduction factor       | $k_\\infty$ | 1.118 | - |\ngraphite effective macroscopic absorption cross section ref. | $\\overline{\\Sigma}_\\text{a}^\\text{(o)} $ | $2.74\\times 10^{-4}$ |  cm$^{-1}$ |\nother quantities; possibly microscopic cross sections | . | . |\n. | . | . |\n\nFor thermal fission of $^{235}$U the following six-group delayed neutron precursors data is typically used (*Physics of Nuclear Kinetics*, G. R. Keepin, 1965, Addison-Wesley Pub. Co.):\n\n\nDelayed neutron emitter group No. | Decay cte ($\\lambda_i$,1/sec) | Relative yield ($\\beta_i/\\beta$) |\n----------------------------------|-------------------------------|----------------------------------| \n1                                 | 0.0124                        | 0.033                            |\n2                                 | 0.0305                        | 0.219                            | \n3                                 | 0.111                         | 0.196                            |  \n4                                 | 0.301                         | 0.395                            | \n5                                 | 1.14                          | 0.115                            |\n6                                 | 3.01                          | 0.042                            |"
    },
    {
      "metadata": {},
      "cell_type": "markdown",
      "source": "Data pertaining to two-temperature heat balances.\n\nName                        | Parameter     | Value                | Unit             |\n----------------------------|---------------|----------------------|------------------| \nfission energy per fission                        | $G_\\text{f}$  | 180               | MeV/fission |\n$^{235}$U fuel enrichment                         | $\\epsilon$ | 3 | wt% |\nUO$_2$ fuel material mass density                 | $\\rho_\\text{fm}$ | 10.5 | g/cc |\nmoderator-fuel ratio (atomic number concentration) | $N^{M}/N^{U}$ | 387 |\n$^{235}$U thermal microscopic fission cross section | $\\sigma_{\\text{f}_\\text{o}}$ | 586.2 | barn |\nthermal neutron temperature                       | $T^{(\\text{o})}$ | 20 | C |\nthermal neutron velocity                          | $v_\\text{(o)}$     | 2200 | m/s |\nheat transport coeff. | . | . | . |\nfuel/moderator heat capacity | . | . | . |\ncoolant heat capacity | . | . | . |\nfuel/moderator mass density | . | . | . |\ncoolant mass density | . | . | . |\nmoderator/fuel volume | . | . | . |\ncoolant volume | . | . | . |\ncoolant flow rate | . | . | . |\n\nThe residence time of the coolant in the core\n\n\\begin{equation*}\n\\tau = V_c / q_c\n\\end{equation*}\n"
    },
    {
      "metadata": {
        "trusted": true
      },
      "cell_type": "code",
      "source": "'''Parameters'''\nimport math\nimport scipy.constants as sc\nimport iapws.iapws97 as steam_table\nparams = dict()\n\n#Data pertaining to one-group energy neutron balance\nparams['gen_time']     = 1.0e-4  # s\nparams['beta']         = 6.5e-3  # \nparams['k_infty']      = 1.34477\nparams['buckling'] = (math.pi/2.375)**2.0 + (2.405/4.1)**2.0 # geometric buckling; B = (pi/R)^2 + (2.405/H)^2\nparams['q_0'] = 0\nparams['fuel macro a'] = 1.34226126162 #fuel macroscopic absorption cross section, cm^-1\nparams['mod micro a'] = 0.332 * sc.zepto * sc.milli #moderator microscopic absorption cross section, cm^2\nparams['n fuel'] = 1.9577906e+21 #number density of the fuel, atoms/cm^3\nparams['I'] = 40.9870483 #resonance integral, I (dimensionless)\nparams['mod micro s'] = 20 * sc.zepto * sc.milli # moderator microscopic scattering cross section, cm^2\nparams['xi'] = 1 # average logarithmic energy decrement for light water\nparams['E0'] = 2 * sc.mega # energy of a neutron produced by fissioning, in electron volts\nparams['mod mu0'] = 0.71 # migration and diffusion area constants\nparams['eta'] = 1.03 # fast fission factor\nparams['epsilon'] = 2.05 # neutron multiplecation factor\n\nparams['n_dens_ss_operation'] = 1 #1.963e13/2200 * 1e4 #  #neutrons/m^2\n\nparams['alpha_n'] = -1.5e-3 # control rod reactivity worth\n\n#Delayed neutron emission\nparams['species_decay']     = [0.0124, 0.0305, 0.111, 0.301, 1.14, 3.01] # 1/sec\nparams['species_rel_yield'] = [0.033, 0.219, 0.196, 0.395, 0.115, 0.042] \n\n#Data pertaining to two-temperature heat balances\nparams['fis_energy']           = 180 * 1.602e-13 # J/fission \nparams['enrich']               = 4.3/100.\nparams['fuel_mat_mass_dens']   = 10.5 # g/cc\n#params['moderator_fuel_ratio'] = 387 # atomic number concentration ratio\nparams['sigma_f_o']            = 586.2 * 100 * 1e-30 # m2\nparams['temp_o']               = 20 + 273.15 # K\nparams['thermal_neutron_velo'] = 2200 # m/s\n\nparams['fis_nuclide_num_dens_fake'] = 9.84e26 # (fissile nuclei)/m3\n\nparams['q_c'] = 303 # volumetric flow rate\n\nparams['fuel_dens']   = 10500 # kg/m3\nparams['cp_fuel']     = 300 # J/(kg K)\nparams['fuel_volume'] = 15.0157429 # m3\n\nparams['steam flowrate'] = 1820 # kg/s\nparams['coolant_dens']   = 600 #  kg/m3\nparams['cp_coolant']     =  4000# J/(mol K) - > J/(kg K)\nparams['coolant_volume'] = 3000 # m3\n\nparams['ht_coeff'] = 30000 # W/K\n\nparams['turbine efficiency'] = 0.8 \nparams['condenser efficiency'] = 0.8\nparams['pump efficiency'] = 0.8\n\nparams['fis_prod_beta_energy_rate']  = 1.26 * 1.602e-13 # J/(fission sec) 1.26 t^-1.2 (t in seconds)\nparams['fis_prod_alpha_energy_rate'] = 1.40 * 1.602e-13 # J/(fission sec) 1.40 t^-1.2 (t in seconds)\n# % subcooling based on the % subcooling that exists at steady state\nparams['% subcooling'] =  (1 -(steam_table._Region4(7, 0)[\"h\"]  - steam_table._Region1(493.15, 7)[\"h\"])/(steam_table._Region4(7,0)[\"h\"]))\n\nparams['shutdown temp reached'] = False\n\n\n",
      "execution_count": 2,
      "outputs": []
    },
    {
      "metadata": {},
      "cell_type": "markdown",
      "source": "## One-Group Energy  Neutron Balance<a id=\"nbal\"></a>\n\nThe space-invariant neutron balance for the point-reactor model is\n\n\\begin{equation*}\n\\frac{\\text{d}n}{\\text{d}t}  = \\frac{\\rho(t)-\\beta}{\\ell}\\, n + \\sum\\limits_{i=1}^{6} \\lambda_i\\,c_i  + q(t),\n\\end{equation*}\n\nwhere the first term on the right side of the equation represents the net production of neutrons not accounting for delayed neutrons, and the second term accounts for the source of delayed neutrons considering 6 groups of delayed neutron emitters resulting from the fission of $^{235}$U nuclei. Therefore a balance of neutron emitter species is also necessary\n\n\\begin{equation*}\n\\frac{\\text{d}c_i}{\\text{d}t}  = \\frac{\\beta_i}{\\ell}\\, n - \\lambda_i\\,c_i ,\n     \\ \\ \\ \\ \\ \\forall \\ \\ \\ \\ \\  i=1,\\ldots,6.\n\\end{equation*}\n\nwhere the first term on the right side of the equation is the source of emitters as a function of the neutron number density $n(t)$, and the second term is the consumption rate of the emitter by radioactive decay obtained as a function of the product of the number concentration of the emmiter, $c_i(t)$, multiplied by its decay constant $\\lambda_i$. Here the number concentration of of the $i$th emitter, $c_i$ is considered in terms of delayed neutron number density, hence the units are the same as $n$.\n\nThe current model considers the temperature reactivity coefficient, $\\alpha_{T_n}$, that is, \n\n\\begin{equation*}\n \\rho(t) = \\rho_0 + \\alpha_{T_n}(T_f)\\,\\bigl(T_f(t) - T^{(0)}\\bigr),\n\\end{equation*}\n\nwhere basic nuclear effects are taking into account through the sub-model\n\n\\begin{equation*}\n \\alpha_{T_n}(T) = - \\frac{B^2\\,D}{2\\,k_\\infty\\,\\overline{\\Sigma}_a^{(\\text{o})}\\,\\sqrt{T^\\text{(o)}\\,T}}.\n\\end{equation*}\n\nA heat balance in the static fuel dispersed into the moderator gives\n\n\\begin{equation*}\n\\frac{\\text{d}T_f}{\\text{d}t} = - \\frac{1}{\\rho_f\\,c_{pf}}\\biggl(q^{'''}(t) - \\frac{\\dot{Q}_\\text{f}}{V_f} \\biggr) \n\\end{equation*}\n\nwhere the heat rate sink in the fuel/moderator is \n\n\\begin{equation*}\n{\\dot{Q}_\\text{f}} = -UA\\bigl(T_f-T_c\\bigr), \n\\end{equation*}\n\nand the nuclear heating power is given by\n\n\\begin{equation*}\nq^{'''}(t) = G_f\\frac{\\sqrt{\\pi}}{2}\\,\\sigma_\\text{fo}\\,\\sqrt{\\frac{T^\\text{(o)}}{T}}\\,\\biggl(\\frac{\\epsilon\\,w_\\text{fs}\\,\\rho_\\text{fm}}{M_\\text{fn}}\\,i\\,N_A\\biggr)\\,n(t)\\,v_\\text{(o)} .\n\\end{equation*}\n\nA heat balance in the flowing coolant fluid produces\n\n\\begin{equation*}\n\\frac{\\text{d}T_c}{\\text{d}t} = -\\frac{1}{\\tau_c}\\biggl(T_c-T_{in}\\biggr)  \n                                - \\frac{1}{\\rho_c\\,c_{pc}}\\biggl( \\frac{\\dot{Q}_\\text{f}}{V_c} \\biggr) \n\\end{equation*}\n\nwhere the heat rate source is the negative of the heat rate sink in the fuel/moderator."
    },
    {
      "metadata": {},
      "cell_type": "markdown",
      "source": "## Steady State<a id=\"ss\"></a>\n\nNeutron density and delayed neutron precursor concentrations are related as follows:\n\n\\begin{align*}\nn_\\text{ss}  &= -\\frac{q_\\text{ss}\\,\\ell }{\\rho_\\text{ss} }\n\\\\\nc_{i_\\text{ss}}  &= \\frac{\\beta_i}{\\lambda_i\\,\\ell}\\, n_\\text{ss}   \\ \\ \\ \\ \\forall \\ \\ \\ \\ i=1,\\ldots,6 .\n\\end{align*}"
    },
    {
      "metadata": {
        "code_folding": [],
        "trusted": true
      },
      "cell_type": "code",
      "source": "'''Setup function for delayed neutron species concentrations at steady state'''\n\ndef setup_initial_conditions(params):\n    \n    # setup the steady state for the delayed-neutron precursors\n    \n    n_species = len(params['species_decay'])\n    \n    assert len(params['species_rel_yield']) == n_species\n    \n    import numpy as np\n    c_vec_0 = np.zeros(n_species,dtype=np.float64) # initialize conentration vector\n\n    species_decay = params['species_decay'] # retrieve list of decay constants\n    lambda_vec    = np.array(species_decay) # create a numpy vector\n    \n    beta = params['beta']\n    species_rel_yield = params['species_rel_yield']\n    beta_vec = np.array(species_rel_yield) * beta  # create the beta_i's vector\n\n    gen_time = params['gen_time'] # retrieve neutron generation time\n\n    n_ss = params['n_ss']\n    c_vec_ss = beta_vec/lambda_vec/gen_time * n_ss # compute the steady state precursors number density\n    \n    params['c_vec_ss'] = c_vec_ss\n    \n    # setup initial condition for variables\n    params['n_0']     = n_ss\n    params['c_vec_0'] = c_vec_ss\n    params['rho_0']   = params['reactivity']\n    \n    params['temp_f_0'] = 300\n    params['temp_c_0'] = params['temp_0']\n    params['pressure_0'] = 1.013 # bar\n    \n    return\n",
      "execution_count": 3,
      "outputs": []
    },
    {
      "metadata": {},
      "cell_type": "markdown",
      "source": "## Vector ODE System<a id=\"vodes\"></a>\n\nRefer to course notes OneNote [ChEn-3170-odes](https://studentuml-my.sharepoint.com/:o:/g/personal/valmor_dealmeida_uml_edu/EmY427F-dSBKkpfFOx4ikf8BVAlJXL5iep1g7V7hcTQxJQ?e=98c69b).\n\nA vector notation for the foregoing system of equations greatly improves the generality of the derived computer code. Towards this goal let us define\n\n\\begin{equation*}\n\\frac{d\\uvar}{dt} = \\fvar( \\uvar, t )\n\\end{equation*}\n\nwhere $\\uvar(t) = (u_1,u_2,u_3,u_4,u_5,u_6,u_7)$ is the state vector and we assign \n\n\\begin{align*}\n u_1(t)&=n(t),\\\\\n u_2(t)&=c_1(t),\\\\\n u_3(t)&=c_2(t),\\\\\n u_4(t)&=c_3(t),\\\\\n u_5(t)&=c_4(t),\\\\\n u_6(t)&=c_5(t),\\\\\n u_7(t)&=c_6(t),\\\\\n u_8(t)&=T_f(t),\\\\\n u_9(t)&=T_c(t).\n\\end{align*}\n\nAlso for $\\fvar(\\uvar,t) = \\bigl(f_1(\\uvar,t), f_2(\\uvar,t), f_3(\\uvar,t), f_4(\\uvar,t), f_5(\\uvar,t), f_6(\\uvar,t), f_7(\\uvar,t)\\bigr)$ we assign \n\n\\begin{align*}\n f_1 & = \\frac{\\rho(t)-\\beta}{\\ell}\\, u_1 + \\sum\\limits_{i=2}^{7} \\lambda_i\\,u_i + q(t), \\\\\n f_2 & = \\frac{\\beta_1}{\\ell}\\, u_1 - \\lambda_1\\,u_2, \\\\\n f_3 & = \\frac{\\beta_2}{\\ell}\\, u_1 - \\lambda_2\\,u_3, \\\\\n f_4 & = \\frac{\\beta_3}{\\ell}\\, u_1 - \\lambda_3\\,u_4, \\\\\n f_5 & = \\frac{\\beta_4}{\\ell}\\, u_1 - \\lambda_4\\,u_5, \\\\\n f_6 & = \\frac{\\beta_5}{\\ell}\\, u_1 - \\lambda_5\\,u_6, \\\\\n f_7 & = \\frac{\\beta_6}{\\ell}\\, u_1 - \\lambda_6\\,u_7,  \\\\\n f_8 & = - \\frac{1}{\\rho_f\\,c_{pf}}\\biggl(q^{'''}(t) - \\frac{\\dot{Q}_\\text{f}}{V_f} \\biggr), \\\\\n f_9 & = -\\frac{1}{\\tau_c}\\biggl(T_c-T_{in}\\biggr)  \n                                - \\frac{1}{\\rho_c\\,c_{pc}}\\biggl( \\frac{\\dot{Q}_\\text{f}}{V_c} \\biggr).\n\\end{align*}\n\nFinally, the initial conditions given are as follows:\n\n\\begin{align*}\n u_1(0)&=n_0,\\\\\n u_2(0)&=c_{1_0},\\\\\n u_3(0)&=c_{2_0},\\\\\n u_4(0)&=c_{3_0},\\\\\n u_5(0)&=c_{4_0},\\\\\n u_6(0)&=c_{5_0},\\\\\n u_7(0)&=c_{6_0},\\\\\n u_8(0)&=T_{f_0},\\\\\n u_9(0)&=T_{c_0}\n\\end{align*}\n\n\nwhere $n_0$ and $c_{i_0}$ are initial values for the unknowns given by the problem specification."
    },
    {
      "metadata": {},
      "cell_type": "markdown",
      "source": "## Function Library <a id=\"flib\"></a>\n\nFunctions used later in the notebook."
    },
    {
      "metadata": {},
      "cell_type": "markdown",
      "source": "The moderator temperature reactivity coefficient is the major contributor to the power coefficient in a boiling water reactor. It can be calculated by the following equation:\n\n\\begin{equation*}\n\\alpha_\\text{m} = \\frac{1}{K}\\frac{dK}{dT_\\text{m}}\\\n\\end{equation*}\n\nWhere $\\alpha_\\text{m}$ is the moderator temperature feedback coefficient, K is the neutron multiplecation factor for a finite medium, and $T_\\text{m}$ is the temperature of the moderator. K is calculated as follows:\n\n\\begin{equation*}\nK = \\frac{\\eta \\epsilon P F}{1 + (\\tau + L^2)B^2 + \\tau L^2 B^4}\n\\end{equation*}\n\nPlugging this in to the original moderator temperature reactivity coefficient equation leaves the following differential equation:\n\n\\begin{equation*}\n\\alpha_\\text{m} = \\frac{1 + (\\tau + L^2)B^2 + \\tau L^2 B^4}{\\eta \\epsilon P F}\\frac{d}{dT_\\text{m}}\\\n\\end{equation*}\n\nWith $\\tau$ being the fermi age or slowing down area, $L$ being the neutron diffusion length, $B$ being buckling, $\\eta$ being neutron yield, $\\epsilon$ being fast fission factor, $P$ being resonance escape probability and $F$ being thermal utilization. Only $\\tau$, $P$ and $F$ vary significantly with moderator temperature, with $L$ and $B$ being assumed constants over the range of temperatures.\n\n$\\tau$ is found as follows:\n\n\\begin{equation*}\n\\tau = \\frac{D_\\text{f}}{\\Sigma_\\text{1}}\n\\end{equation*}\n\nwith $D_\\text{f}$ being the diffusion coefficient and equal to:\n\n\\begin{equation*}\nD_\\text{f} = \\frac{1}{3 \\Sigma_\\text{s}(1 - \\mu_\\text{0})}\n\\end{equation*}\n\nWith $\\Sigma_\\text{s}$ being the macroscopic scattering cross section, $\\sigma_\\text{s} N_\\text{m}$, and $\\mu_\\text{0}$ being a constant dependent on the material used as the moderator.\n\n$\\Sigma_\\text{1}$ is the neutron removal cross section, or the probability per unit length that a neutron becomes thermalized. It is calculated as:\n\n\\begin{equation*}\n\\Sigma_\\text{1} = \\frac{\\xi \\Sigma_\\text{s}}{ln \\frac{E_\\text{0}}{E_\\text{th}}}\n\\end{equation*}\n\nWith $\\xi$ being the average logarithmic energy decrement for a collision involving a neutron and the moderator (in the case of a light water reactor, $\\xi$ = 1), $E_\\text{0}$ being the energy of a neutron produced during fission (assumed to be constant at around 2 MeV), and $E_\\text{th}$ being the energy of the medium that the neutron is diffusing through, which is dependent on the temperature of the moderator by the following equation:\n\n\\begin{equation*}\nE_\\text{th} = (T_\\text{m})\\frac{0.0862 \\ MeV}{K}\n\\end{equation*}\n\nWith $T_\\text{m}$ being in kelvin.\n\nAssuming that only $N_text{m}$ and $E_\\text{th}$ vary with the temperature of the moderator, then the differential of $\\tau$ with respect to $T_\\text{m}$ may be calculated as follows:\n\n\\begin{equation*}\n\\frac{d \\tau}{d T_\\text{m}} = \\frac{d}{d T_\\text{m}} \\frac{\\frac{1}{3 \\sigma_\\text{s} N_\\text{m}(1 - \\mu_\\text{0})}}{\\frac{\\xi \\sigma_\\text{s} N_\\text{m}}{ln \\frac{E_\\text{0}}{E_\\text{th}}}}\n\\end{equation*}\n\n\\begin{equation*}\n\\frac{d \\tau}{d T_\\text{m}} = \\frac{((0.0862\\frac{E_\\text{th}}{E_\\text{0}})(3  N_\\text{m} )-(ln \\frac{E_\\text{0}}{E_\\text{th}})(6 \\frac{d N_\\text{m}}{d T_\\text{m}})}{(3 N_\\text{m})^2 (1 - \\mu_\\text{0})}\n\\end{equation*}\n\nNext, the diffusion area in the moderator before absorption, $L^2$, may be evaluated. It can be calculated through the following relation:\n\n\\begin{equation*}\nL^2 = \\frac{1}{3 \\Sigma_\\text{s} \\Sigma_\\text{a} (1 - \\mu_\\text{0}}\n\\end{equation*}\n\nAnd therefore:\n\n\\begin{equation*}\nL = \\sqrt{\\frac{1}{3 \\Sigma_\\text{s} \\Sigma_\\text{a} (1 - \\mu_\\text{0}}}\n\\end{equation*}\n\nNote that L is referred to as the diffsion length whereas L^2 is the diffusion area.\n\nTaking the derivative of the diffusion length, L, with respect to time, and noting that only the number density of the moderator varies with time, and that the macroscopic cross sections $\\Sigma$ can be rewritten as $\\sigma N_\\text{m}$, we obtain the differential of diffusion length with respect to time:\n\n\\begin{equation*}\n\\frac{dL}{dT_\\text{m}} =  \\frac{1}{2 \\sqrt{\\frac{-2 \\frac{dN_\\text{m}}{dT_\\text{m}}}{3 \\sigma_\\text{s} \\sigma_\\text{a} N_\\text{m}^3 (1 - \\mu_\\text{0})}}}\n\\end{equation*}\n\nNext, the terms in the four factor formula, $\\eta \\ , \\ \\epsilon \\ , \\ P, \\ F$ must be developed and the derivatives of the ones which vary with moderator temperature must be calculated.\n\n$\\eta$ and $\\epsilon$ do not vary with moderator temperature, and are assumed to have constant values of 2.02 and 1.03.\n\n$P$, the resonance escape, is calculated via the following equation:\n\n\\begin{equation*}\nP = e^{- \\frac{N_\\text{f} V_\\text{F} I}{\\xi \\Sigma_\\text{s  M} V_\\text{M}}}\n\\end{equation*}\n\nIn the above equation, $N_\\text{f}$ is the number density of the fuel, $V_\\text{F}$ is the volume of the fuel, $I$ is the resonance escape integral, and $V_\\text{M}$ is the volume occupied by the moderator.\n\nWith only the macroscopic scattering cross section of the moderator varrying with temperature of the moderator (volume of coolant in the core is assumed constant, only the density changes), the derivative of the resonance escape probability with respect to the temperature of the moderator can be calculated as:\n\n\\begin{equation*}\n\\frac{dP}{dT_\\text{m}} =  \\frac{-N_\\text{f} V_\\text{F} I \\sigma_\\text{s} \\frac{dN_\\text{m}}{dT_\\text{m}}}{(\\xi \\Sigma_\\text{s  M} V_\\text{M})^2}e^{- \\frac{N_\\text{f} V_\\text{F} I}{\\xi \\Sigma_\\text{s  M} V_\\text{M}}}\n\\end{equation*}\n\nThe thermal utilization, $F$, is calculated as follows:\n\n\\begin{equation*}\nF = \\frac{\\Sigma_\\text{aF}}{\\Sigma_\\text{aF} + \\Sigma_\\text{aM}}\n\\end{equation*}\n\nWith $\\Sigma_\\text{aF}$ being the macroscopic absorption cross section of the fuel and $\\Sigma_\\text{aM}$ being the macroscopic absorption cross section of the moderator. As only the macroscopic absorption cross section of the moderator will vary with the temperature of the moderator, the derivative of thermal utilization with respect to the temperature of the moderator can be written as follows:\n\n\\begin{equation*}\n\\frac{dF}{dT_\\text{m}} = \\frac{-(\\Sigma_\\text{aF})(\\sigma_\\text{aM} \\frac{dN_\\text{m}}{dT_\\text{m}}}{(\\Sigma_\\text{aF} + \\Sigma_\\text{aM})^2}\n\\end{equation*}\n\nThe final preliminary differential equation is the one that must be developed for the differential of the moderator number density with respect to the temperature of the moderator. The change in number density of the moderator with respect to temperature will be proportional to the change in the mass density of the moderator with respect to temperature, by the molar mass of the moderator (in this case, 18 g/mol) and avogadro's number. The derivative of the mass density with respect to the temperature of the moderator of water is a function of a forty term polynomial used by the IAPWS 97 standards to approximate the behavior of water at different temperatures and pressures, that is:\n\n\\begin{equation*}\n\\frac{d \\rho}{dT_\\text{m}} = \\frac{d}{dT_\\text{m}}(IAPWS(T))\n\\end{equation*}\n\nThe derivative can be approximated by using scipy's inbuilt differentiation function. From there, the differential of mass density with respect to moderator temperature may be related to the differential of number density with respect to moderator temperature by the molar mass and avogadro's number:\n\n\\begin{equation*}\n\\frac{dN_\\text{m}}{dT_\\text{m}} = (18 g/mol)(N_\\text{A})(\\frac{d \\rho}{dT_\\text{m}})\n\\end{equation*}\n\nNow that all previous relationships have been developed, the moderator temperature feedback coefficient can be calculated. Recall the original equation for the moderator temperature feedback coefficient:\n\n\\begin{equation*}\n\\alpha_\\text{m} = \\frac{1 + (\\tau + L^2)B^2 + \\tau L^2 B^4}{\\eta \\epsilon P F}\\frac{d}{dT_\\text{m}}\\\n\\end{equation*}\n\nTaking the derivatives with respect to moderator temperature yields the following differential:\n\n\\begin{equation*}\n\\alpha_\\text{m} = \\frac{(\\eta \\epsilon P F)((\\frac{d \\tau}{dT_\\text{m}})(B^2 + L^2 B^4)+(\\frac{dL}{dT_\\text{m}})(2L B^2 + 2L \\tau B^4))-(1 + (\\tau + L^2)B^2 + \\tau L^2 B^4)(\\eta \\epsilon)(F \\frac{dP}{dT_\\text{m}} + P \\frac{dF}{dT_\\text{m}})} {(\\eta \\epsilon P F)^2}\n\\end{equation*}\n\n"
    },
    {
      "metadata": {
        "trusted": true
      },
      "cell_type": "code",
      "source": "def derivative_helper(temperature):\n    '''\n    function to help with the implementation of alpha_tn_function since the scipy derivative function only allows\n    one variable to be input to the function it works on.\n    '''\n    \n    import iapws.iapws97 as steam\n    pressure = steam._PSat_T(temperature)\n    \n    rho = 1/steam._Region4(pressure, 0)['v']\n    return(rho)",
      "execution_count": 4,
      "outputs": []
    },
    {
      "metadata": {
        "code_folding": [],
        "trusted": true,
        "slideshow": {
          "slide_type": "fragment"
        }
      },
      "cell_type": "code",
      "source": "'''Reactivity coefficient function'''\n\ndef alpha_tn_func(temp, params):\n    import math\n    import scipy.misc as diff\n    import scipy.constants as sc\n    import iapws.iapws97 as steam\n    print(temp)\n    pressure = steam._PSat_T(temp)\n    \n    d_rho = diff.derivative(derivative_helper, temp) # dRho/dTm\n    rho = 1 / steam._Region4(pressure, 1)['v'] # mass density, kg/m3\n    \n    Nm = ((rho * sc.kilo)/params['mod molar mass']) * sc.N_A * (sc.centi)**3 # number density of the moderator\n    d_Nm =  ((d_rho * sc.kilo)/params['mod molar mass']) * sc.N_A * (sc.centi)**3 #dNm/dTm\n    \n    mod_macro_a = params['mod micro a'] * Nm # macroscopic absorption cross section of the moderator\n    mod_macro_s = params['mod micro s'] * Nm # macroscopic scattering cross section of the moderator\n    \n    F = params['fuel macro a']/(params['fuel macro a'] + mod_macro_a) # thermal utilization, F\n    #dF/dTm\n    d_F = -1*(params['fuel macro a'] * params['mod micro a'] * d_Nm)/(params['fuel macro a'] + mod_macro_a)**2\n    \n    # Resonance escape integral, P\n    P = math.exp((-1 * params['n fuel'] * (params['fuel_volume']) * params['I'] * sc.zepto * sc.milli)/(mod_macro_s * params['coolant_volume']))\n    #dP/dTm\n    d_P = P * (-1 * params['n fuel'] * params['fuel_volume'] * sc.centi**3 * params['mod micro s'] * d_Nm)/(mod_macro_s * params['coolant_volume'] * sc.centi**3)**2\n    \n    Eth = 0.0862 * temp # convert temperature to energy in MeV\n    E1 = mod_macro_s/math.log(params['E0']/Eth) # neutron thermalization macroscopic cross section\n    Df = 1/(3 * mod_macro_s * (1 - params['mod mu0'])) # neutron diffusion coefficient\n    tau = Df/E1 # fermi age, tau\n    #dTau/dTm\n    d_tau = (((0.0862 * (Eth/params['E0'])) * 3 * Nm) - math.log(params['E0']/Eth) * (params['mod micro s'] * d_Nm))/((3 * Nm)**2 * (1 - params['mod mu0']))\n    \n    L = math.sqrt(1/(3 * mod_macro_s * mod_macro_a * (1 - params['mod mu0']))) # diffusion length L\n    # dL/dTm\n    d_L = 1/(2 * math.sqrt((-2 * d_Nm)/(3 * params['mod micro s'] * params['mod micro a'] * Nm**3 * (1 - params['mod mu0']))))\n    \n    # left term of the numerator of the moderator temperature feedback coefficient, alpha\n    left_1st_term = d_tau * (params['buckling']**2 + L**2 * params['buckling']**4) #holding L as constant\n    left_2nd_term = d_L * (2 * L * params['buckling']**2 + 2 * L * tau * params['buckling']**4) # holding tau as constant\n    left_term = (P * F) * (left_1st_term + left_2nd_term) # combining with P and F held as constant\n    \n    # right term of the numerator of the moderator temperature feedback coefficient, alpha\n    right_1st_term = (-1) * (1 + ((tau + L**2) * params['buckling']**2) + tau * L**2 * params['buckling']**4) # num as const\n    right_2nd_term = F * d_P # holding thermal utilization as constant\n    right_3rd_term = P * d_F # holding resonance escpae as constant\n    right_term = right_1st_term * (right_2nd_term + right_3rd_term) # combining all three terms together\n    \n    # numerator and denominator\n    numerator = left_term + right_term\n    denominator = params['eta'] * params['epsilon'] * (F * P)**2\n    alpha_tn = numerator/denominator\n    \n    alpha_tn = alpha_tn * (sc.milli * sc.zepto * sc.milli * sc.milli) # adjust for barns\n    return alpha_tn\n",
      "execution_count": 5,
      "outputs": []
    },
    {
      "metadata": {
        "code_folding": [],
        "trusted": true
      },
      "cell_type": "code",
      "source": "'''Reactivity function'''\n\ndef rho_func( t, n_dens, temp, params ):\n    '''\n    Reactivity function.  \n    \n    Parameters\n    ----------\n    t: float, required\n        Time.\n    temp_f: float, required\n        Temperature at time t.\n    params: dict, required\n        Dictionary of quantities. It must have a `'rho_0'` key/value pair.\n    \n    Returns\n    -------\n    rho_t: float\n        Value of reactivity.\n\n    Examples\n    --------\n    '''\n    \n    rho_0  = params['rho_0']\n    temp_ref = params['temp_0']\n    n_dens_ss_operation = params['n_dens_ss_operation']\n    alpha_n = params['alpha_n']\n    print(n_dens)\n    \n    alpha_tn = alpha_tn_func(temp, params)\n\n    if t > params['malfunction start'] and t < params['malfunction end']: # reg rod held in position; only mod temp reactivity varies with time during malfunction\n        alpha_n = params['alpha_n_malfunction']\n        rho_t = rho_0 + alpha_n + alpha_tn * (temp - temp_ref)\n        \n    elif t > params['shutdown time']: # effectively the inverse of startup; gradually reduce reactivity and neutron density.\n        rho_0 = -1 * rho_0\n        alpha_n = alpha_tn * (temp - temp_ref)\n        rho_t = rho_0\n        \n    else: #controlled startup w/ blade; gradually increase neutron density to SS value.\n        rho_current = (1 - n_dens) * rho_0\n        alpha_n = rho_current - rho_0 - alpha_tn * (temp - temp_ref)\n        rho_t = rho_current\n        params['alpha_n_malfunction'] = alpha_n\n    #print(rho_t)\n    #print(n_dens)\n        \n    return (rho_t, alpha_n, alpha_tn * (temp - temp_ref))",
      "execution_count": 6,
      "outputs": []
    },
    {
      "metadata": {
        "code_folding": [],
        "trusted": true
      },
      "cell_type": "code",
      "source": "'''Source function'''\n\ndef q_source( t, params ):\n    '''\n    Neutron source delta function.  \n    \n    Parameters\n    ----------\n    t: float, required\n        Time.\n    params: dict, required\n        Dictionary of quantities. It must have a `'q_0'` key/value pair.\n    \n    Returns\n    -------\n    q: float\n        Value of source.\n\n    Examples\n    --------\n    '''\n    \n    q = 0\n    q_0 = params['q_0']\n    \n    if t <= 1e-5: # small time value\n        q = q_0\n    else:\n        q = 0.0\n        \n    return q\n\n#print(\"done\")",
      "execution_count": 7,
      "outputs": []
    },
    {
      "metadata": {},
      "cell_type": "markdown",
      "source": "The effective fission microscopic cross section for thermal neutrons will be taken as:\n\n\\begin{equation*}\n\\overline{\\sigma}_\\text{f}(T) = \\frac{\\sqrt{\\pi}}{2}\\,\\sigma_\\text{fo}\\,\\sqrt{\\frac{T^\\text{(o)}}{T}}\n\\end{equation*}"
    },
    {
      "metadata": {
        "code_folding": [],
        "trusted": true
      },
      "cell_type": "code",
      "source": "'''Effective microscopic fission cross section'''\n\ndef sigma_fis_func( temp, params ):\n    '''\n    Place holder for implementation\n    '''\n    \n    sigma_f = params['sigma_f_o'] * math.sqrt(298/temp) * math.sqrt(math.pi) * 0.5\n    \n    return sigma_f\n\n",
      "execution_count": 8,
      "outputs": []
    },
    {
      "metadata": {},
      "cell_type": "markdown",
      "source": "The nuclear heating power is given by\n\n\\begin{equation*}\nq^{'''}(t) = G_f\\,\\overline{\\sigma}_\\text{f}(T)\\,N_\\text{fn} \\,\\varphi(t) .\n\\end{equation*}"
    },
    {
      "metadata": {
        "code_folding": [],
        "trusted": true
      },
      "cell_type": "code",
      "source": "'''Nuclear power density function'''\n\ndef nuclear_pwr_dens_func( time, temp, n_dens, params ):\n    '''\n    Place holder for implementation\n    '''\n    rxn_heat = params['fis_energy'] # get fission reaction energy J per reaction\n    \n    sigma_f = sigma_fis_func( temp, params ) # m2\n    \n    fis_nuclide_num_dens = params['fis_nuclide_num_dens_fake'] #  #/m3\n    \n    Sigma_fis = sigma_f * fis_nuclide_num_dens # macroscopic cross section\n    \n    v_o = params['thermal_neutron_velo'] # m/s\n    \n    neutron_flux = n_dens * 9.08E15 * v_o\n    \n     #reaction rate density\n    rxn_rate_dens = Sigma_fis * neutron_flux\n    \n    # nuclear power source\n    q3prime = - rxn_heat * rxn_rate_dens # exothermic reaction W/m3\n    #q3prime = - n_dens * 3323E6\n    #print(\"q3prime\")\n    #print(q3prime)\n    \n    return q3prime",
      "execution_count": 9,
      "outputs": []
    },
    {
      "metadata": {},
      "cell_type": "markdown",
      "source": "The cooling heat rate is:\n\n\\begin{equation*}\n{\\dot{Q}_\\text{f}} = -UA\\bigl(T_f-T_c\\bigr). \n\\end{equation*}"
    },
    {
      "metadata": {
        "code_folding": [],
        "trusted": true
      },
      "cell_type": "code",
      "source": "'''Cooling heat rate'''\n\ndef heat_sink_rate( time, temp_f, temp_c, params):\n    \n    ht_coeff = params['ht_coeff']\n    \n    q_f = - ht_coeff * (temp_f - temp_c)\n    #print(q_f)\n    return q_f",
      "execution_count": 10,
      "outputs": []
    },
    {
      "metadata": {},
      "cell_type": "markdown",
      "source": "Pressure calculations follow the ideal gas law:\n\n\\begin{equation*}\nP = 0.1\\,\\frac{nRT}{V}\\\n\\end{equation*}\n\nWith n = 101111 moles, R = 8.314 * 10$^{-5}$ m$^3$ bar K$^{−1}$ mol$^{−1}$ , T as the temperature in kelvin, V as the volume of 150 m$^3$ and 0.1 being the conversion factor from bar to mPa. The calculation used returns pressure in units of mPa."
    },
    {
      "metadata": {
        "trusted": true,
        "code_folding": []
      },
      "cell_type": "code",
      "source": "def pressure_calc(temperature):\n    # calculates the pressure exerted by steam in the reactor at any temperature T. Returns units of mPa\n    import scipy.constants as const\n    n = 101111 # moles\n    V = 150 # m^3\n    \n    pressure = n * const.R * temperature / V # PV = NRT\n    \n    #print(pressure)\n    \n    return pressure/const.mega\n",
      "execution_count": 11,
      "outputs": []
    },
    {
      "metadata": {
        "trusted": true,
        "code_folding": []
      },
      "cell_type": "code",
      "source": "def f_vec(time, u_vec, params):\n    assert np.all(u_vec >= 0.0)\n    \n    n_dens = u_vec[0] # get neutron dens\n\n    c_vec = u_vec[1:-2] # get delayed neutron emitter concentration\n    \n    temp_f = u_vec[-2] # get temperature of fuel\n    \n    temp_c = u_vec[-1] # get temperature of coolant\n    \n    # initialize f_vec to zero\n    species_decay = params['species_decay']\n    lambda_vec = np.array(species_decay)\n    n_species  = len(lambda_vec)\n    \n    f_tmp = np.zeros(1+n_species+2,dtype=np.float64) # vector for f_vec return\n    \n    #----------------\n    # neutron balance\n    #----------------\n    rho_t    = rho_func(time, n_dens, temp_c, params)[0]\n    \n    beta     = params['beta']\n    gen_time = params['gen_time']\n       \n    species_rel_yield = params['species_rel_yield']\n    beta_vec = np.array(species_rel_yield) * beta\n    \n    assert len(lambda_vec)==len(beta_vec)\n    \n    q_source_t = q_source(time, params)\n    \n    f_tmp[0] = (rho_t - beta)/gen_time * n_dens + lambda_vec @ c_vec + q_source_t\n    \n    #-----------------------------------\n    # n species balances (implicit loop)\n    #-----------------------------------\n    f_tmp[1:-2] = beta_vec/gen_time * n_dens - lambda_vec * c_vec\n    \n    #--------------------\n    # fuel energy balance\n    #--------------------\n    rho_f    = params['fuel_dens']\n    cp_f     = params['cp_fuel']\n    vol_fuel = params['fuel_volume']\n    \n    pwr_dens = nuclear_pwr_dens_func( time, (temp_f+temp_c)/2, n_dens, params )\n    \n    heat_sink = heat_sink_rate( time, temp_f, temp_c, params )\n    #assert heat_sink <= 0.0,'heat_sink = %r'%heat_sink\n    \n    if (heat_sink/vol_fuel > pwr_dens):\n        pwr_dens = heat_sink/vol_fuel\n        \n    f_tmp[-2] =  -1/rho_f/cp_f * ( pwr_dens - heat_sink/vol_fuel )\n    \n    #-----------------------\n    # coolant energy balance\n    #-----------------------\n    rho_c    = params['coolant_dens']\n    cp_c     = params['cp_coolant']\n    vol_cool = params['coolant_volume']\n    \n    # subcooled liquid\n    turbine_out = turbine(time, temp_c, params)[0] #run the turbine, take the runoff and pass to condenser\n    condenser_out = condenser(time, turbine_out, temp_c, params)[0] #run the condenser, pass runoff to the pump\n    pump_out = pump(time, condenser_out, temp_c, params) #run the pump, runoff returns to reactor as temp_in\n    #print(\"time is \", time, \"and inlet temperature is\", temp_in, \"\\n\")\n    \n    temp_in = pump_out\n    \n    tau = params['tau_fake']\n    \n    heat_source = - heat_sink\n    \n    f_tmp[-1] = - 1/tau * (temp_c - temp_in) - 1./rho_c/cp_c/vol_cool * heat_source\n    \n    # pressure calculations\n\n    #print(time)\n    #print(u_vec)\n    return f_tmp",
      "execution_count": 12,
      "outputs": []
    },
    {
      "metadata": {
        "code_folding": [],
        "trusted": true
      },
      "cell_type": "code",
      "source": "'''Create the point-reactor run function'''\n\ndef run_point_reactor( f_vec, params ):\n    import numpy as np\n    from scipy.integrate import odeint # Load ODE solver package\n\n    import numpy as np\n    time_final = params['time_final']\n    n_time_stamps = params['n_time_stamps']\n    time_stamps = np.linspace(0.0, time_final, num=n_time_stamps) # create the time stamps for solution values\n    params['time_stamps'] = time_stamps\n    \n    max_n_steps_per_time_step = 1000 # max number of nonlinear algebraic solver iterations per time step\n\n    n_0     = params['n_0']\n    c_vec_0 = params['c_vec_0']\n    \n    temp_f_0 = params['temp_f_0']\n    temp_c_0 = params['temp_c_0']\n    pressure_0 = params['pressure_0']\n       \n    # m-equation point reactor model\n    n_species = len(c_vec_0)\n    u_vec_0 = np.zeros(1+n_species+2,dtype=np.float64)\n    \n    u_vec_0[0]    = n_0\n    u_vec_0[1:-2] = c_vec_0\n    u_vec_0[-2]   = temp_f_0\n    u_vec_0[-1]   = temp_c_0\n    #u_vec_0[-1]   = pressure_0\n            \n    (u_vec_history, info_dict) = odeint( f_vec, u_vec_0, time_stamps,\n                                         args=( params, ),\n                                         rtol=1e-4, atol=1e-8, mxstep=max_n_steps_per_time_step,\n                                         full_output=1, tfirst=True )\n    #print(n_dens)\n    #print(u_vec)\n    #print(time_stamps)\n    #print\n\n    assert info_dict['message']=='Integration successful.',\\\n                     'Fatal: scipy.integrate.odeint failed %r'%info_dict['message']\n    \n    return u_vec_history",
      "execution_count": 13,
      "outputs": []
    },
    {
      "metadata": {
        "code_folding": [],
        "trusted": true
      },
      "cell_type": "code",
      "source": "'''Plotting function definition'''\n\ndef plot_results( u_vec_history, normalize=True, semi_log=False, markers=False, precursors=True ):\n    \n    time_stamps = params['time_stamps']/3600\n    tau = params['tau_fake']\n        \n    import matplotlib.pyplot as plt\n    \n    fig, ax1 = plt.subplots(1, figsize=(20, 8))\n\n    if precursors == True:\n        \n        ax2 = ax1.twinx() # duplicate x axes to plot n and c_i's in different y axes\n    \n        color_ids = np.linspace(0,1,u_vec_history[:,1:-2].shape[1])\n    \n        for (j,color_id) in zip( range(u_vec_history[:,1:-2].shape[1]), color_ids ):\n            color=plt.cm.nipy_spectral(color_id)\n        \n            if normalize == True:\n                ax2.plot( time_stamps,u_vec_history[:,j+1]/params['c_vec_0'][j],'-.',color=color,label=r'$c_%i$'%(j+1) )\n                ax2.set_ylabel(r'$c_i/c_{i_0}$',fontsize=16,color='black')\n            else:\n                ax2.plot( time_stamps,u_vec_history[:,j+1],'-.',color=color,label=r'$c_%i$'%(j+1) )\n                ax2.set_ylabel(r'$c_i$',fontsize=16,color='black')\n        \n        ax2.tick_params(axis='y', labelcolor='black', labelsize=14)\n        ax2.legend(loc='lower right',fontsize=12)\n        if semi_log == True:\n            ax2.set_yscale('log') # uncomment to plot y in log scale\n        #ax2.grid(True)\n\n    if markers == True:\n        if normalize == True:\n            ax1.plot( time_stamps,u_vec_history[:,0]/params['n_0'],'-',marker='+',color='red',label=r'$n/n_0$' )\n            ax1.set_ylabel(r'$n$',fontsize=16,color='black')\n        else:\n            ax1.plot( time_stamps,u_vec_history[:,0],'-',marker='+',color='red',label=r'$n$' )\n            ax1.set_ylabel(r'$n$',fontsize=16,color='black')\n    else:\n        if normalize == True:\n            ax1.plot(time_stamps,u_vec_history[:,0]/params['n_0'],'-',color='red',label=r'$n/n_0$' )\n            ax1.set_ylabel(r'$n/n_0$',fontsize=16,color='black')\n        else:\n            ax1.plot(time_stamps,u_vec_history[:,0],'-',color='red',label=r'$n$' )\n            ax1.set_ylabel(r'$n$',fontsize=16,color='black')\n\n    ax1.set_xlabel(r'Time [h]',fontsize=16)\n    \n    ax1.tick_params(axis='y', labelcolor='black', labelsize=14)\n    ax1.tick_params(axis='x', labelsize=14)\n    ax1.legend(loc='best',fontsize=12)\n    if semi_log == True:\n        ax1.set_yscale('log') # uncomment to plot y in log scale\n    ax1.grid(True)\n\n    plt.title(r'Point-Reactor Model: $\\rho/\\beta=$'\n              +str(params['reactivity']/params['beta'])\n              +r'; $q_0=$'+str(round(params['q_0'],2)),\n              fontsize=18)\n    fig.tight_layout()  # otherwise the right y-label is slightly clipped\n    plt.show() \n\n    print('')",
      "execution_count": 14,
      "outputs": []
    },
    {
      "metadata": {
        "code_folding": [],
        "trusted": true
      },
      "cell_type": "code",
      "source": "'''Utility function to peak at results table'''\n\ndef peek(time,data, head=500, tail=100):  \n\n    import pandas as pd\n    \n    pd.options.display.float_format = '{:.2e}'.format\n    \n    layout = {'time':time[:head]}\n    \n    layout['n'] = data[:head,0]\n    \n    for j in range(1,data[:,1:-2].shape[1]+1):\n        layout['c_%i'%j] = data[:head,j]\n        \n    layout['temp_f'] = data[:head,-2]\n    layout['temp_c'] = data[:head,-1]\n        \n    results = pd.DataFrame(layout)\n    print(round(results,2))\n    print('')\n    \n    #layout = {'time':time[-tail:]}\n    \n    #layout['n'] = data[-tail:,j]\n    \n    #for j in range(1,data[:,1:-2].shape[1]+1):\n       # layout['c_%i'%j] = data[-tail:,j]\n    \n   # layout['temp_f'] = data[-tail:,-2]\n   # layout['temp_c'] = data[-tail:,-1]\n               \n   # results = pd.DataFrame(layout)\n   # print(round(results,2))\n   # print('')",
      "execution_count": 15,
      "outputs": []
    },
    {
      "metadata": {},
      "cell_type": "markdown",
      "source": "<a id=\"bop\"></a>\nA boiling water reactor only has a single primary heating loop, as opposed to most other types of reactors which have a primary loop that cycles liquid through the reactor core and passes heat to a secondary loop to power a turbine. A boiling water reactor only has a single loop: water is boiled in the core, and then the saturated steam it produces is directly passed through a turbine, and then condensed and pumped back into the core as a subcooled liquid. The `coolant_inlet_temp_func` takes into account the state of the steam leaving the top of the reactor, and the specifics of the turbine and condensation processes (and in the future the pumping process as well) to determine the temperature of the subcooled liquid being returned to the bottom of the reactor.\n\n# The Turbine\nTemperature and pressure of the coolant leaving the reactor is given by temp_c and pressure; these two variables are used with the IAPWS package (under the IAPWS-97 standards) to determine the specific enthalpy of the steam leaving the reactor. The turbine expands any steam passing through it to 0.75 kPa. This process is NOT assumed to be isentropic, and instead operates at 80% of maximum isentropic efficiency.\n\nWe start with a basic heat balance on the turbine:\n\n\\begin{equation*}\nQ + W_\\text{s} = \\Delta H + \\Delta K + \\Delta Z\n\\end{equation*}\n\nWith Q being the heat extracted from the working fluid, W being the work done by the working fluid (and hence being positive if the turbine is producing useful work), and with $\\Delta$H, $\\Delta$K and $\\Delta$Z representing the changes in enthalpy, kinetic energy and gravitational potential energy of the fluid, respectively. It is assumed that the turbine operates adiabatically and with no change in the kinetic or gravitational potential energy of the fluid as it moves through the turbine. Hence, the equation reduces to:\n\n\\begin{equation*}\nW_\\text{s} = \\Delta H\n\\end{equation*}\n\nIf the turbine is producing useful work, then W is positive, and hence $\\Delta$H must be positive as well. The enthalpy of the fluid will decrease as it passes through the turbine and is expanded to a lower temperature and pressure, hence the equation can be rewritten as:\n\n\\begin{equation*}\nW_\\text{s} = \\Delta H = H_\\text{inlet} - H_\\text{outlet}\n\\end{equation*}\n\nThe inlet steam is at the same state of the steam leaving the top of the reactor, I.E. it has a pressure $P_\\text{reactor}$ and the same temperature of the coolant, $T_\\text{coolant}$. The turbine expands whatever is taken into the inlet to a final pressure of 0.75 kPa and a temperature $T_\\text{runoff}$ which varies based on the properties of the steam that was fed to the turbine. Hence, the work balance equation can be re-written as:\n\n\\begin{equation*}\nW_\\text{s} = H_\\text{inlet}(T_\\text{coolant}, P_\\text{reactor}) - H_\\text{outlet}(T_\\text{runoff}, 0.75 kPa)\n\\end{equation*}\n\nIdeally, final temperature, $T_\\text{runoff}$, would be the bubble point temperature of the runoff at 0.75 kPa (~ 3 C$^{\\circ}$). However, the turbine does not operate isentropically, and instead is assumed to operate at 80% of its maximum isentropic efficiency. \n\nWe denote the maximum possible isentropic work of the turbine, $W_\\text{isentropic}$, as the amount of work that would be done if the steam entering the turbine was expanded to a pressure of 0.75 kPa and a temperature of 3 C$^{\\circ}$.\n\n\\begin{equation*}\nW_\\text{isentropic} = H_\\text{steam}(T_\\text{coolant}, P_\\text{reactor}) - H_\\text{water}(0.75 kPa, 3 ^oC)\n\\end{equation*}\n\nThe efficiency of the turbine is then given in terms of % of maximum isentropic efficiency. For example, with an isentropic efficiency of 80%:\n\n\\begin{equation*}\nW_\\text{real} = 0.8 \\, W_\\text{isentropic}\n\\end{equation*}\n\nAnd, by an energy balance, we can calculate the ending enthalpy of the liquid runoff at 0.75 kPa, $H_\\text{real liquid}$:\n\n\\begin{equation*}\nW_\\text{real} = H_\\text{steam}(T_\\text{coolant}, P_\\text{reactor}) - H_\\text{real liquid}(T_\\text{runoff}, 0.75 kPa)\n\\end{equation*}\n\nWith the ending enthalpy of the liquid runoff known, and its pressure fixed by the output pressure of the turbine (0.75 kPa), the runoff temperature of the liquid from the turbine can be calculated using the IAPWS97 backwards solver functions.\n\n\n\n"
    },
    {
      "metadata": {
        "trusted": true,
        "code_folding": []
      },
      "cell_type": "code",
      "source": "def turbine (time, temp_in, params):\n    #expand the entering steam from whatever temperature and pressure it enters at to 0.035 kpa, with 80% efficiency.\n    #pressure of steam when it enters the turbine equals the current reactor operating pressure\n    pressure = pressure_calc(temp_in) \n        \n    #print(\"Pressure is \" + str(pressure) + \" and temperature is \" + str(temp_in))\n        \n        #enthalpy of the steam coming out of the reactor; for now, assume 100% quality or superheated steam\n    h_steam = steam_table._Region1(temp_in, pressure)[\"h\"] \n    h_liquid = steam_table._Region4(0.00075, 0)[\"h\"]#enthalpy of the ideal liquid runoff\n        \n        #print(pressure, temp_in)\n        \n    w_isentropic = h_steam - h_liquid # isentropic work\n    w_real = params['turbine efficiency'] * w_isentropic # actual work\n    h_real = h_steam - w_real # h_end = h_in - w\n    w_real = w_real * params['steam flowrate'] #multiply work done/kg steam by amount of steam to get total work\n            \n    t_runoff = steam_table._Backward1_T_Ph(0.00075, h_real) # this goes to the condenser\n    return (t_runoff, w_real)\n    ",
      "execution_count": 16,
      "outputs": []
    },
    {
      "metadata": {},
      "cell_type": "markdown",
      "source": "# The Condenser\nThe condenser takes the runoff from the turbine and condenses it to a subcooled liquid at the current operating pressure of the reactor. The work required to do this is calculated as follows:\n\n\\begin{equation*}\nW_\\text{condenser} = \\frac{H_\\text{turbine runoff}(T_\\text{runoff}, 0.0035 kPa) - H_\\text{subcooled liquid out}(T_\\text{subcooled}, P_\\text{reactor})}{efficiency}) \n\\end{equation*}\n\nWhere the enthalpy of the subcooled liquid out is given by:\n\n\\begin{equation*}\nH_\\text{subcooled liquid out}(T_\\text{subcooled}, P_\\text{reactor}) = H_\\text{saturated liquid}(T_\\text{saturated}, P_\\text{reactor}) * (subcooling)\n\\end{equation*}\n\nWith subcooling being the % by which the enthalpy of the subcooled liquid is lowered from the enthalpy it would have if it were at its boiling point. This % is constant, and is based on the % of subcooling that exists at steady state with a reactor pressure of 7 mPa and a condenser runoff temperature of 220 degrees celcius:\n\n\\begin{equation*}\nsubcooling = (1 -\\frac{H(T_{saturated}, 7 mPa, x=0) - H(220 C, 7 mPa}{H(T_{saturated}, 7 mPa, x=0})\n\\end{equation*}"
    },
    {
      "metadata": {
        "trusted": true,
        "code_folding": []
      },
      "cell_type": "code",
      "source": "def condenser(time, temp_in, temp_c, params):\n    #compress the liquid to 101.3 kpa and store the work done by the condenser\n        \n    pressure = pressure_calc(temp_c) # current reactor operating pressure that the runoff must be compressed to\n    \n    subcooling = params['% subcooling']\n    \n    #condenser functionality is partially compromised, leading to a lower degree of exit subcooling\n    if time > params['malfunction start'] and time < params['malfunction end']:\n        subcooling = params['malfunction subcooling']\n    \n    # condenser fails completely, and as a result coolant flow to and from the core is compromised\n    #elif time > params['breakage start'] and time < params['breakage end']:\n        #params['steam flowrate'] = params['breakage steam flowrate']\n        #params['coolant_volume'] = params['breakage coolant_volume']\n        #params['breakage reached'] = True\n        \n    #if time > params['shutdown time'] and params['shutdown temp reached'] == False:\n        #params['% subcooling'] = 0.99 * params['% subcooling']\n    \n    # during shutdown, the degree of subcooling is gradually increased\n        \n   # if params['breakage reached'] == True and time > params['breakage end']:\n    #    params['steam flowrate'] = params['normal steam flowrate']\n    #    params['coolant_volume'] = params['normal coolant_volume']\n      #  params['breakage reached'] = False\n    \n    h_saturated = steam_table._Region4(pressure, 0)[\"h\"] # enthalpy of water at 1 atm\n    h_subcooled = subcooling * h_saturated #enthalpy of the desired liquid runoff from the condenser\n        \n    h_turbine = steam_table._Region1(temp_in, 0.00075)[\"h\"] #enthalpy of the liquid leaving the turbine at 0.035 kPa\n        \n    work_done = h_subcooled - h_turbine #work done by the condenser per kg steam effluent\n    work_done = work_done * params['steam flowrate'] / params['condenser efficiency']\n        \n    t_runoff = steam_table._Backward1_T_Ph(pressure, h_subcooled) #runoff temperature\n    \n    #ensure that shutdown temp hasn't been breached\n    #if t_runoff <= 310:\n        #t_runoff = 310\n        #params['% subcooling'] = params['% subcooling']/0.99\n        #params['shutdown temp reached'] = True\n    return (t_runoff, work_done)",
      "execution_count": 17,
      "outputs": []
    },
    {
      "metadata": {},
      "cell_type": "markdown",
      "source": "# The Pump\nThe pump takes the subcooled liquid runoff from the condenser and pumps it back into the bottom of the reactor at the current operating pressure of the reactor. The head required is affected by the viscocity of the liquid it pumps into the reactor, which changes slightly with temperature and pressure."
    },
    {
      "metadata": {
        "trusted": true,
        "code_folding": []
      },
      "cell_type": "code",
      "source": "def pump(time, temp_effluent, temp_c, params):\n    #placeholder for a more accurate pumping function that includes a slight temperature increase and work done\n    return temp_effluent",
      "execution_count": 18,
      "outputs": []
    },
    {
      "metadata": {
        "trusted": true,
        "code_folding": []
      },
      "cell_type": "code",
      "source": "def quantities1(u_vec_history, params, time_stamps):\n    # used to graph q''' and heat removed\n    import pandas as pd\n    import scipy.constants as sc\n    data = dict()\n    \n    q3_list = list() #temp storage for q3 prime\n    removed_heat_list = list() #manipulated q3 prime\n    \n    for (time, n_dens, temp_f, temp_c) in zip(time_stamps, u_vec_history[:,0], u_vec_history[:,-2], u_vec_history[:,-1]):\n\n        q3prime = abs(nuclear_pwr_dens_func(time, temp_f, n_dens, params)) # calculate q3prime at this point in time; watts/m3\n        q3prime = q3prime * params['fuel_volume'] #convert q''' to \n        q3_list.append(q3prime/sc.giga/175) # convert watts/m3 to gWatts/m3\n        \n        heat_removed = -1 * heat_sink_rate(\"false\", temp_f, temp_c, params) # calculate the heat removed at this point in time\n        removed_heat_list.append(heat_removed/sc.giga/175) # convert gwatts/m3 to kWatts/m3\n        \n    #data['time [s]'] = time_stamps\n    data[\"q''' [gW/m3]\"] =  q3_list \n    data[\"heat removed [gW/m3]\"] = removed_heat_list\n    \n    quantities = pd.DataFrame( data )\n    return(quantities)",
      "execution_count": 19,
      "outputs": []
    },
    {
      "metadata": {
        "trusted": true,
        "code_folding": []
      },
      "cell_type": "code",
      "source": "def quantities2(u_vec_history, params, time_stamps):\n    # used to graph turbine, condenser and pump work\n    data = dict()\n    import pandas as pd\n    import scipy.constants as sc\n    \n    twork = list() #turbine work\n    cwork = list() #condenser work\n    nwork = list() #net total usable work the reactor and BOP produce\n    #pwork = list() # pump work\n    \n    for (time, n_dens, temp_f, temp_c) in zip(time_stamps, u_vec_history[:,0], u_vec_history[:,-2], u_vec_history[:,-1]):\n        \n        turb = turbine(time, temp_c, params)\n        turbwork = turb[1]/sc.mega\n        twork.append(turbwork)\n        \n        cond = condenser(time, turb[0], temp_c, params)\n        condwork = cond[1]/sc.mega\n        cwork.append(condwork)\n        \n        net_work = turbwork - abs(condwork) # Wnet = Ws - |Wcond|\n        nwork.append(net_work)\n        \n        #pwork.append(pump_work[time])\n        \n    data[\"turbine work [gW]\"] = twork\n    data[\"condenser work [gW]\"] = cwork\n    data[\"net work [gW]\"] = nwork\n    \n    quantities = pd.DataFrame( data )\n    return(quantities)",
      "execution_count": 20,
      "outputs": []
    },
    {
      "metadata": {
        "trusted": true
      },
      "cell_type": "code",
      "source": "def quantities3(u_vec_history, params, time_stamps):\n    #net reactivity and reactivity coefficient printing\n    rho_data = dict() #store reactivity datas here\n    reg_rod_data = dict() # store reg rod movements here\n    import pandas as pd\n    import scipy.constants as sc\n    \n    net_rho = list() # net reactivity, $\n    reg_rod_rho = list() # reactivity from the regulating rods, $\n    mod_temp_rho = list() # moderator temperature reactivity, $\n    \n    for(time, n_dens, temp_c) in zip(time_stamps, u_vec_history[:,0], u_vec_history[:,-1]):\n        reactivities = rho_func(time, n_dens, temp_c, params)\n        net_rho.append(reactivities[0])\n        reg_rod_position = reactivities[1] / params['reg_rod_worth'] # cm\n        reg_rod_rho.append(reg_rod_position)\n        mod_temp_rho.append(reactivities[2])\n    \n    rho_data['net reactivity [$]'] = net_rho\n    reg_rod_data['regulating rod position [cm], worth = 1.5e-3 pcm'] = reg_rod_rho\n    rho_data['moderator temperature reactivity[$]'] = mod_temp_rho\n    \n    rhos = pd.DataFrame(rho_data)\n    regs = pd.DataFrame(reg_rod_data)\n    return(rhos, regs)",
      "execution_count": 21,
      "outputs": []
    },
    {
      "metadata": {
        "trusted": true,
        "code_folding": []
      },
      "cell_type": "code",
      "source": "def tmp():\n    time_stamps = params['time_stamps']\n    tau = params['tau_fake']\n    import matplotlib.pyplot as plt    \n    fig, ax1 = plt.subplots(1, figsize=(22, 8))\n    ax1.plot(time_stamps/tau,u_vec_history[:,-2],'b-',label='$T_f=$ ' )\n\n    ax1.set_xlabel(r'Time [s] ', fontsize=16)\n    ax1.set_ylabel(r'$T_f$ [K]',fontsize=16,color='blue')\n    ax1.tick_params(axis='y', labelcolor='blue', labelsize=14)\n    ax1.tick_params(axis='x', labelsize=14)\n    ax1.legend(loc='best',fontsize=12)\n    ax1.grid(True)\n\n    ax2 = ax1.twinx() \n    ax2.plot(time_stamps/tau,u_vec_history[:,-1],'g-.',label='$T_c=$ ' )\n    ax2.set_ylabel(r'$T_c$ [K]',fontsize=16,color='green')\n    ax2.tick_params(axis='y', labelcolor='green', labelsize=14)\n    ax2.legend(loc='best',fontsize=12)\n    #ax2.grid(True)\n\n    plt.title('CSTR w/ Cooling Coil (exothermic rxn)',fontsize=20)\n    fig.tight_layout()  # otherwise the right y-label is slightly clipped\n    plt.show()\n    print('')",
      "execution_count": 22,
      "outputs": []
    },
    {
      "metadata": {},
      "cell_type": "markdown",
      "source": "# Reactor Startup From Neutronless Steady State\nThe reactor begins at t = 0 with a neutron concentration of 0. After an external neutron source $q_\\text{0}$ is inserted, neutron and delayed emitter concentrations rise until steady state is reached."
    },
    {
      "metadata": {
        "trusted": true
      },
      "cell_type": "code",
      "source": "'''Parameters'''\nimport math\nimport scipy.constants as sc\nimport iapws.iapws97 as steam_table\nparams = dict()\n\n#Data pertaining to one-group energy neutron balance\nparams['gen_time']     = 1.0e-4  # s\nparams['beta']         = 6.5e-3  # \nparams['k_infty']      = 1.34477\nparams['buckling'] = (math.pi/2.375)**2.0 + (2.405/4.1)**2.0 # geometric buckling; B = (pi/R)^2 + (2.405/H)^2\nparams['q_0'] = 0\nparams['fuel macro a'] = 1.34226126162 #fuel macroscopic absorption cross section, cm^-1\nparams['mod micro a'] = 0.332 * sc.zepto * sc.milli #moderator microscopic absorption cross section, cm^2\nparams['n fuel'] = 1.9577906e+21 #number density of the fuel, atoms/cm^3\nparams['I'] = 40.9870483 #resonance integral, I (dimensionless)\nparams['mod micro s'] = 20 * sc.zepto * sc.milli # moderator microscopic scattering cross section, cm^2\nparams['xi'] = 1 # average logarithmic energy decrement for light water\nparams['E0'] = 2 * sc.mega # energy of a neutron produced by fissioning, in electron volts\nparams['mod mu0'] = 0.71 # migration and diffusion area constants\nparams['eta'] = 1.03 # fast fission factor\nparams['epsilon'] = 2.05 # neutron multiplecation factor\nparams['mod molar mass'] = 18 # g/mol\n\nparams['reg_rod_worth'] = 1.5e-4 # pcm\n\nparams['n_dens_ss_operation'] = 1 #1.963e13/2200 * 1e4 #  #neutrons/m^2\n\n#Delayed neutron emission\nparams['species_decay']     = [0.0124, 0.0305, 0.111, 0.301, 1.14, 3.01] # 1/sec\nparams['species_rel_yield'] = [0.033, 0.219, 0.196, 0.395, 0.115, 0.042] \n\n#Data pertaining to two-temperature heat balances\nparams['fis_energy']           = 180 * 1.602e-13 # J/fission \nparams['enrich']               = 4.3/100.\nparams['fuel_mat_mass_dens']   = 10.5 # g/cc\n#params['moderator_fuel_ratio'] = 387 # atomic number concentration ratio\nparams['sigma_f_o']            = 586.2 * 100 * 1e-30 # m2\nparams['temp_o']               = 20 + 273.15 # K\nparams['thermal_neutron_velo'] = 2200 # m/s\n\nparams['fis_nuclide_num_dens_fake'] = 9.84e26 # (fissile nuclei)/m3\n\nparams['q_c'] = 303 # volumetric flow rate\n\nparams['fuel_dens']   = 10500 # kg/m3\nparams['cp_fuel']     = 300 # J/(kg K)\nparams['fuel_volume'] = 15.0157429 # m3\n\nparams['steam flowrate'] = 1820 # kg/s\nparams['coolant_dens']   = 600 #  kg/m3\nparams['cp_coolant']     =  4000# J/(mol K) - > J/(kg K)\nparams['coolant_volume'] = 3000 # m3\n\nparams['ht_coeff'] = 150000000000 # W/K\n\nparams['turbine efficiency'] = 0.8 \nparams['condenser efficiency'] = 0.8\nparams['pump efficiency'] = 0.8\n\nparams['fis_prod_beta_energy_rate']  = 1.26 * 1.602e-13 # J/(fission sec) 1.26 t^-1.2 (t in seconds)\nparams['fis_prod_alpha_energy_rate'] = 1.40 * 1.602e-13 # J/(fission sec) 1.40 t^-1.2 (t in seconds)\n# % subcooling based on the % subcooling that exists at steady state\nparams['% subcooling'] =  (1 -(steam_table._Region4(7, 0)[\"h\"]  - steam_table._Region1(493.15, 7)[\"h\"])/(steam_table._Region4(7,0)[\"h\"]))\n\nparams['shutdown temp reached'] = False",
      "execution_count": 23,
      "outputs": []
    },
    {
      "metadata": {
        "trusted": true
      },
      "cell_type": "code",
      "source": "'''Setup up initial conditions'''\n\nimport numpy as np\nimport scipy.constants as sc\n\nparams['malfunction start'] = 50 * sc.minute\nparams['malfunction end'] = 50 * sc.minute\nparams['shutdown time'] = 50 * sc.minute\n\ngen_time = params['gen_time'] # retrieve neutron generation time\nparams['q_0'] = 1\n\nparams['n_ss'] = 0 # neutronless steady state before start up\n\nrho_0_over_beta = 0.25 # $\nbeta = params['beta']\n\nparams['alpha_n'] = 0 # control rod reactivity worth; enough to cancel out the negative \n\nparams['reactivity'] = rho_0_over_beta * beta # \"rho/beta = 10 cents\"\n\nparams['temp_0'] = params['temp_o']\n\nparams['tau_fake'] = 2 # s\nparams['malfunction subcooling'] = 0.55\nparams['alpha_n_malfunction'] = 0\n\n# setup remaining initial conditions\nsetup_initial_conditions(params)",
      "execution_count": 24,
      "outputs": []
    },
    {
      "metadata": {
        "trusted": true
      },
      "cell_type": "code",
      "source": "'''Evolve the point-reactor'''\nimport scipy.constants as const\n\ntime_final    = 40 * const.minute \nn_time_stamps = 500 # number of solution values in time\n\nparams['time_final']    = time_final\nparams['n_time_stamps'] = n_time_stamps\n\n# Run the reactor and compute the history of the state variables; tabular form, one row per time stamp\nu_vec_history = run_point_reactor( f_vec, params )\n#print(u_vec_history)\nprint(\"done\")\n",
      "execution_count": 25,
      "outputs": [
        {
          "output_type": "stream",
          "text": "0.0\n293.15\n9.999999997838532e-07\n293.14992363547276\n9.999512497676243e-07\n293.1499240864825\n1.999902504341062e-06\n293.1498481701226\n1.9998537566950063e-06\n293.1498486197201\n8.672009388546851e-05\n293.14505657867693\n4.426834990626973e-05\n293.1448404859571\n1.77347126165259e-05\n293.1486610437387\n1.986248523056766e-06\n293.1487720286336\n2.4719645322814495e-06\n293.1498129861601\n2.471953665399116e-06\n293.14981308607605\n2.9440535722062445e-06\n293.1497775535514\n2.9440427055734382e-06\n293.1497776533171\n3.88819905341515e-06\n293.14970698688546\n3.8881990539106665e-06\n293.14970698658925\n4.83231193746635e-06\n293.1496367178881\n4.83231193846422e-06\n293.1496367172959\n5.776381360484807e-06\n293.1495668446986\n5.7763813614826274e-06\n293.1495668441084\n1.5214685594711803e-05\n293.1488896691737\n1.1280045593720348e-05\n293.14888964745546\n1.5214685262113023e-05\n293.14888986561664\n1.049311775989888e-05\n293.14888954196823\n7.664476746982078e-06\n293.1494274932502\n7.664302908714413e-06\n293.1494290729606\n9.552224488311969e-06\n293.14929128300946\n9.552050666005389e-06\n293.1492928534305\n1.332719858451547e-05\n293.1490235272853\n1.1438571395820236e-05\n293.14902350875957\n1.3327546196765815e-05\n293.14902040513505\n9.549596530154891e-06\n293.14902664954536\n9.791674420448148e-06\n293.1492755528868\n9.791671619937892e-06\n293.1492755780472\n1.0031292557755175e-05\n293.14925831197183\n9.791554383212963e-06\n293.1492583371062\n9.852105019259319e-06\n293.1492712234568\n9.852104841129523e-06\n293.14927122505554\n9.912538062289123e-06\n293.1492668720823\n9.912537884159851e-06\n293.14926687368074\n1.0033403613963559e-05\n293.1492581741269\n9.972941353369307e-06\n293.14925817412626\n9.912420301738088e-06\n293.14924948096336\n9.972882918765023e-06\n293.14924948096217\n9.972823949859435e-06\n293.1492407941869\n9.972823949861028e-06\n293.1492407941857\n9.972236062321387e-06\n293.14915427766965\n9.972236062267699e-06\n293.14915427700055\n9.97164820971512e-06\n293.1490683971174\n9.971648209714074e-06\n293.1490683959034\n9.971060392199107e-06\n293.14898314968553\n9.971060392198061e-06\n293.14898314847613\n9.965184143701112e-06\n293.1481650572325\n9.965184143657696e-06\n293.1481650143779\n9.959311396529189e-06\n293.1474075617623\n9.959311396573179e-06\n293.1474076465652\n9.9534421488658e-06\n293.14670874050466\n9.953442148866317e-06\n293.1467087770858\n9.94757639845106e-06\n293.14606618736997\n9.947576398451578e-06\n293.14606622258657\n9.88911078668547e-06\n293.14226631644226\n9.889110787824876e-06\n293.1423411896248\n9.83099261705315e-06\n293.1420911360612\n9.830992621603495e-06\n293.1423704640604\n9.773219829334538e-06\n293.14467325645086\n9.773219834477683e-06\n293.1449083103631\n9.71579036844387e-06\n293.1490476337276\n9.715790373556089e-06\n293.1491916219128\n9.633480879433144e-06\n293.1571614729715\n9.633480894289915e-06\n293.1574577736338\n9.551876630852587e-06\n293.1667495061818\n9.551876653237195e-06\n293.1671197930644\n9.470971584915336e-06\n293.1773928266722\n9.470971606667662e-06\n293.1775726889531\n9.390759741038298e-06\n293.1884717321081\n9.390759762604352e-06\n293.18855073256094\n9.30763777290492e-06\n293.20032747620706\n9.307636092563187e-06\n293.2003200942454\n9.225260229031587e-06\n293.2123499159367\n9.22525686464276e-06\n293.21227475344364\n9.143618752243092e-06\n293.2244015133406\n9.143615417957743e-06\n293.22435175416723\n9.062708441110565e-06\n293.2364958548593\n9.062705136728225e-06\n293.23647628338324\n8.982522745424714e-06\n293.2486409625315\n8.982519470642749e-06\n293.24864432993763\n8.90305517425419e-06\n293.2608501601401\n8.903051928807416e-06\n293.26085023046875\n8.14769566106075e-06\n293.3854041616296\n8.145926691176092e-06\n293.38545060117673\n7.457071185206091e-06\n293.5146913475089\n7.453999731499695e-06\n293.514777721466\n6.824513592953596e-06\n293.6489218032181\n6.8217043870962e-06\n293.64901146388286\n5.061209182125363e-06\n294.1443625898931\n5.055381223359095e-06\n294.14490233246374\n3.7192281495798667e-06\n294.70794040566295\n3.757500394606979e-06\n294.70791811457747\n2.7745766482216656e-06\n295.34646896031\n2.7941559163662406e-06\n295.3469127757503\n2.0742442808203163e-06\n296.07170558486524\n2.085865831051057e-06\n296.07222375329735\n1.3376839486013402e-06\n297.33405181093883\n1.3692806675279519e-06\n297.3359109829271\n8.703938322428917e-07\n298.85825398709386\n9.104716313882455e-07\n298.8615687805062\n5.922817390769957e-07\n300.699620484727\n6.145046838035388e-07\n300.7035767684968\n4.1502309030030537e-07\n302.9226637416636\n4.276099377835747e-07\n302.92742835725846\n2.769482965378962e-07\n306.2278952239095\n2.9307115990211924e-07\n306.23779164718263\n1.9816293878687395e-07\n310.37929019988627\n2.1313637519713182e-07\n310.39440524938436\n1.5849739584237903e-07\n315.5949631328452\n1.6521369575326038e-07\n315.6136973393908\n1.347263881407332e-07\n322.14348811008125\n1.3806673530285703e-07\n322.16696954319457\n1.1968553053516753e-07\n330.3656038815444\n1.2243766787441917e-07\n330.395102867769\n1.1129300878943201e-07\n340.68899503035084\n1.1290471489384519e-07\n340.7260224539909\n1.0639351014965433e-07\n353.6504484688273\n1.0709791341921921e-07\n353.69692205641775\n1.0308069305808454e-07\n369.9238128411605\n1.0352435557633256e-07\n369.98214007129604\n9.966261559113638e-08\n402.7362787207129\n1.0023648815443696e-07\n402.91166163845446\n9.914572919231357e-08\n449.36624643975534\n9.764822073940345e-08\n449.4298925507378\n9.825800638985013e-08\n514.9529994267191\n9.648636051558971e-08\n515.078754057872\n9.523395937392546e-08\n607.4635953856426\n9.593545486328854e-08\n607.7296241428517\n9.405965859632726e-08\n738.1303694592835\n",
          "name": "stdout"
        },
        {
          "output_type": "error",
          "ename": "NotImplementedError",
          "evalue": "Incoming out of bound",
          "traceback": [
            "\u001b[0;31m---------------------------------------------------------------------------\u001b[0m",
            "\u001b[0;31mNotImplementedError\u001b[0m                       Traceback (most recent call last)",
            "\u001b[0;32m<ipython-input-25-513b7980fec8>\u001b[0m in \u001b[0;36m<module>\u001b[0;34m\u001b[0m\n\u001b[1;32m      9\u001b[0m \u001b[0;34m\u001b[0m\u001b[0m\n\u001b[1;32m     10\u001b[0m \u001b[0;31m# Run the reactor and compute the history of the state variables; tabular form, one row per time stamp\u001b[0m\u001b[0;34m\u001b[0m\u001b[0;34m\u001b[0m\u001b[0m\n\u001b[0;32m---> 11\u001b[0;31m \u001b[0mu_vec_history\u001b[0m \u001b[0;34m=\u001b[0m \u001b[0mrun_point_reactor\u001b[0m\u001b[0;34m(\u001b[0m \u001b[0mf_vec\u001b[0m\u001b[0;34m,\u001b[0m \u001b[0mparams\u001b[0m \u001b[0;34m)\u001b[0m\u001b[0;34m\u001b[0m\u001b[0m\n\u001b[0m\u001b[1;32m     12\u001b[0m \u001b[0;31m#print(u_vec_history)\u001b[0m\u001b[0;34m\u001b[0m\u001b[0;34m\u001b[0m\u001b[0m\n\u001b[1;32m     13\u001b[0m \u001b[0mprint\u001b[0m\u001b[0;34m(\u001b[0m\u001b[0;34m\"done\"\u001b[0m\u001b[0;34m)\u001b[0m\u001b[0;34m\u001b[0m\u001b[0m\n",
            "\u001b[0;32m<ipython-input-13-61b11e6af222>\u001b[0m in \u001b[0;36mrun_point_reactor\u001b[0;34m(f_vec, params)\u001b[0m\n\u001b[1;32m     33\u001b[0m                                          \u001b[0margs\u001b[0m\u001b[0;34m=\u001b[0m\u001b[0;34m(\u001b[0m \u001b[0mparams\u001b[0m\u001b[0;34m,\u001b[0m \u001b[0;34m)\u001b[0m\u001b[0;34m,\u001b[0m\u001b[0;34m\u001b[0m\u001b[0m\n\u001b[1;32m     34\u001b[0m                                          \u001b[0mrtol\u001b[0m\u001b[0;34m=\u001b[0m\u001b[0;36m1e-4\u001b[0m\u001b[0;34m,\u001b[0m \u001b[0matol\u001b[0m\u001b[0;34m=\u001b[0m\u001b[0;36m1e-8\u001b[0m\u001b[0;34m,\u001b[0m \u001b[0mmxstep\u001b[0m\u001b[0;34m=\u001b[0m\u001b[0mmax_n_steps_per_time_step\u001b[0m\u001b[0;34m,\u001b[0m\u001b[0;34m\u001b[0m\u001b[0m\n\u001b[0;32m---> 35\u001b[0;31m                                          full_output=1, tfirst=True )\n\u001b[0m\u001b[1;32m     36\u001b[0m     \u001b[0;31m#print(n_dens)\u001b[0m\u001b[0;34m\u001b[0m\u001b[0;34m\u001b[0m\u001b[0m\n\u001b[1;32m     37\u001b[0m     \u001b[0;31m#print(u_vec)\u001b[0m\u001b[0;34m\u001b[0m\u001b[0;34m\u001b[0m\u001b[0m\n",
            "\u001b[0;32m~/anaconda3_501/lib/python3.6/site-packages/scipy/integrate/odepack.py\u001b[0m in \u001b[0;36modeint\u001b[0;34m(func, y0, t, args, Dfun, col_deriv, full_output, ml, mu, rtol, atol, tcrit, h0, hmax, hmin, ixpr, mxstep, mxhnil, mxordn, mxords, printmessg, tfirst)\u001b[0m\n\u001b[1;32m    231\u001b[0m                              \u001b[0mfull_output\u001b[0m\u001b[0;34m,\u001b[0m \u001b[0mrtol\u001b[0m\u001b[0;34m,\u001b[0m \u001b[0matol\u001b[0m\u001b[0;34m,\u001b[0m \u001b[0mtcrit\u001b[0m\u001b[0;34m,\u001b[0m \u001b[0mh0\u001b[0m\u001b[0;34m,\u001b[0m \u001b[0mhmax\u001b[0m\u001b[0;34m,\u001b[0m \u001b[0mhmin\u001b[0m\u001b[0;34m,\u001b[0m\u001b[0;34m\u001b[0m\u001b[0m\n\u001b[1;32m    232\u001b[0m                              \u001b[0mixpr\u001b[0m\u001b[0;34m,\u001b[0m \u001b[0mmxstep\u001b[0m\u001b[0;34m,\u001b[0m \u001b[0mmxhnil\u001b[0m\u001b[0;34m,\u001b[0m \u001b[0mmxordn\u001b[0m\u001b[0;34m,\u001b[0m \u001b[0mmxords\u001b[0m\u001b[0;34m,\u001b[0m\u001b[0;34m\u001b[0m\u001b[0m\n\u001b[0;32m--> 233\u001b[0;31m                              int(bool(tfirst)))\n\u001b[0m\u001b[1;32m    234\u001b[0m     \u001b[0;32mif\u001b[0m \u001b[0moutput\u001b[0m\u001b[0;34m[\u001b[0m\u001b[0;34m-\u001b[0m\u001b[0;36m1\u001b[0m\u001b[0;34m]\u001b[0m \u001b[0;34m<\u001b[0m \u001b[0;36m0\u001b[0m\u001b[0;34m:\u001b[0m\u001b[0;34m\u001b[0m\u001b[0m\n\u001b[1;32m    235\u001b[0m         \u001b[0mwarning_msg\u001b[0m \u001b[0;34m=\u001b[0m \u001b[0m_msgs\u001b[0m\u001b[0;34m[\u001b[0m\u001b[0moutput\u001b[0m\u001b[0;34m[\u001b[0m\u001b[0;34m-\u001b[0m\u001b[0;36m1\u001b[0m\u001b[0;34m]\u001b[0m\u001b[0;34m]\u001b[0m \u001b[0;34m+\u001b[0m \u001b[0;34m\" Run with full_output = 1 to get quantitative information.\"\u001b[0m\u001b[0;34m\u001b[0m\u001b[0m\n",
            "\u001b[0;32m<ipython-input-12-ce77730b8afe>\u001b[0m in \u001b[0;36mf_vec\u001b[0;34m(time, u_vec, params)\u001b[0m\n\u001b[1;32m     20\u001b[0m     \u001b[0;31m# neutron balance\u001b[0m\u001b[0;34m\u001b[0m\u001b[0;34m\u001b[0m\u001b[0m\n\u001b[1;32m     21\u001b[0m     \u001b[0;31m#----------------\u001b[0m\u001b[0;34m\u001b[0m\u001b[0;34m\u001b[0m\u001b[0m\n\u001b[0;32m---> 22\u001b[0;31m     \u001b[0mrho_t\u001b[0m    \u001b[0;34m=\u001b[0m \u001b[0mrho_func\u001b[0m\u001b[0;34m(\u001b[0m\u001b[0mtime\u001b[0m\u001b[0;34m,\u001b[0m \u001b[0mn_dens\u001b[0m\u001b[0;34m,\u001b[0m \u001b[0mtemp_c\u001b[0m\u001b[0;34m,\u001b[0m \u001b[0mparams\u001b[0m\u001b[0;34m)\u001b[0m\u001b[0;34m[\u001b[0m\u001b[0;36m0\u001b[0m\u001b[0;34m]\u001b[0m\u001b[0;34m\u001b[0m\u001b[0m\n\u001b[0m\u001b[1;32m     23\u001b[0m \u001b[0;34m\u001b[0m\u001b[0m\n\u001b[1;32m     24\u001b[0m     \u001b[0mbeta\u001b[0m     \u001b[0;34m=\u001b[0m \u001b[0mparams\u001b[0m\u001b[0;34m[\u001b[0m\u001b[0;34m'beta'\u001b[0m\u001b[0;34m]\u001b[0m\u001b[0;34m\u001b[0m\u001b[0m\n",
            "\u001b[0;32m<ipython-input-6-d6add16f84f2>\u001b[0m in \u001b[0;36mrho_func\u001b[0;34m(t, n_dens, temp, params)\u001b[0m\n\u001b[1;32m     29\u001b[0m     \u001b[0mprint\u001b[0m\u001b[0;34m(\u001b[0m\u001b[0mn_dens\u001b[0m\u001b[0;34m)\u001b[0m\u001b[0;34m\u001b[0m\u001b[0m\n\u001b[1;32m     30\u001b[0m \u001b[0;34m\u001b[0m\u001b[0m\n\u001b[0;32m---> 31\u001b[0;31m     \u001b[0malpha_tn\u001b[0m \u001b[0;34m=\u001b[0m \u001b[0malpha_tn_func\u001b[0m\u001b[0;34m(\u001b[0m\u001b[0mtemp\u001b[0m\u001b[0;34m,\u001b[0m \u001b[0mparams\u001b[0m\u001b[0;34m)\u001b[0m\u001b[0;34m\u001b[0m\u001b[0m\n\u001b[0m\u001b[1;32m     32\u001b[0m \u001b[0;34m\u001b[0m\u001b[0m\n\u001b[1;32m     33\u001b[0m     \u001b[0;32mif\u001b[0m \u001b[0mt\u001b[0m \u001b[0;34m>\u001b[0m \u001b[0mparams\u001b[0m\u001b[0;34m[\u001b[0m\u001b[0;34m'malfunction start'\u001b[0m\u001b[0;34m]\u001b[0m \u001b[0;32mand\u001b[0m \u001b[0mt\u001b[0m \u001b[0;34m<\u001b[0m \u001b[0mparams\u001b[0m\u001b[0;34m[\u001b[0m\u001b[0;34m'malfunction end'\u001b[0m\u001b[0;34m]\u001b[0m\u001b[0;34m:\u001b[0m \u001b[0;31m# reg rod held in position; only mod temp reactivity varies with time during malfunction\u001b[0m\u001b[0;34m\u001b[0m\u001b[0m\n",
            "\u001b[0;32m<ipython-input-5-957b0aaa51db>\u001b[0m in \u001b[0;36malpha_tn_func\u001b[0;34m(temp, params)\u001b[0m\n\u001b[1;32m      7\u001b[0m     \u001b[0;32mimport\u001b[0m \u001b[0miapws\u001b[0m\u001b[0;34m.\u001b[0m\u001b[0miapws97\u001b[0m \u001b[0;32mas\u001b[0m \u001b[0msteam\u001b[0m\u001b[0;34m\u001b[0m\u001b[0m\n\u001b[1;32m      8\u001b[0m     \u001b[0mprint\u001b[0m\u001b[0;34m(\u001b[0m\u001b[0mtemp\u001b[0m\u001b[0;34m)\u001b[0m\u001b[0;34m\u001b[0m\u001b[0m\n\u001b[0;32m----> 9\u001b[0;31m     \u001b[0mpressure\u001b[0m \u001b[0;34m=\u001b[0m \u001b[0msteam\u001b[0m\u001b[0;34m.\u001b[0m\u001b[0m_PSat_T\u001b[0m\u001b[0;34m(\u001b[0m\u001b[0mtemp\u001b[0m\u001b[0;34m)\u001b[0m\u001b[0;34m\u001b[0m\u001b[0m\n\u001b[0m\u001b[1;32m     10\u001b[0m \u001b[0;34m\u001b[0m\u001b[0m\n\u001b[1;32m     11\u001b[0m     \u001b[0md_rho\u001b[0m \u001b[0;34m=\u001b[0m \u001b[0mdiff\u001b[0m\u001b[0;34m.\u001b[0m\u001b[0mderivative\u001b[0m\u001b[0;34m(\u001b[0m\u001b[0mderivative_helper\u001b[0m\u001b[0;34m,\u001b[0m \u001b[0mtemp\u001b[0m\u001b[0;34m)\u001b[0m \u001b[0;31m# dRho/dTm\u001b[0m\u001b[0;34m\u001b[0m\u001b[0m\n",
            "\u001b[0;32m~/anaconda3_501/lib/python3.6/site-packages/iapws/iapws97.py\u001b[0m in \u001b[0;36m_PSat_T\u001b[0;34m(T)\u001b[0m\n\u001b[1;32m    308\u001b[0m     \u001b[0;31m# Check input parameters\u001b[0m\u001b[0;34m\u001b[0m\u001b[0;34m\u001b[0m\u001b[0m\n\u001b[1;32m    309\u001b[0m     \u001b[0;32mif\u001b[0m \u001b[0mT\u001b[0m \u001b[0;34m<\u001b[0m \u001b[0;36m273.15\u001b[0m \u001b[0;32mor\u001b[0m \u001b[0mT\u001b[0m \u001b[0;34m>\u001b[0m \u001b[0mTc\u001b[0m\u001b[0;34m:\u001b[0m\u001b[0;34m\u001b[0m\u001b[0m\n\u001b[0;32m--> 310\u001b[0;31m         \u001b[0;32mraise\u001b[0m \u001b[0mNotImplementedError\u001b[0m\u001b[0;34m(\u001b[0m\u001b[0;34m\"Incoming out of bound\"\u001b[0m\u001b[0;34m)\u001b[0m\u001b[0;34m\u001b[0m\u001b[0m\n\u001b[0m\u001b[1;32m    311\u001b[0m \u001b[0;34m\u001b[0m\u001b[0m\n\u001b[1;32m    312\u001b[0m     n = [0, 0.11670521452767E+04, -0.72421316703206E+06, -0.17073846940092E+02,\n",
            "\u001b[0;31mNotImplementedError\u001b[0m: Incoming out of bound"
          ]
        }
      ]
    },
    {
      "metadata": {
        "trusted": true
      },
      "cell_type": "code",
      "source": "plot_results(u_vec_history, params)",
      "execution_count": null,
      "outputs": []
    },
    {
      "metadata": {},
      "cell_type": "markdown",
      "source": "Neutron and delayed emitter concentrations follow the predicted S-shape pattern, with initial quick growth followed by a horizontal asymptope around steady state."
    },
    {
      "metadata": {
        "trusted": true
      },
      "cell_type": "code",
      "source": "import matplotlib.pyplot as plt\nheat_data = quantities1(u_vec_history, params, params['time_stamps'])\nplt.figure(figsize=(22, 8))\nplt.plot(params['time_stamps']/3600, heat_data[\"q''' [gW/m3]\"], params['time_stamps']/3600, heat_data[\"heat removed [gW/m3]\"])\nplt.grid()\nplt.rc('font', size=12)\nplt.xlabel('Time [h]')\nplt.ylabel('Power [GW]')\nplt.title('Heat Data')\nplt.legend([\"q'''\", \"heat removed\"])\nplt.show()",
      "execution_count": null,
      "outputs": []
    },
    {
      "metadata": {
        "trusted": true
      },
      "cell_type": "code",
      "source": "quants = quantities3(u_vec_history, params, params['time_stamps'])\nplt.figure(figsize=(22, 8))\nplt.plot(params['time_stamps'], quants[0])\nplt.grid()\nplt.rc('font', size=12)\nplt.xlabel('Time [s]')\nplt.ylabel('Reactivity')\nplt.title('Reactivity Data')\nplt.legend(['Total Reactivity','Moderator temperature Reactivity'])\nplt.show()\n",
      "execution_count": null,
      "outputs": []
    },
    {
      "metadata": {
        "trusted": true
      },
      "cell_type": "code",
      "source": "plt.figure(figsize=(22, 8))\nplt.plot(params['time_stamps'], quants[1])\nplt.grid()\nplt.rc('font', size=12)\nplt.xlabel('Time [s]')\nplt.ylabel('Position [cm]')\nplt.title('Regulating Rod Position')",
      "execution_count": null,
      "outputs": []
    },
    {
      "metadata": {},
      "cell_type": "markdown",
      "source": "Q''' and heat removed increase fairly quickly before reaching steady state in about 5-10 minutes. There is an initial spike in and then loss of heat removed as the neutron source is inserted and then quickly removed from the system, with heat removed staying mostly constant over this period of time."
    },
    {
      "metadata": {
        "trusted": true
      },
      "cell_type": "code",
      "source": "work_data = quantities2(u_vec_history, params, params['time_stamps'])\nplt.figure(figsize=(22, 8))\nplt.plot(params['time_stamps']/3600, work_data)\nplt.grid()\nplt.rc('font', size=12)\nplt.xlabel('Time [h]')\nplt.ylabel('Power [GW]')\nplt.title('Turbine, Condenser, and Net Power vs Time For Reactor Startup')\nplt.legend(['Turbine Power','Condenser Power', 'Net Power'])\nplt.show()\n",
      "execution_count": null,
      "outputs": []
    },
    {
      "metadata": {},
      "cell_type": "markdown",
      "source": "Condenser work reaches its maximum at the beginning of startup and then decays over time, while turbine work starts at zero until it climbs to its maximum near the beginning of steady state operation, corresponding with turbine work becoming larger than condenser work with net work becoming positive around 0.5 gW. This change in work done corresponds with the second temperature jump after neutron source insertion and removal."
    },
    {
      "metadata": {
        "trusted": true
      },
      "cell_type": "code",
      "source": "tmp()",
      "execution_count": null,
      "outputs": []
    },
    {
      "metadata": {},
      "cell_type": "markdown",
      "source": "Coolant and fuel temperatures spike heavily initially with the insertion and then removal of the initial neutron source. Two horizontal asymptotes can be observed in the temperature graphs. They can be explained as follows: after the initial neutron source insertion and removal, the two temperatures of the reactor go to an initial steady state condition where they are are seperated by approximately 50 K in temperature, with Q''' and heat removed being quite low as neutron density fails to increase. As neutron density begins to ramp up, so to do Q''', heat removed, and the temperatures of both the fuel and the coolant. This begins at around 400 seconds and continues until the reactor reaches steady state neutron density at around 800 seconds, closely mirroring the neutron density in this second region."
    },
    {
      "metadata": {
        "trusted": true
      },
      "cell_type": "code",
      "source": "",
      "execution_count": null,
      "outputs": []
    }
  ],
  "metadata": {
    "celltoolbar": "Tags",
    "kernelspec": {
      "name": "python36",
      "display_name": "Python 3.6",
      "language": "python"
    },
    "latex_envs": {
      "LaTeX_envs_menu_present": true,
      "autoclose": false,
      "autocomplete": true,
      "bibliofile": "biblio.bib",
      "cite_by": "apalike",
      "current_citInitial": 1,
      "eqLabelWithNumbers": true,
      "eqNumInitial": 1,
      "hotkeys": {
        "equation": "Ctrl-E",
        "itemize": "Ctrl-I"
      },
      "labels_anchors": false,
      "latex_user_defs": false,
      "report_style_numbering": false,
      "user_envs_cfg": false
    },
    "language_info": {
      "mimetype": "text/x-python",
      "nbconvert_exporter": "python",
      "name": "python",
      "pygments_lexer": "ipython3",
      "version": "3.6.6",
      "file_extension": ".py",
      "codemirror_mode": {
        "version": 3,
        "name": "ipython"
      }
    }
  },
  "nbformat": 4,
  "nbformat_minor": 2
}