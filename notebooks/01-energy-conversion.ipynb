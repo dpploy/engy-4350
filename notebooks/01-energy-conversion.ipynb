{
 "cells": [
  {
   "cell_type": "markdown",
   "metadata": {},
   "source": [
    "Engy-4350: Nuclear Reactor Engineering Spring 2019 UMass Lowell; Prof. V. F. de Almeida **19Jan2019**\n",
    "\n",
    "# 01. Nuclear Energy Conversion"
   ]
  },
  {
   "cell_type": "markdown",
   "metadata": {},
   "source": [
    "---\n",
    "\n",
    "## Table of Contents\n",
    "* [Introduction to nuclear energy conversion](#intro)\n",
    " + Direct collection cycle\n",
    " + Interaction-energy cycle\n",
    " + Heat cycle\n",
    "* Nuclear energy praise (and protest)\n",
    " + [Small nuclear reactors (DOD)](docs/dod-nuclear-energy.pdf)\n",
    " + [Small nuclear reactors (US Army)](docs/us-army-vsmr.pdf)\n",
    " + [NASA fission power](docs/nasa-nuclear-power.pdf)\n",
    " + [US congress laws](https://www.aip.org/fyi/2019/congress-and-doe-look-spur-new-nuclear-reactor-designs)\n",
    " + [Bill Gates energy 202](https://www.washingtonpost.com/news/powerpost/paloma/the-energy-202/2019/01/28/the-energy-202-bill-gates-is-selling-washington-on-the-promise-of-nuclear-power/5c4e33e71b326b29c3778ce0/?noredirect=on&tid&utm_term=.5219d4e248ab)\n",
    "---"
   ]
  },
  {
   "cell_type": "markdown",
   "metadata": {},
   "source": [
    "## Introduction to Nuclear Energy Conversion<a id=\"intro\"></a>\n",
    "\n",
    "In-class course notes OneNote [ChEn-4350-conversion](https://studentuml-my.sharepoint.com/:o:/g/personal/valmor_dealmeida_uml_edu/ErtV_15ZZJtLhcdNbtB4avcBwlEgUWmaTkx6Pa2tVIPpyQ?e=DyFiG9)."
   ]
  },
  {
   "cell_type": "markdown",
   "metadata": {},
   "source": [
    "### Battery Energy Quantities<a id=\"battery\"></a>\n",
    "\n",
    "Data from [here](https://greentransportation.info/energy-transportation/energy-density.html) to compare with classroom notes.\n",
    "\n",
    "\n",
    "|**Battery type**|**Specific Energy**|**Energy Density**|**Specific Power**|**Cycle Durability**|**Notes**|\n",
    "|:--------------:|:-----------------:|:----------------:|:----------------:|:------------------:|:-------:|\n",
    "|Lead Acid Battery| \t33–42 Wh/kg |\t60–110 Wh/L |\t180 W/kg |\t500–800 cycles |\tThe oldest form of electrical battery, originally developed in the 1850's. It's the low cost that keeps this technology alive.\n",
    "|Nickel Cadmium |\t40–60 Wh/kg |\t50–150 Wh/L |\t150 W/kg |\t2,000 cycles |\tThese nickel-based batteries have a history dating back to the 1890's, and have at times been in wide use. Their higher energy density than lead-acid batteries is what made them attractive. However, because Cadmium is carcinogenic, the market share for Ni-Cd batteries is falling rapidly and in some areas you simply cannot buy them.\n",
    "|Nickel Metal-Hydride |\t60–120 Wh/kg |\t140–300 Wh/L |\t250–1,000 W/kg |\t500–2000 cycles |\tThese nickel-based batteries have negative electrodes made of a hydrogen-absorbing metal alloy. The workable form of this battery chemistry was developed by Ovonic Battery Company (Energy Conversion Devices), but has become caught up in a patent encumbrance situation causing some to scream about oil companies trying to undermine electric vehicles. Whether or not that's true, NiMH batteries are of less interest to EV's because lithium-ion batteries have a higher energy density.\n",
    "| Nickel Zinc |\t100 Wh/kg |\t280 Wh/L |\t> 3000 W/kg |\t400–1000 cycles |\tOriginally developed in 1901 in Edison's laboratories. A few current manufacturers, including PowerGenix.\n",
    "| Lithium-Ion |\t100–265 W·h/kg (0.36–0.95 MJ/kg) |\t250–620 W·h/L (0.90–2.23 MJ/L) |\t~250-~340 W/kg |\t400–1200 cycles |\tThese are batteries using lithium, not in a metallic form but ionically bound to other materials. There are several types of lithium-ion batteries distinguished by specific chemistries.\n",
    "|Lithium Polymer |\t100–265 Wh/kg (0.36–0.95 MJ/kg) |\t250–730 Wh/L (0.90–2.23 MJ/L) \t|\t|\tThere are two meanings to Li-Poly cells. The name can refer to a \"polymer electrode\", or in other cases to cells packaged in small pouches.\n",
    "| Lithium Iron Phosphate |\t90–110 Wh/kg (320–400 J/g) |\t220 Wh/L (790 kJ/L) |\taround 2400 W/kg |\t2,000 cycles |\tThis chemistry is a type of lithium-ion battery, and while its energy density figures are more modest than other types, they offer a better lifetime and are inherently safer.\n",
    "|Lithium Sulfur |\t500 W·h/kg demonstrated |\t350 W·h/l \t|\tdisputed |\tThis chemistry is a hoped-for successor to the Lithium-Ion type of battery, because of its very high energy density. The main problem is volumetric distortion, that is the battery swells up considerably. That causes major mechnical stress and battery components degrade rapidly.\n",
    "| Lithium Air |\t11,140 (theoretical) Wh/kg |\t??? |\t??? |\t??? |\tFirst proposed in 1970, this battery type is very difficult to develop. \"Air\" forms part of the circuit, but lithium metal oxidizes rapidly in the air."
   ]
  },
  {
   "cell_type": "code",
   "execution_count": null,
   "metadata": {},
   "outputs": [],
   "source": []
  }
 ],
 "metadata": {
  "kernelspec": {
   "display_name": "Python 3",
   "language": "python",
   "name": "python3"
  },
  "language_info": {
   "codemirror_mode": {
    "name": "ipython",
    "version": 3
   },
   "file_extension": ".py",
   "mimetype": "text/x-python",
   "name": "python",
   "nbconvert_exporter": "python",
   "pygments_lexer": "ipython3",
   "version": "3.7.1"
  },
  "latex_envs": {
   "LaTeX_envs_menu_present": true,
   "autoclose": false,
   "autocomplete": true,
   "bibliofile": "biblio.bib",
   "cite_by": "apalike",
   "current_citInitial": 1,
   "eqLabelWithNumbers": true,
   "eqNumInitial": 1,
   "hotkeys": {
    "equation": "Ctrl-E",
    "itemize": "Ctrl-I"
   },
   "labels_anchors": false,
   "latex_user_defs": false,
   "report_style_numbering": false,
   "user_envs_cfg": false
  }
 },
 "nbformat": 4,
 "nbformat_minor": 2
}
